{
  "cells": [
    {
      "cell_type": "markdown",
      "metadata": {
        "id": "view-in-github",
        "colab_type": "text"
      },
      "source": [
        "<a href=\"https://colab.research.google.com/github/VilasSonawane/NYCTaxiTimePrediction-Model1/blob/main/Vilas_Copy_of_NYC_Taxi_Trip_Time_Prediction_Capstone_Project.ipynb\" target=\"_parent\"><img src=\"https://colab.research.google.com/assets/colab-badge.svg\" alt=\"Open In Colab\"/></a>"
      ]
    },
    {
      "cell_type": "markdown",
      "metadata": {
        "id": "tOGC-qoyhJeX"
      },
      "source": [
        "# <b><u> Project Title : Taxi trip time Prediction : Predicting total ride duration of taxi trips in New York City</u></b>"
      ]
    },
    {
      "cell_type": "markdown",
      "metadata": {
        "id": "Y06xIdG26kRF"
      },
      "source": [
        "## <b> Problem Description </b>\n",
        "\n",
        "### Your task is to build a model that predicts the total ride duration of taxi trips in New York City. Your primary dataset is one released by the NYC Taxi and Limousine Commission, which includes pickup time, geo-coordinates, number of passengers, and several other variables."
      ]
    },
    {
      "cell_type": "markdown",
      "metadata": {
        "id": "WWeU1f9bwqQq"
      },
      "source": [
        "## <b> Data Description </b>\n",
        "\n",
        "### The dataset is based on the 2016 NYC Yellow Cab trip record data made available in Big Query on Google Cloud Platform. The data was originally published by the NYC Taxi and Limousine Commission (TLC). The data was sampled and cleaned for the purposes of this project. Based on individual trip attributes, you should predict the duration of each trip in the test set.\n",
        "\n",
        "### <b>NYC Taxi Data.csv</b> - the training set (contains 1458644 trip records)\n",
        "\n",
        "\n",
        "### Data fields\n",
        "* #### id - a unique identifier for each trip\n",
        "* #### vendor_id - a code indicating the provider associated with the trip record\n",
        "* #### pickup_datetime - date and time when the meter was engaged\n",
        "* #### dropoff_datetime - date and time when the meter was disengaged\n",
        "* #### passenger_count - the number of passengers in the vehicle (driver entered value)\n",
        "* #### pickup_longitude - the longitude where the meter was engaged\n",
        "* #### pickup_latitude - the latitude where the meter was engaged\n",
        "* #### dropoff_longitude - the longitude where the meter was disengaged\n",
        "* #### dropoff_latitude - the latitude where the meter was disengaged\n",
        "* #### store_and_fwd_flag - This flag indicates whether the trip record was held in vehicle memory before sending to the vendor because the vehicle did not have a connection to the server - Y=store and forward; N=not a store and forward trip\n",
        "* #### trip_duration - duration of the trip in seconds"
      ]
    },
    {
      "cell_type": "markdown",
      "metadata": {
        "id": "-HIIXVD-RZN0"
      },
      "source": [
        "#<b>Import libraries"
      ]
    },
    {
      "cell_type": "code",
      "execution_count": 2,
      "metadata": {
        "colab": {
          "base_uri": "https://localhost:8080/"
        },
        "id": "n-iOv8vcMfXb",
        "outputId": "62b8f314-5107-42ec-fd3c-3607923e7f33"
      },
      "outputs": [
        {
          "output_type": "stream",
          "name": "stdout",
          "text": [
            "Requirement already satisfied: klib in /usr/local/lib/python3.7/dist-packages (1.0.1)\n",
            "Requirement already satisfied: Jinja2<4.0.0,>=3.0.3 in /usr/local/lib/python3.7/dist-packages (from klib) (3.0.3)\n",
            "Requirement already satisfied: scipy<2.0.0,>=1.1.0 in /usr/local/lib/python3.7/dist-packages (from klib) (1.4.1)\n",
            "Requirement already satisfied: numpy<2.0.0,>=1.16.3 in /usr/local/lib/python3.7/dist-packages (from klib) (1.21.5)\n",
            "Requirement already satisfied: seaborn<0.12.0,>=0.11.1 in /usr/local/lib/python3.7/dist-packages (from klib) (0.11.2)\n",
            "Requirement already satisfied: matplotlib<4.0.0,>=3.0.3 in /usr/local/lib/python3.7/dist-packages (from klib) (3.2.2)\n",
            "Requirement already satisfied: pandas<2.0.0,>=1.1.2 in /usr/local/lib/python3.7/dist-packages (from klib) (1.3.5)\n",
            "Requirement already satisfied: MarkupSafe>=2.0 in /usr/local/lib/python3.7/dist-packages (from Jinja2<4.0.0,>=3.0.3->klib) (2.0.1)\n",
            "Requirement already satisfied: kiwisolver>=1.0.1 in /usr/local/lib/python3.7/dist-packages (from matplotlib<4.0.0,>=3.0.3->klib) (1.3.2)\n",
            "Requirement already satisfied: cycler>=0.10 in /usr/local/lib/python3.7/dist-packages (from matplotlib<4.0.0,>=3.0.3->klib) (0.11.0)\n",
            "Requirement already satisfied: python-dateutil>=2.1 in /usr/local/lib/python3.7/dist-packages (from matplotlib<4.0.0,>=3.0.3->klib) (2.8.2)\n",
            "Requirement already satisfied: pyparsing!=2.0.4,!=2.1.2,!=2.1.6,>=2.0.1 in /usr/local/lib/python3.7/dist-packages (from matplotlib<4.0.0,>=3.0.3->klib) (3.0.7)\n",
            "Requirement already satisfied: pytz>=2017.3 in /usr/local/lib/python3.7/dist-packages (from pandas<2.0.0,>=1.1.2->klib) (2018.9)\n",
            "Requirement already satisfied: six>=1.5 in /usr/local/lib/python3.7/dist-packages (from python-dateutil>=2.1->matplotlib<4.0.0,>=3.0.3->klib) (1.15.0)\n"
          ]
        }
      ],
      "source": [
        "!pip install klib"
      ]
    },
    {
      "cell_type": "code",
      "execution_count": 3,
      "metadata": {
        "id": "dByMsuzT8Tnw"
      },
      "outputs": [],
      "source": [
        "import klib \n",
        "import numpy as np\n",
        "import pandas as pd\n",
        "import seaborn as sns\n",
        "\n",
        "from sklearn.metrics import accuracy_score, auc\n",
        "from sklearn.model_selection import train_test_split\n",
        "from sklearn.tree import DecisionTreeRegressor\n",
        "\n",
        "import matplotlib.pyplot as plt\n",
        "from sklearn.tree import plot_tree\n",
        "import datetime as dt\n",
        "import warnings; warnings.simplefilter('ignore')"
      ]
    },
    {
      "cell_type": "markdown",
      "metadata": {
        "id": "U7JS-FugSJJK"
      },
      "source": [
        "#<b>Mount Google Drive"
      ]
    },
    {
      "cell_type": "code",
      "execution_count": 4,
      "metadata": {
        "colab": {
          "base_uri": "https://localhost:8080/"
        },
        "id": "JLTSaURzLeuY",
        "outputId": "4fd0cd9f-3280-45fa-f7f8-c0c7b80b73ac"
      },
      "outputs": [
        {
          "output_type": "stream",
          "name": "stdout",
          "text": [
            "Drive already mounted at /content/drive; to attempt to forcibly remount, call drive.mount(\"/content/drive\", force_remount=True).\n"
          ]
        }
      ],
      "source": [
        "from google.colab import drive\n",
        "drive.mount('/content/drive')"
      ]
    },
    {
      "cell_type": "markdown",
      "metadata": {
        "id": "-pJlgM-3SgmY"
      },
      "source": [
        "#<b>Import Dataset"
      ]
    },
    {
      "cell_type": "code",
      "execution_count": 5,
      "metadata": {
        "id": "bIyyLXxuLerM"
      },
      "outputs": [],
      "source": [
        "# Importing the dataset\n",
        "path = '/content/drive/My Drive/NYC Taxi Trip Prediction/Data & Resources/NYC Taxi Data.csv'\n",
        "nyc_taxi = pd.read_csv(path)"
      ]
    },
    {
      "cell_type": "markdown",
      "source": [
        "#<b>Data Overview"
      ],
      "metadata": {
        "id": "gmF02-jQh9YW"
      }
    },
    {
      "cell_type": "code",
      "source": [
        "nyc_taxi.shape"
      ],
      "metadata": {
        "colab": {
          "base_uri": "https://localhost:8080/"
        },
        "id": "BzqRyutVeKiq",
        "outputId": "14ebd041-74e8-4b85-88e3-462c1f5dd426"
      },
      "execution_count": 6,
      "outputs": [
        {
          "output_type": "execute_result",
          "data": {
            "text/plain": [
              "(1458644, 11)"
            ]
          },
          "metadata": {},
          "execution_count": 6
        }
      ]
    },
    {
      "cell_type": "code",
      "source": [
        "nyc_taxi.head()"
      ],
      "metadata": {
        "colab": {
          "base_uri": "https://localhost:8080/",
          "height": 357
        },
        "id": "AJUYntHJcoBc",
        "outputId": "d8d72cc3-259e-402d-9dca-8cfd487f6832"
      },
      "execution_count": 7,
      "outputs": [
        {
          "output_type": "execute_result",
          "data": {
            "text/plain": [
              "          id  vendor_id      pickup_datetime     dropoff_datetime  \\\n",
              "0  id2875421          2  2016-03-14 17:24:55  2016-03-14 17:32:30   \n",
              "1  id2377394          1  2016-06-12 00:43:35  2016-06-12 00:54:38   \n",
              "2  id3858529          2  2016-01-19 11:35:24  2016-01-19 12:10:48   \n",
              "3  id3504673          2  2016-04-06 19:32:31  2016-04-06 19:39:40   \n",
              "4  id2181028          2  2016-03-26 13:30:55  2016-03-26 13:38:10   \n",
              "\n",
              "   passenger_count  pickup_longitude  pickup_latitude  dropoff_longitude  \\\n",
              "0                1        -73.982155        40.767937         -73.964630   \n",
              "1                1        -73.980415        40.738564         -73.999481   \n",
              "2                1        -73.979027        40.763939         -74.005333   \n",
              "3                1        -74.010040        40.719971         -74.012268   \n",
              "4                1        -73.973053        40.793209         -73.972923   \n",
              "\n",
              "   dropoff_latitude store_and_fwd_flag  trip_duration  \n",
              "0         40.765602                  N            455  \n",
              "1         40.731152                  N            663  \n",
              "2         40.710087                  N           2124  \n",
              "3         40.706718                  N            429  \n",
              "4         40.782520                  N            435  "
            ],
            "text/html": [
              "\n",
              "  <div id=\"df-ded84105-397a-4710-a8ee-7aec75f8d438\">\n",
              "    <div class=\"colab-df-container\">\n",
              "      <div>\n",
              "<style scoped>\n",
              "    .dataframe tbody tr th:only-of-type {\n",
              "        vertical-align: middle;\n",
              "    }\n",
              "\n",
              "    .dataframe tbody tr th {\n",
              "        vertical-align: top;\n",
              "    }\n",
              "\n",
              "    .dataframe thead th {\n",
              "        text-align: right;\n",
              "    }\n",
              "</style>\n",
              "<table border=\"1\" class=\"dataframe\">\n",
              "  <thead>\n",
              "    <tr style=\"text-align: right;\">\n",
              "      <th></th>\n",
              "      <th>id</th>\n",
              "      <th>vendor_id</th>\n",
              "      <th>pickup_datetime</th>\n",
              "      <th>dropoff_datetime</th>\n",
              "      <th>passenger_count</th>\n",
              "      <th>pickup_longitude</th>\n",
              "      <th>pickup_latitude</th>\n",
              "      <th>dropoff_longitude</th>\n",
              "      <th>dropoff_latitude</th>\n",
              "      <th>store_and_fwd_flag</th>\n",
              "      <th>trip_duration</th>\n",
              "    </tr>\n",
              "  </thead>\n",
              "  <tbody>\n",
              "    <tr>\n",
              "      <th>0</th>\n",
              "      <td>id2875421</td>\n",
              "      <td>2</td>\n",
              "      <td>2016-03-14 17:24:55</td>\n",
              "      <td>2016-03-14 17:32:30</td>\n",
              "      <td>1</td>\n",
              "      <td>-73.982155</td>\n",
              "      <td>40.767937</td>\n",
              "      <td>-73.964630</td>\n",
              "      <td>40.765602</td>\n",
              "      <td>N</td>\n",
              "      <td>455</td>\n",
              "    </tr>\n",
              "    <tr>\n",
              "      <th>1</th>\n",
              "      <td>id2377394</td>\n",
              "      <td>1</td>\n",
              "      <td>2016-06-12 00:43:35</td>\n",
              "      <td>2016-06-12 00:54:38</td>\n",
              "      <td>1</td>\n",
              "      <td>-73.980415</td>\n",
              "      <td>40.738564</td>\n",
              "      <td>-73.999481</td>\n",
              "      <td>40.731152</td>\n",
              "      <td>N</td>\n",
              "      <td>663</td>\n",
              "    </tr>\n",
              "    <tr>\n",
              "      <th>2</th>\n",
              "      <td>id3858529</td>\n",
              "      <td>2</td>\n",
              "      <td>2016-01-19 11:35:24</td>\n",
              "      <td>2016-01-19 12:10:48</td>\n",
              "      <td>1</td>\n",
              "      <td>-73.979027</td>\n",
              "      <td>40.763939</td>\n",
              "      <td>-74.005333</td>\n",
              "      <td>40.710087</td>\n",
              "      <td>N</td>\n",
              "      <td>2124</td>\n",
              "    </tr>\n",
              "    <tr>\n",
              "      <th>3</th>\n",
              "      <td>id3504673</td>\n",
              "      <td>2</td>\n",
              "      <td>2016-04-06 19:32:31</td>\n",
              "      <td>2016-04-06 19:39:40</td>\n",
              "      <td>1</td>\n",
              "      <td>-74.010040</td>\n",
              "      <td>40.719971</td>\n",
              "      <td>-74.012268</td>\n",
              "      <td>40.706718</td>\n",
              "      <td>N</td>\n",
              "      <td>429</td>\n",
              "    </tr>\n",
              "    <tr>\n",
              "      <th>4</th>\n",
              "      <td>id2181028</td>\n",
              "      <td>2</td>\n",
              "      <td>2016-03-26 13:30:55</td>\n",
              "      <td>2016-03-26 13:38:10</td>\n",
              "      <td>1</td>\n",
              "      <td>-73.973053</td>\n",
              "      <td>40.793209</td>\n",
              "      <td>-73.972923</td>\n",
              "      <td>40.782520</td>\n",
              "      <td>N</td>\n",
              "      <td>435</td>\n",
              "    </tr>\n",
              "  </tbody>\n",
              "</table>\n",
              "</div>\n",
              "      <button class=\"colab-df-convert\" onclick=\"convertToInteractive('df-ded84105-397a-4710-a8ee-7aec75f8d438')\"\n",
              "              title=\"Convert this dataframe to an interactive table.\"\n",
              "              style=\"display:none;\">\n",
              "        \n",
              "  <svg xmlns=\"http://www.w3.org/2000/svg\" height=\"24px\"viewBox=\"0 0 24 24\"\n",
              "       width=\"24px\">\n",
              "    <path d=\"M0 0h24v24H0V0z\" fill=\"none\"/>\n",
              "    <path d=\"M18.56 5.44l.94 2.06.94-2.06 2.06-.94-2.06-.94-.94-2.06-.94 2.06-2.06.94zm-11 1L8.5 8.5l.94-2.06 2.06-.94-2.06-.94L8.5 2.5l-.94 2.06-2.06.94zm10 10l.94 2.06.94-2.06 2.06-.94-2.06-.94-.94-2.06-.94 2.06-2.06.94z\"/><path d=\"M17.41 7.96l-1.37-1.37c-.4-.4-.92-.59-1.43-.59-.52 0-1.04.2-1.43.59L10.3 9.45l-7.72 7.72c-.78.78-.78 2.05 0 2.83L4 21.41c.39.39.9.59 1.41.59.51 0 1.02-.2 1.41-.59l7.78-7.78 2.81-2.81c.8-.78.8-2.07 0-2.86zM5.41 20L4 18.59l7.72-7.72 1.47 1.35L5.41 20z\"/>\n",
              "  </svg>\n",
              "      </button>\n",
              "      \n",
              "  <style>\n",
              "    .colab-df-container {\n",
              "      display:flex;\n",
              "      flex-wrap:wrap;\n",
              "      gap: 12px;\n",
              "    }\n",
              "\n",
              "    .colab-df-convert {\n",
              "      background-color: #E8F0FE;\n",
              "      border: none;\n",
              "      border-radius: 50%;\n",
              "      cursor: pointer;\n",
              "      display: none;\n",
              "      fill: #1967D2;\n",
              "      height: 32px;\n",
              "      padding: 0 0 0 0;\n",
              "      width: 32px;\n",
              "    }\n",
              "\n",
              "    .colab-df-convert:hover {\n",
              "      background-color: #E2EBFA;\n",
              "      box-shadow: 0px 1px 2px rgba(60, 64, 67, 0.3), 0px 1px 3px 1px rgba(60, 64, 67, 0.15);\n",
              "      fill: #174EA6;\n",
              "    }\n",
              "\n",
              "    [theme=dark] .colab-df-convert {\n",
              "      background-color: #3B4455;\n",
              "      fill: #D2E3FC;\n",
              "    }\n",
              "\n",
              "    [theme=dark] .colab-df-convert:hover {\n",
              "      background-color: #434B5C;\n",
              "      box-shadow: 0px 1px 3px 1px rgba(0, 0, 0, 0.15);\n",
              "      filter: drop-shadow(0px 1px 2px rgba(0, 0, 0, 0.3));\n",
              "      fill: #FFFFFF;\n",
              "    }\n",
              "  </style>\n",
              "\n",
              "      <script>\n",
              "        const buttonEl =\n",
              "          document.querySelector('#df-ded84105-397a-4710-a8ee-7aec75f8d438 button.colab-df-convert');\n",
              "        buttonEl.style.display =\n",
              "          google.colab.kernel.accessAllowed ? 'block' : 'none';\n",
              "\n",
              "        async function convertToInteractive(key) {\n",
              "          const element = document.querySelector('#df-ded84105-397a-4710-a8ee-7aec75f8d438');\n",
              "          const dataTable =\n",
              "            await google.colab.kernel.invokeFunction('convertToInteractive',\n",
              "                                                     [key], {});\n",
              "          if (!dataTable) return;\n",
              "\n",
              "          const docLinkHtml = 'Like what you see? Visit the ' +\n",
              "            '<a target=\"_blank\" href=https://colab.research.google.com/notebooks/data_table.ipynb>data table notebook</a>'\n",
              "            + ' to learn more about interactive tables.';\n",
              "          element.innerHTML = '';\n",
              "          dataTable['output_type'] = 'display_data';\n",
              "          await google.colab.output.renderOutput(dataTable, element);\n",
              "          const docLink = document.createElement('div');\n",
              "          docLink.innerHTML = docLinkHtml;\n",
              "          element.appendChild(docLink);\n",
              "        }\n",
              "      </script>\n",
              "    </div>\n",
              "  </div>\n",
              "  "
            ]
          },
          "metadata": {},
          "execution_count": 7
        }
      ]
    },
    {
      "cell_type": "code",
      "source": [
        "nyc_taxi.info()"
      ],
      "metadata": {
        "colab": {
          "base_uri": "https://localhost:8080/"
        },
        "id": "Ug9PFjGhcv4Y",
        "outputId": "011a1fc9-2c24-48e0-c626-0eab4a08174e"
      },
      "execution_count": 8,
      "outputs": [
        {
          "output_type": "stream",
          "name": "stdout",
          "text": [
            "<class 'pandas.core.frame.DataFrame'>\n",
            "RangeIndex: 1458644 entries, 0 to 1458643\n",
            "Data columns (total 11 columns):\n",
            " #   Column              Non-Null Count    Dtype  \n",
            "---  ------              --------------    -----  \n",
            " 0   id                  1458644 non-null  object \n",
            " 1   vendor_id           1458644 non-null  int64  \n",
            " 2   pickup_datetime     1458644 non-null  object \n",
            " 3   dropoff_datetime    1458644 non-null  object \n",
            " 4   passenger_count     1458644 non-null  int64  \n",
            " 5   pickup_longitude    1458644 non-null  float64\n",
            " 6   pickup_latitude     1458644 non-null  float64\n",
            " 7   dropoff_longitude   1458644 non-null  float64\n",
            " 8   dropoff_latitude    1458644 non-null  float64\n",
            " 9   store_and_fwd_flag  1458644 non-null  object \n",
            " 10  trip_duration       1458644 non-null  int64  \n",
            "dtypes: float64(4), int64(3), object(4)\n",
            "memory usage: 122.4+ MB\n"
          ]
        }
      ]
    },
    {
      "cell_type": "code",
      "source": [
        "nyc_taxi.describe(include= 'all')"
      ],
      "metadata": {
        "colab": {
          "base_uri": "https://localhost:8080/",
          "height": 475
        },
        "id": "i-Xm16Ijcv8D",
        "outputId": "115ee942-ac5b-48be-f83e-2fbe7500e44b"
      },
      "execution_count": 9,
      "outputs": [
        {
          "output_type": "execute_result",
          "data": {
            "text/plain": [
              "               id     vendor_id      pickup_datetime     dropoff_datetime  \\\n",
              "count     1458644  1.458644e+06              1458644              1458644   \n",
              "unique    1458644           NaN              1380222              1380377   \n",
              "top     id2875421           NaN  2016-03-04 08:07:34  2016-02-19 19:25:04   \n",
              "freq            1           NaN                    5                    5   \n",
              "mean          NaN  1.534950e+00                  NaN                  NaN   \n",
              "std           NaN  4.987772e-01                  NaN                  NaN   \n",
              "min           NaN  1.000000e+00                  NaN                  NaN   \n",
              "25%           NaN  1.000000e+00                  NaN                  NaN   \n",
              "50%           NaN  2.000000e+00                  NaN                  NaN   \n",
              "75%           NaN  2.000000e+00                  NaN                  NaN   \n",
              "max           NaN  2.000000e+00                  NaN                  NaN   \n",
              "\n",
              "        passenger_count  pickup_longitude  pickup_latitude  dropoff_longitude  \\\n",
              "count      1.458644e+06      1.458644e+06     1.458644e+06       1.458644e+06   \n",
              "unique              NaN               NaN              NaN                NaN   \n",
              "top                 NaN               NaN              NaN                NaN   \n",
              "freq                NaN               NaN              NaN                NaN   \n",
              "mean       1.664530e+00     -7.397349e+01     4.075092e+01      -7.397342e+01   \n",
              "std        1.314242e+00      7.090186e-02     3.288119e-02       7.064327e-02   \n",
              "min        0.000000e+00     -1.219333e+02     3.435970e+01      -1.219333e+02   \n",
              "25%        1.000000e+00     -7.399187e+01     4.073735e+01      -7.399133e+01   \n",
              "50%        1.000000e+00     -7.398174e+01     4.075410e+01      -7.397975e+01   \n",
              "75%        2.000000e+00     -7.396733e+01     4.076836e+01      -7.396301e+01   \n",
              "max        9.000000e+00     -6.133553e+01     5.188108e+01      -6.133553e+01   \n",
              "\n",
              "        dropoff_latitude store_and_fwd_flag  trip_duration  \n",
              "count       1.458644e+06            1458644   1.458644e+06  \n",
              "unique               NaN                  2            NaN  \n",
              "top                  NaN                  N            NaN  \n",
              "freq                 NaN            1450599            NaN  \n",
              "mean        4.075180e+01                NaN   9.594923e+02  \n",
              "std         3.589056e-02                NaN   5.237432e+03  \n",
              "min         3.218114e+01                NaN   1.000000e+00  \n",
              "25%         4.073588e+01                NaN   3.970000e+02  \n",
              "50%         4.075452e+01                NaN   6.620000e+02  \n",
              "75%         4.076981e+01                NaN   1.075000e+03  \n",
              "max         4.392103e+01                NaN   3.526282e+06  "
            ],
            "text/html": [
              "\n",
              "  <div id=\"df-fac1295d-4b48-445c-9e7c-983fb2b0f615\">\n",
              "    <div class=\"colab-df-container\">\n",
              "      <div>\n",
              "<style scoped>\n",
              "    .dataframe tbody tr th:only-of-type {\n",
              "        vertical-align: middle;\n",
              "    }\n",
              "\n",
              "    .dataframe tbody tr th {\n",
              "        vertical-align: top;\n",
              "    }\n",
              "\n",
              "    .dataframe thead th {\n",
              "        text-align: right;\n",
              "    }\n",
              "</style>\n",
              "<table border=\"1\" class=\"dataframe\">\n",
              "  <thead>\n",
              "    <tr style=\"text-align: right;\">\n",
              "      <th></th>\n",
              "      <th>id</th>\n",
              "      <th>vendor_id</th>\n",
              "      <th>pickup_datetime</th>\n",
              "      <th>dropoff_datetime</th>\n",
              "      <th>passenger_count</th>\n",
              "      <th>pickup_longitude</th>\n",
              "      <th>pickup_latitude</th>\n",
              "      <th>dropoff_longitude</th>\n",
              "      <th>dropoff_latitude</th>\n",
              "      <th>store_and_fwd_flag</th>\n",
              "      <th>trip_duration</th>\n",
              "    </tr>\n",
              "  </thead>\n",
              "  <tbody>\n",
              "    <tr>\n",
              "      <th>count</th>\n",
              "      <td>1458644</td>\n",
              "      <td>1.458644e+06</td>\n",
              "      <td>1458644</td>\n",
              "      <td>1458644</td>\n",
              "      <td>1.458644e+06</td>\n",
              "      <td>1.458644e+06</td>\n",
              "      <td>1.458644e+06</td>\n",
              "      <td>1.458644e+06</td>\n",
              "      <td>1.458644e+06</td>\n",
              "      <td>1458644</td>\n",
              "      <td>1.458644e+06</td>\n",
              "    </tr>\n",
              "    <tr>\n",
              "      <th>unique</th>\n",
              "      <td>1458644</td>\n",
              "      <td>NaN</td>\n",
              "      <td>1380222</td>\n",
              "      <td>1380377</td>\n",
              "      <td>NaN</td>\n",
              "      <td>NaN</td>\n",
              "      <td>NaN</td>\n",
              "      <td>NaN</td>\n",
              "      <td>NaN</td>\n",
              "      <td>2</td>\n",
              "      <td>NaN</td>\n",
              "    </tr>\n",
              "    <tr>\n",
              "      <th>top</th>\n",
              "      <td>id2875421</td>\n",
              "      <td>NaN</td>\n",
              "      <td>2016-03-04 08:07:34</td>\n",
              "      <td>2016-02-19 19:25:04</td>\n",
              "      <td>NaN</td>\n",
              "      <td>NaN</td>\n",
              "      <td>NaN</td>\n",
              "      <td>NaN</td>\n",
              "      <td>NaN</td>\n",
              "      <td>N</td>\n",
              "      <td>NaN</td>\n",
              "    </tr>\n",
              "    <tr>\n",
              "      <th>freq</th>\n",
              "      <td>1</td>\n",
              "      <td>NaN</td>\n",
              "      <td>5</td>\n",
              "      <td>5</td>\n",
              "      <td>NaN</td>\n",
              "      <td>NaN</td>\n",
              "      <td>NaN</td>\n",
              "      <td>NaN</td>\n",
              "      <td>NaN</td>\n",
              "      <td>1450599</td>\n",
              "      <td>NaN</td>\n",
              "    </tr>\n",
              "    <tr>\n",
              "      <th>mean</th>\n",
              "      <td>NaN</td>\n",
              "      <td>1.534950e+00</td>\n",
              "      <td>NaN</td>\n",
              "      <td>NaN</td>\n",
              "      <td>1.664530e+00</td>\n",
              "      <td>-7.397349e+01</td>\n",
              "      <td>4.075092e+01</td>\n",
              "      <td>-7.397342e+01</td>\n",
              "      <td>4.075180e+01</td>\n",
              "      <td>NaN</td>\n",
              "      <td>9.594923e+02</td>\n",
              "    </tr>\n",
              "    <tr>\n",
              "      <th>std</th>\n",
              "      <td>NaN</td>\n",
              "      <td>4.987772e-01</td>\n",
              "      <td>NaN</td>\n",
              "      <td>NaN</td>\n",
              "      <td>1.314242e+00</td>\n",
              "      <td>7.090186e-02</td>\n",
              "      <td>3.288119e-02</td>\n",
              "      <td>7.064327e-02</td>\n",
              "      <td>3.589056e-02</td>\n",
              "      <td>NaN</td>\n",
              "      <td>5.237432e+03</td>\n",
              "    </tr>\n",
              "    <tr>\n",
              "      <th>min</th>\n",
              "      <td>NaN</td>\n",
              "      <td>1.000000e+00</td>\n",
              "      <td>NaN</td>\n",
              "      <td>NaN</td>\n",
              "      <td>0.000000e+00</td>\n",
              "      <td>-1.219333e+02</td>\n",
              "      <td>3.435970e+01</td>\n",
              "      <td>-1.219333e+02</td>\n",
              "      <td>3.218114e+01</td>\n",
              "      <td>NaN</td>\n",
              "      <td>1.000000e+00</td>\n",
              "    </tr>\n",
              "    <tr>\n",
              "      <th>25%</th>\n",
              "      <td>NaN</td>\n",
              "      <td>1.000000e+00</td>\n",
              "      <td>NaN</td>\n",
              "      <td>NaN</td>\n",
              "      <td>1.000000e+00</td>\n",
              "      <td>-7.399187e+01</td>\n",
              "      <td>4.073735e+01</td>\n",
              "      <td>-7.399133e+01</td>\n",
              "      <td>4.073588e+01</td>\n",
              "      <td>NaN</td>\n",
              "      <td>3.970000e+02</td>\n",
              "    </tr>\n",
              "    <tr>\n",
              "      <th>50%</th>\n",
              "      <td>NaN</td>\n",
              "      <td>2.000000e+00</td>\n",
              "      <td>NaN</td>\n",
              "      <td>NaN</td>\n",
              "      <td>1.000000e+00</td>\n",
              "      <td>-7.398174e+01</td>\n",
              "      <td>4.075410e+01</td>\n",
              "      <td>-7.397975e+01</td>\n",
              "      <td>4.075452e+01</td>\n",
              "      <td>NaN</td>\n",
              "      <td>6.620000e+02</td>\n",
              "    </tr>\n",
              "    <tr>\n",
              "      <th>75%</th>\n",
              "      <td>NaN</td>\n",
              "      <td>2.000000e+00</td>\n",
              "      <td>NaN</td>\n",
              "      <td>NaN</td>\n",
              "      <td>2.000000e+00</td>\n",
              "      <td>-7.396733e+01</td>\n",
              "      <td>4.076836e+01</td>\n",
              "      <td>-7.396301e+01</td>\n",
              "      <td>4.076981e+01</td>\n",
              "      <td>NaN</td>\n",
              "      <td>1.075000e+03</td>\n",
              "    </tr>\n",
              "    <tr>\n",
              "      <th>max</th>\n",
              "      <td>NaN</td>\n",
              "      <td>2.000000e+00</td>\n",
              "      <td>NaN</td>\n",
              "      <td>NaN</td>\n",
              "      <td>9.000000e+00</td>\n",
              "      <td>-6.133553e+01</td>\n",
              "      <td>5.188108e+01</td>\n",
              "      <td>-6.133553e+01</td>\n",
              "      <td>4.392103e+01</td>\n",
              "      <td>NaN</td>\n",
              "      <td>3.526282e+06</td>\n",
              "    </tr>\n",
              "  </tbody>\n",
              "</table>\n",
              "</div>\n",
              "      <button class=\"colab-df-convert\" onclick=\"convertToInteractive('df-fac1295d-4b48-445c-9e7c-983fb2b0f615')\"\n",
              "              title=\"Convert this dataframe to an interactive table.\"\n",
              "              style=\"display:none;\">\n",
              "        \n",
              "  <svg xmlns=\"http://www.w3.org/2000/svg\" height=\"24px\"viewBox=\"0 0 24 24\"\n",
              "       width=\"24px\">\n",
              "    <path d=\"M0 0h24v24H0V0z\" fill=\"none\"/>\n",
              "    <path d=\"M18.56 5.44l.94 2.06.94-2.06 2.06-.94-2.06-.94-.94-2.06-.94 2.06-2.06.94zm-11 1L8.5 8.5l.94-2.06 2.06-.94-2.06-.94L8.5 2.5l-.94 2.06-2.06.94zm10 10l.94 2.06.94-2.06 2.06-.94-2.06-.94-.94-2.06-.94 2.06-2.06.94z\"/><path d=\"M17.41 7.96l-1.37-1.37c-.4-.4-.92-.59-1.43-.59-.52 0-1.04.2-1.43.59L10.3 9.45l-7.72 7.72c-.78.78-.78 2.05 0 2.83L4 21.41c.39.39.9.59 1.41.59.51 0 1.02-.2 1.41-.59l7.78-7.78 2.81-2.81c.8-.78.8-2.07 0-2.86zM5.41 20L4 18.59l7.72-7.72 1.47 1.35L5.41 20z\"/>\n",
              "  </svg>\n",
              "      </button>\n",
              "      \n",
              "  <style>\n",
              "    .colab-df-container {\n",
              "      display:flex;\n",
              "      flex-wrap:wrap;\n",
              "      gap: 12px;\n",
              "    }\n",
              "\n",
              "    .colab-df-convert {\n",
              "      background-color: #E8F0FE;\n",
              "      border: none;\n",
              "      border-radius: 50%;\n",
              "      cursor: pointer;\n",
              "      display: none;\n",
              "      fill: #1967D2;\n",
              "      height: 32px;\n",
              "      padding: 0 0 0 0;\n",
              "      width: 32px;\n",
              "    }\n",
              "\n",
              "    .colab-df-convert:hover {\n",
              "      background-color: #E2EBFA;\n",
              "      box-shadow: 0px 1px 2px rgba(60, 64, 67, 0.3), 0px 1px 3px 1px rgba(60, 64, 67, 0.15);\n",
              "      fill: #174EA6;\n",
              "    }\n",
              "\n",
              "    [theme=dark] .colab-df-convert {\n",
              "      background-color: #3B4455;\n",
              "      fill: #D2E3FC;\n",
              "    }\n",
              "\n",
              "    [theme=dark] .colab-df-convert:hover {\n",
              "      background-color: #434B5C;\n",
              "      box-shadow: 0px 1px 3px 1px rgba(0, 0, 0, 0.15);\n",
              "      filter: drop-shadow(0px 1px 2px rgba(0, 0, 0, 0.3));\n",
              "      fill: #FFFFFF;\n",
              "    }\n",
              "  </style>\n",
              "\n",
              "      <script>\n",
              "        const buttonEl =\n",
              "          document.querySelector('#df-fac1295d-4b48-445c-9e7c-983fb2b0f615 button.colab-df-convert');\n",
              "        buttonEl.style.display =\n",
              "          google.colab.kernel.accessAllowed ? 'block' : 'none';\n",
              "\n",
              "        async function convertToInteractive(key) {\n",
              "          const element = document.querySelector('#df-fac1295d-4b48-445c-9e7c-983fb2b0f615');\n",
              "          const dataTable =\n",
              "            await google.colab.kernel.invokeFunction('convertToInteractive',\n",
              "                                                     [key], {});\n",
              "          if (!dataTable) return;\n",
              "\n",
              "          const docLinkHtml = 'Like what you see? Visit the ' +\n",
              "            '<a target=\"_blank\" href=https://colab.research.google.com/notebooks/data_table.ipynb>data table notebook</a>'\n",
              "            + ' to learn more about interactive tables.';\n",
              "          element.innerHTML = '';\n",
              "          dataTable['output_type'] = 'display_data';\n",
              "          await google.colab.output.renderOutput(dataTable, element);\n",
              "          const docLink = document.createElement('div');\n",
              "          docLink.innerHTML = docLinkHtml;\n",
              "          element.appendChild(docLink);\n",
              "        }\n",
              "      </script>\n",
              "    </div>\n",
              "  </div>\n",
              "  "
            ]
          },
          "metadata": {},
          "execution_count": 9
        }
      ]
    },
    {
      "cell_type": "code",
      "source": [
        "nyc_taxi.isnull().sum()"
      ],
      "metadata": {
        "colab": {
          "base_uri": "https://localhost:8080/"
        },
        "id": "F2V0W1m3cv_-",
        "outputId": "7c6850f1-38a0-4f5b-9ed1-8d55e4e2f451"
      },
      "execution_count": 10,
      "outputs": [
        {
          "output_type": "execute_result",
          "data": {
            "text/plain": [
              "id                    0\n",
              "vendor_id             0\n",
              "pickup_datetime       0\n",
              "dropoff_datetime      0\n",
              "passenger_count       0\n",
              "pickup_longitude      0\n",
              "pickup_latitude       0\n",
              "dropoff_longitude     0\n",
              "dropoff_latitude      0\n",
              "store_and_fwd_flag    0\n",
              "trip_duration         0\n",
              "dtype: int64"
            ]
          },
          "metadata": {},
          "execution_count": 10
        }
      ]
    },
    {
      "cell_type": "code",
      "source": [
        "nyc_taxi.nunique()"
      ],
      "metadata": {
        "colab": {
          "base_uri": "https://localhost:8080/"
        },
        "id": "cYoc48dceAmp",
        "outputId": "72781ca9-a43b-4767-f95a-44f540fae755"
      },
      "execution_count": 11,
      "outputs": [
        {
          "output_type": "execute_result",
          "data": {
            "text/plain": [
              "id                    1458644\n",
              "vendor_id                   2\n",
              "pickup_datetime       1380222\n",
              "dropoff_datetime      1380377\n",
              "passenger_count            10\n",
              "pickup_longitude        23047\n",
              "pickup_latitude         45245\n",
              "dropoff_longitude       33821\n",
              "dropoff_latitude        62519\n",
              "store_and_fwd_flag          2\n",
              "trip_duration            7417\n",
              "dtype: int64"
            ]
          },
          "metadata": {},
          "execution_count": 11
        }
      ]
    },
    {
      "cell_type": "markdown",
      "source": [
        "#<b> Exploratary Data Analysis"
      ],
      "metadata": {
        "id": "_rqYP1f6iDWv"
      }
    },
    {
      "cell_type": "markdown",
      "metadata": {
        "id": "WS5ka75tNP4Z"
      },
      "source": [
        "##<b>So Lets do Some Exploratary data analysis of dataset  if any inconsitancy somewhere lets deal with that"
      ]
    },
    {
      "cell_type": "code",
      "execution_count": 12,
      "metadata": {
        "colab": {
          "base_uri": "https://localhost:8080/",
          "height": 978
        },
        "id": "G3XFPaAGM0zT",
        "outputId": "a0ea0121-d4a1-4859-d297-9ad47439ba2d"
      },
      "outputs": [
        {
          "output_type": "execute_result",
          "data": {
            "text/plain": [
              "GridSpec(6, 4)"
            ]
          },
          "metadata": {},
          "execution_count": 12
        },
        {
          "output_type": "display_data",
          "data": {
            "text/plain": [
              "<Figure size 1296x1296 with 9 Axes>"
            ],
            "image/png": "[encoded data removed]"
          },
          "metadata": {
            "needs_background": "light"
          }
        }
      ],
      "source": [
        "#Categorical Data Plot\n",
        "klib.cat_plot(nyc_taxi)"
      ]
    },
    {
      "cell_type": "code",
      "execution_count": 13,
      "metadata": {
        "colab": {
          "base_uri": "https://localhost:8080/",
          "height": 1000
        },
        "id": "nPdqyDrUM6JX",
        "outputId": "964ec678-3539-4526-af28-bff1895ba67e"
      },
      "outputs": [
        {
          "output_type": "stream",
          "name": "stdout",
          "text": [
            "Large dataset detected, using 10000 random samples for the plots. Summary statistics are still based on the entire dataset.\n"
          ]
        },
        {
          "output_type": "execute_result",
          "data": {
            "text/plain": [
              "<matplotlib.axes._subplots.AxesSubplot at 0x7ff51eacbd50>"
            ]
          },
          "metadata": {},
          "execution_count": 13
        },
        {
          "output_type": "display_data",
          "data": {
            "text/plain": [
              "<Figure size 900x180 with 1 Axes>"
            ],
            "image/png": "[encoded data removed]"
          },
          "metadata": {
            "needs_background": "light"
          }
        },
        {
          "output_type": "display_data",
          "data": {
            "text/plain": [
              "<Figure size 900x180 with 1 Axes>"
            ],
            "image/png": "[encoded data removed]"
          },
          "metadata": {
            "needs_background": "light"
          }
        },
        {
          "output_type": "display_data",
          "data": {
            "text/plain": [
              "<Figure size 900x180 with 1 Axes>"
            ],
            "image/png": "[encoded data removed]"
          },
          "metadata": {
            "needs_background": "light"
          }
        },
        {
          "output_type": "display_data",
          "data": {
            "text/plain": [
              "<Figure size 900x180 with 1 Axes>"
            ],
            "image/png": "[encoded data removed]"
          },
          "metadata": {
            "needs_background": "light"
          }
        },
        {
          "output_type": "display_data",
          "data": {
            "text/plain": [
              "<Figure size 900x180 with 1 Axes>"
            ],
            "image/png": "[encoded data removed]"
          },
          "metadata": {
            "needs_background": "light"
          }
        },
        {
          "output_type": "display_data",
          "data": {
            "text/plain": [
              "<Figure size 900x180 with 1 Axes>"
            ],
            "image/png": "[encoded data removed]"
          },
          "metadata": {
            "needs_background": "light"
          }
        }
      ],
      "source": [
        "# default representation of a distribution plot, other settings include fill_range, histogram, ...\n",
        "klib.dist_plot(nyc_taxi)"
      ]
    },
    {
      "cell_type": "code",
      "execution_count": 14,
      "metadata": {
        "colab": {
          "base_uri": "https://localhost:8080/"
        },
        "id": "HzUi2ZSlM6GB",
        "outputId": "fb7960cc-708f-4dba-9813-8730dad63a72"
      },
      "outputs": [
        {
          "output_type": "stream",
          "name": "stdout",
          "text": [
            "No missing values found in the dataset.\n"
          ]
        }
      ],
      "source": [
        "##Check any NULL records present in our dataset.\n",
        "klib.missingval_plot(nyc_taxi)"
      ]
    },
    {
      "cell_type": "code",
      "execution_count": 15,
      "metadata": {
        "colab": {
          "base_uri": "https://localhost:8080/"
        },
        "id": "yCOT_qOJLene",
        "outputId": "591433fe-3c1c-43cd-81fa-dddc91e9fc8f"
      },
      "outputs": [
        {
          "output_type": "stream",
          "name": "stdout",
          "text": [
            "Number of rows is:  1458644\n",
            "Number of columns is:  11\n"
          ]
        }
      ],
      "source": [
        "#Checking number of rows and columns in our dataset.\n",
        "print(\"Number of rows is: \", nyc_taxi.shape[0])\n",
        "print(\"Number of columns is: \", nyc_taxi.shape[1])"
      ]
    },
    {
      "cell_type": "code",
      "execution_count": 16,
      "metadata": {
        "colab": {
          "base_uri": "https://localhost:8080/"
        },
        "id": "cRFlgz13LekW",
        "outputId": "1d51a7e0-d0df-4d82-b58c-50f70593677e"
      },
      "outputs": [
        {
          "output_type": "execute_result",
          "data": {
            "text/plain": [
              "Index(['id', 'vendor_id', 'pickup_datetime', 'dropoff_datetime',\n",
              "       'passenger_count', 'pickup_longitude', 'pickup_latitude',\n",
              "       'dropoff_longitude', 'dropoff_latitude', 'store_and_fwd_flag',\n",
              "       'trip_duration'],\n",
              "      dtype='object')"
            ]
          },
          "metadata": {},
          "execution_count": 16
        }
      ],
      "source": [
        "#Let's look at each feture in our dataset.\n",
        "nyc_taxi.columns"
      ]
    },
    {
      "cell_type": "code",
      "execution_count": 17,
      "metadata": {
        "colab": {
          "base_uri": "https://localhost:8080/"
        },
        "id": "-M1eTxSYQqFD",
        "outputId": "870602e8-a48b-46b7-d9fa-769669fe4b4a"
      },
      "outputs": [
        {
          "output_type": "execute_result",
          "data": {
            "text/plain": [
              "id                     object\n",
              "vendor_id               int64\n",
              "pickup_datetime        object\n",
              "dropoff_datetime       object\n",
              "passenger_count         int64\n",
              "pickup_longitude      float64\n",
              "pickup_latitude       float64\n",
              "dropoff_longitude     float64\n",
              "dropoff_latitude      float64\n",
              "store_and_fwd_flag     object\n",
              "trip_duration           int64\n",
              "dtype: object"
            ]
          },
          "metadata": {},
          "execution_count": 17
        }
      ],
      "source": [
        "#Let us now look at the datatypes of all features.\n",
        "nyc_taxi.dtypes"
      ]
    },
    {
      "cell_type": "code",
      "execution_count": 18,
      "metadata": {
        "id": "ve-SfSdEQqCg"
      },
      "outputs": [],
      "source": [
        "#We have pickup_datetime, dropoff_datetime of the type 'object'. Convert it into type 'datetime'.\n",
        "nyc_taxi['pickup_datetime'] = pd.to_datetime(nyc_taxi['pickup_datetime'])\n",
        "nyc_taxi['dropoff_datetime'] = pd.to_datetime(nyc_taxi['dropoff_datetime'])"
      ]
    },
    {
      "cell_type": "code",
      "execution_count": 19,
      "metadata": {
        "colab": {
          "base_uri": "https://localhost:8080/",
          "height": 344
        },
        "id": "aEACI2rLbCLK",
        "outputId": "0d55664b-dcb4-4efe-d7d1-5a821cd57113"
      },
      "outputs": [
        {
          "output_type": "execute_result",
          "data": {
            "text/plain": [
              "          vendor_id  passenger_count  pickup_longitude  pickup_latitude  \\\n",
              "count  1.458644e+06     1.458644e+06      1.458644e+06     1.458644e+06   \n",
              "mean   1.534950e+00     1.664530e+00     -7.397349e+01     4.075092e+01   \n",
              "std    4.987772e-01     1.314242e+00      7.090186e-02     3.288119e-02   \n",
              "min    1.000000e+00     0.000000e+00     -1.219333e+02     3.435970e+01   \n",
              "25%    1.000000e+00     1.000000e+00     -7.399187e+01     4.073735e+01   \n",
              "50%    2.000000e+00     1.000000e+00     -7.398174e+01     4.075410e+01   \n",
              "75%    2.000000e+00     2.000000e+00     -7.396733e+01     4.076836e+01   \n",
              "max    2.000000e+00     9.000000e+00     -6.133553e+01     5.188108e+01   \n",
              "\n",
              "       dropoff_longitude  dropoff_latitude  trip_duration  \n",
              "count       1.458644e+06      1.458644e+06   1.458644e+06  \n",
              "mean       -7.397342e+01      4.075180e+01   9.594923e+02  \n",
              "std         7.064327e-02      3.589056e-02   5.237432e+03  \n",
              "min        -1.219333e+02      3.218114e+01   1.000000e+00  \n",
              "25%        -7.399133e+01      4.073588e+01   3.970000e+02  \n",
              "50%        -7.397975e+01      4.075452e+01   6.620000e+02  \n",
              "75%        -7.396301e+01      4.076981e+01   1.075000e+03  \n",
              "max        -6.133553e+01      4.392103e+01   3.526282e+06  "
            ],
            "text/html": [
              "\n",
              "  <div id=\"df-169cc99b-219a-4db5-83d9-c18c986c8756\">\n",
              "    <div class=\"colab-df-container\">\n",
              "      <div>\n",
              "<style scoped>\n",
              "    .dataframe tbody tr th:only-of-type {\n",
              "        vertical-align: middle;\n",
              "    }\n",
              "\n",
              "    .dataframe tbody tr th {\n",
              "        vertical-align: top;\n",
              "    }\n",
              "\n",
              "    .dataframe thead th {\n",
              "        text-align: right;\n",
              "    }\n",
              "</style>\n",
              "<table border=\"1\" class=\"dataframe\">\n",
              "  <thead>\n",
              "    <tr style=\"text-align: right;\">\n",
              "      <th></th>\n",
              "      <th>vendor_id</th>\n",
              "      <th>passenger_count</th>\n",
              "      <th>pickup_longitude</th>\n",
              "      <th>pickup_latitude</th>\n",
              "      <th>dropoff_longitude</th>\n",
              "      <th>dropoff_latitude</th>\n",
              "      <th>trip_duration</th>\n",
              "    </tr>\n",
              "  </thead>\n",
              "  <tbody>\n",
              "    <tr>\n",
              "      <th>count</th>\n",
              "      <td>1.458644e+06</td>\n",
              "      <td>1.458644e+06</td>\n",
              "      <td>1.458644e+06</td>\n",
              "      <td>1.458644e+06</td>\n",
              "      <td>1.458644e+06</td>\n",
              "      <td>1.458644e+06</td>\n",
              "      <td>1.458644e+06</td>\n",
              "    </tr>\n",
              "    <tr>\n",
              "      <th>mean</th>\n",
              "      <td>1.534950e+00</td>\n",
              "      <td>1.664530e+00</td>\n",
              "      <td>-7.397349e+01</td>\n",
              "      <td>4.075092e+01</td>\n",
              "      <td>-7.397342e+01</td>\n",
              "      <td>4.075180e+01</td>\n",
              "      <td>9.594923e+02</td>\n",
              "    </tr>\n",
              "    <tr>\n",
              "      <th>std</th>\n",
              "      <td>4.987772e-01</td>\n",
              "      <td>1.314242e+00</td>\n",
              "      <td>7.090186e-02</td>\n",
              "      <td>3.288119e-02</td>\n",
              "      <td>7.064327e-02</td>\n",
              "      <td>3.589056e-02</td>\n",
              "      <td>5.237432e+03</td>\n",
              "    </tr>\n",
              "    <tr>\n",
              "      <th>min</th>\n",
              "      <td>1.000000e+00</td>\n",
              "      <td>0.000000e+00</td>\n",
              "      <td>-1.219333e+02</td>\n",
              "      <td>3.435970e+01</td>\n",
              "      <td>-1.219333e+02</td>\n",
              "      <td>3.218114e+01</td>\n",
              "      <td>1.000000e+00</td>\n",
              "    </tr>\n",
              "    <tr>\n",
              "      <th>25%</th>\n",
              "      <td>1.000000e+00</td>\n",
              "      <td>1.000000e+00</td>\n",
              "      <td>-7.399187e+01</td>\n",
              "      <td>4.073735e+01</td>\n",
              "      <td>-7.399133e+01</td>\n",
              "      <td>4.073588e+01</td>\n",
              "      <td>3.970000e+02</td>\n",
              "    </tr>\n",
              "    <tr>\n",
              "      <th>50%</th>\n",
              "      <td>2.000000e+00</td>\n",
              "      <td>1.000000e+00</td>\n",
              "      <td>-7.398174e+01</td>\n",
              "      <td>4.075410e+01</td>\n",
              "      <td>-7.397975e+01</td>\n",
              "      <td>4.075452e+01</td>\n",
              "      <td>6.620000e+02</td>\n",
              "    </tr>\n",
              "    <tr>\n",
              "      <th>75%</th>\n",
              "      <td>2.000000e+00</td>\n",
              "      <td>2.000000e+00</td>\n",
              "      <td>-7.396733e+01</td>\n",
              "      <td>4.076836e+01</td>\n",
              "      <td>-7.396301e+01</td>\n",
              "      <td>4.076981e+01</td>\n",
              "      <td>1.075000e+03</td>\n",
              "    </tr>\n",
              "    <tr>\n",
              "      <th>max</th>\n",
              "      <td>2.000000e+00</td>\n",
              "      <td>9.000000e+00</td>\n",
              "      <td>-6.133553e+01</td>\n",
              "      <td>5.188108e+01</td>\n",
              "      <td>-6.133553e+01</td>\n",
              "      <td>4.392103e+01</td>\n",
              "      <td>3.526282e+06</td>\n",
              "    </tr>\n",
              "  </tbody>\n",
              "</table>\n",
              "</div>\n",
              "      <button class=\"colab-df-convert\" onclick=\"convertToInteractive('df-169cc99b-219a-4db5-83d9-c18c986c8756')\"\n",
              "              title=\"Convert this dataframe to an interactive table.\"\n",
              "              style=\"display:none;\">\n",
              "        \n",
              "  <svg xmlns=\"http://www.w3.org/2000/svg\" height=\"24px\"viewBox=\"0 0 24 24\"\n",
              "       width=\"24px\">\n",
              "    <path d=\"M0 0h24v24H0V0z\" fill=\"none\"/>\n",
              "    <path d=\"M18.56 5.44l.94 2.06.94-2.06 2.06-.94-2.06-.94-.94-2.06-.94 2.06-2.06.94zm-11 1L8.5 8.5l.94-2.06 2.06-.94-2.06-.94L8.5 2.5l-.94 2.06-2.06.94zm10 10l.94 2.06.94-2.06 2.06-.94-2.06-.94-.94-2.06-.94 2.06-2.06.94z\"/><path d=\"M17.41 7.96l-1.37-1.37c-.4-.4-.92-.59-1.43-.59-.52 0-1.04.2-1.43.59L10.3 9.45l-7.72 7.72c-.78.78-.78 2.05 0 2.83L4 21.41c.39.39.9.59 1.41.59.51 0 1.02-.2 1.41-.59l7.78-7.78 2.81-2.81c.8-.78.8-2.07 0-2.86zM5.41 20L4 18.59l7.72-7.72 1.47 1.35L5.41 20z\"/>\n",
              "  </svg>\n",
              "      </button>\n",
              "      \n",
              "  <style>\n",
              "    .colab-df-container {\n",
              "      display:flex;\n",
              "      flex-wrap:wrap;\n",
              "      gap: 12px;\n",
              "    }\n",
              "\n",
              "    .colab-df-convert {\n",
              "      background-color: #E8F0FE;\n",
              "      border: none;\n",
              "      border-radius: 50%;\n",
              "      cursor: pointer;\n",
              "      display: none;\n",
              "      fill: #1967D2;\n",
              "      height: 32px;\n",
              "      padding: 0 0 0 0;\n",
              "      width: 32px;\n",
              "    }\n",
              "\n",
              "    .colab-df-convert:hover {\n",
              "      background-color: #E2EBFA;\n",
              "      box-shadow: 0px 1px 2px rgba(60, 64, 67, 0.3), 0px 1px 3px 1px rgba(60, 64, 67, 0.15);\n",
              "      fill: #174EA6;\n",
              "    }\n",
              "\n",
              "    [theme=dark] .colab-df-convert {\n",
              "      background-color: #3B4455;\n",
              "      fill: #D2E3FC;\n",
              "    }\n",
              "\n",
              "    [theme=dark] .colab-df-convert:hover {\n",
              "      background-color: #434B5C;\n",
              "      box-shadow: 0px 1px 3px 1px rgba(0, 0, 0, 0.15);\n",
              "      filter: drop-shadow(0px 1px 2px rgba(0, 0, 0, 0.3));\n",
              "      fill: #FFFFFF;\n",
              "    }\n",
              "  </style>\n",
              "\n",
              "      <script>\n",
              "        const buttonEl =\n",
              "          document.querySelector('#df-169cc99b-219a-4db5-83d9-c18c986c8756 button.colab-df-convert');\n",
              "        buttonEl.style.display =\n",
              "          google.colab.kernel.accessAllowed ? 'block' : 'none';\n",
              "\n",
              "        async function convertToInteractive(key) {\n",
              "          const element = document.querySelector('#df-169cc99b-219a-4db5-83d9-c18c986c8756');\n",
              "          const dataTable =\n",
              "            await google.colab.kernel.invokeFunction('convertToInteractive',\n",
              "                                                     [key], {});\n",
              "          if (!dataTable) return;\n",
              "\n",
              "          const docLinkHtml = 'Like what you see? Visit the ' +\n",
              "            '<a target=\"_blank\" href=https://colab.research.google.com/notebooks/data_table.ipynb>data table notebook</a>'\n",
              "            + ' to learn more about interactive tables.';\n",
              "          element.innerHTML = '';\n",
              "          dataTable['output_type'] = 'display_data';\n",
              "          await google.colab.output.renderOutput(dataTable, element);\n",
              "          const docLink = document.createElement('div');\n",
              "          docLink.innerHTML = docLinkHtml;\n",
              "          element.appendChild(docLink);\n",
              "        }\n",
              "      </script>\n",
              "    </div>\n",
              "  </div>\n",
              "  "
            ]
          },
          "metadata": {},
          "execution_count": 19
        }
      ],
      "source": [
        "nyc_taxi.describe()"
      ]
    },
    {
      "cell_type": "markdown",
      "metadata": {
        "id": "yw11oygIUfnL"
      },
      "source": [
        "#**Feature Creation**\n",
        "Now, let us extract pickup_datetime and dropoff_datetimeand create Some new features from this datetime features we  have just created."
      ]
    },
    {
      "cell_type": "code",
      "execution_count": 20,
      "metadata": {
        "id": "n9VeEGxVQp9c"
      },
      "outputs": [],
      "source": [
        "#It will contain the day number instead of characters with Monday=0 and Sunday=6.\n",
        "nyc_taxi['pickup_day']=nyc_taxi['pickup_datetime'].dt.day_name()\n",
        "nyc_taxi['dropoff_day']=nyc_taxi['dropoff_datetime'].dt.day_name()\n",
        "#It will convert weekday into number start at Monday=0 and end at Sunday=6.\n",
        "nyc_taxi['pickup_day_no']=nyc_taxi['pickup_datetime'].dt.weekday\n",
        "nyc_taxi['dropoff_day_no']=nyc_taxi['dropoff_datetime'].dt.weekday\n",
        "#Extract hour only from pickup_datetime.\n",
        "nyc_taxi['pickup_hour']=nyc_taxi['pickup_datetime'].dt.hour\n",
        "nyc_taxi['dropoff_hour']=nyc_taxi['dropoff_datetime'].dt.hour\n",
        "#Extract month in number only from pickup_datetime with January=1\n",
        "nyc_taxi['pickup_month']=nyc_taxi['pickup_datetime'].dt.month\n",
        "nyc_taxi['dropoff_month']=nyc_taxi['dropoff_datetime'].dt.month"
      ]
    },
    {
      "cell_type": "markdown",
      "metadata": {
        "id": "vNbl-qGhXy73"
      },
      "source": [
        "**We have created the following features:**\n",
        "\n",
        "**pickup_day and dropoff_day** which will contain the name of the day on which the ride was taken.\n",
        "**pickup_day_no and dropoff_day_n**o which will contain the day number instead of characters with Monday=0 and Sunday=6.\n",
        "**pickup_hour and dropoff_hour** with an hour of the day in the 24-hour format.\n",
        "**pickup_month and dropoff_month** with month number with January=1 and June =06."
      ]
    },
    {
      "cell_type": "markdown",
      "source": [
        "We also saw during dataset exploration that we have coordinates in the form of longitude and latitude for pickup and dropoff. But, we can’t really gather any insights or draw conclusions from that.\n",
        "So, the most obvious feature that we can extract from this is distance. Let us do that.\n",
        "\n",
        "**Importing the library which lets us calculate distance from geographical coordinates.**"
      ],
      "metadata": {
        "id": "wWrufpJykPn7"
      }
    },
    {
      "cell_type": "markdown",
      "source": [
        "# **Lets Importing the geopy.distance library which will help us calculate distance from geographical coordinates**."
      ],
      "metadata": {
        "id": "sCv1khOkjVon"
      }
    },
    {
      "cell_type": "code",
      "execution_count": 21,
      "metadata": {
        "id": "Dfpb-qQsQp7f"
      },
      "outputs": [],
      "source": [
        "from geopy.distance import great_circle"
      ]
    },
    {
      "cell_type": "code",
      "execution_count": 22,
      "metadata": {
        "id": "kNZ8vz-kQp3T"
      },
      "outputs": [],
      "source": [
        "#Creating the function for calculating distance between pickup and dropoff\n",
        "def cal_distance(pickup_lat,pickup_long,dropoff_lat,dropoff_long):\n",
        " \n",
        " start_coordinates=(pickup_lat,pickup_long)\n",
        " stop_coordinates=(dropoff_lat,dropoff_long)\n",
        " \n",
        " return great_circle(start_coordinates,stop_coordinates).km"
      ]
    },
    {
      "cell_type": "code",
      "execution_count": null,
      "metadata": {
        "id": "AJJIxMyBQpzv"
      },
      "outputs": [],
      "source": [
        "#Applying the function to our dataset and creating the feature ‘distance’.\n",
        "nyc_taxi['distance'] = nyc_taxi.apply(lambda x: cal_distance(x['pickup_latitude'],x['pickup_longitude'],x['dropoff_latitude'],x['dropoff_longitude'] ), axis=1)"
      ]
    },
    {
      "cell_type": "markdown",
      "metadata": {
        "id": "dTezg-D8Ycox"
      },
      "source": [
        "# **Lets Create New Feature Speed(km/Hr) With help of Distance and Duration Column**"
      ]
    },
    {
      "cell_type": "code",
      "execution_count": null,
      "metadata": {
        "id": "uJsoA47HQpx0"
      },
      "outputs": [],
      "source": [
        "nyc_taxi['speed'] = (nyc_taxi.distance*3600/(nyc_taxi.trip_duration))"
      ]
    },
    {
      "cell_type": "markdown",
      "metadata": {
        "id": "fBPsmEG0ZIbm"
      },
      "source": [
        "Next,Lets defined a function that lets us determine what time of the day the ride was taken.\n",
        "\n",
        "We will create four parts of time:-\n",
        "\n",
        "1.**Morning** (from 6:00 am to 11:59 pm),\n",
        "\n",
        "2.**Afternoon** (from 12 noon to 3:59 pm),\n",
        "\n",
        "3.**Evening** (from 4:00 pm to 9:59 pm), and\n",
        "\n",
        "4.**Late Night** (from 10:00 pm to 5:59 am)"
      ]
    },
    {
      "cell_type": "code",
      "execution_count": null,
      "metadata": {
        "id": "CLvzz7BVQpbA"
      },
      "outputs": [],
      "source": [
        "#Dividing 24 hours into four parts\n",
        "def time_of_day(x):\n",
        "    if x in range(6,12):\n",
        "        return 'Morning'\n",
        "    elif x in range(12,16):\n",
        "        return 'Afternoon'\n",
        "    elif x in range(16,22):\n",
        "        return 'Evening'\n",
        "    else:\n",
        "        return 'Late night'"
      ]
    },
    {
      "cell_type": "code",
      "execution_count": null,
      "metadata": {
        "id": "W7UJXzP-QpYx"
      },
      "outputs": [],
      "source": [
        "#Now let us apply this function and create new columns in the dataset.\n",
        "nyc_taxi['pickup_timeofday'] = nyc_taxi['pickup_hour'].apply(time_of_day)\n",
        "nyc_taxi['dropoff_timeofday']=nyc_taxi['dropoff_hour'].apply(time_of_day)"
      ]
    },
    {
      "cell_type": "code",
      "execution_count": null,
      "metadata": {
        "id": "2qDAAhdIQpWy"
      },
      "outputs": [],
      "source": [
        "nyc_taxi.head()"
      ]
    },
    {
      "cell_type": "code",
      "source": [
        "#Let us check the data type of all features.\n",
        "nyc_taxi.dtypes"
      ],
      "metadata": {
        "id": "5XAb1biHtx3w"
      },
      "execution_count": null,
      "outputs": []
    },
    {
      "cell_type": "markdown",
      "metadata": {
        "id": "rdYwcOjYaJB4"
      },
      "source": [
        "Now our dataset is complete for the further analysis before we train our model with optimal variables."
      ]
    },
    {
      "cell_type": "markdown",
      "metadata": {
        "id": "5AXdj8zqaVZ7"
      },
      "source": [
        "#**Univariate Analysis**\n",
        "The univariate analysis involves studying patterns of all variables individually.\n",
        "\n",
        "**Target Variable**\n",
        "\n",
        "Let us start with the target varibale i.e trip duration.\n",
        "# **1.Trip duration.**"
      ]
    },
    {
      "cell_type": "code",
      "source": [
        "sns.histplot(nyc_taxi['trip_duration'],kde=False,bins=20)"
      ],
      "metadata": {
        "id": "RWPvD7tMlYZI"
      },
      "execution_count": null,
      "outputs": []
    },
    {
      "cell_type": "code",
      "source": [
        "sns.boxplot(nyc_taxi['trip_duration'])"
      ],
      "metadata": {
        "id": "2QP8lq4Sk-IX"
      },
      "execution_count": null,
      "outputs": []
    },
    {
      "cell_type": "code",
      "execution_count": null,
      "metadata": {
        "id": "VsrKbJxzQpNd"
      },
      "outputs": [],
      "source": [
        "for i in range(0,100,10):\n",
        "  duration= nyc_taxi['trip_duration'].values\n",
        "  duration= np.sort(duration, axis= None)\n",
        "  print(\"{} percentile value is {}\".format(i, duration[int(len(duration)*(float(i)/100))]))\n",
        "print(\"100 percentile value is \",duration[-1])"
      ]
    },
    {
      "cell_type": "code",
      "execution_count": null,
      "metadata": {
        "id": "K6vhYsnjQpLw"
      },
      "outputs": [],
      "source": [
        "for i in range(90,100):\n",
        "  duration= nyc_taxi['trip_duration'].values\n",
        "  duration= np.sort(duration, axis= None)\n",
        "  print(\"{} percentile value is {}\".format(i, duration[int(len(duration)*(float(i)/100))]))\n",
        "print(\"100 percentile value is \",duration[-1])"
      ]
    },
    {
      "cell_type": "code",
      "source": [
        "nyc_taxi['trip_duration'].sort_values(ascending =False)"
      ],
      "metadata": {
        "id": "DUcCPYfAm5Qf"
      },
      "execution_count": null,
      "outputs": []
    },
    {
      "cell_type": "code",
      "source": [
        "for i in range(0,10):\n",
        "  duration= nyc_taxi['trip_duration'].values\n",
        "  duration= np.sort(duration, axis= None)\n",
        "  print(\"{} percentile value is {}\".format(i, duration[int(len(duration)*(float(i)/100))]))\n",
        "print(\"100 percentile value is \",duration[-1])"
      ],
      "metadata": {
        "id": "5wADOQwGxWJK"
      },
      "execution_count": null,
      "outputs": []
    },
    {
      "cell_type": "markdown",
      "source": [
        "## **We can see that there are some entries  which are significantly different from others.As there are four rows only, let us drop this row.**"
      ],
      "metadata": {
        "id": "Ez2WnlWOuVgT"
      }
    },
    {
      "cell_type": "code",
      "execution_count": null,
      "metadata": {
        "id": "SYjUQq4wYlro"
      },
      "outputs": [],
      "source": [
        "# Setting Trip duration upper limit\n",
        "nyc_taxi = nyc_taxi[nyc_taxi.trip_duration <= 3440]\n"
      ]
    },
    {
      "cell_type": "code",
      "execution_count": null,
      "metadata": {
        "id": "GaOR6I5BQpUH"
      },
      "outputs": [],
      "source": [
        "plt.figure(figsize = (10,5))\n",
        "sns.distplot(nyc_taxi['trip_duration'])\n",
        "plt.xlabel('Trip Duration')\n",
        "plt.show()"
      ]
    },
    {
      "cell_type": "markdown",
      "metadata": {
        "id": "Quzpzh3qaxSv"
      },
      "source": [
        "This histogram shows right skewness, hence let's apply the log10 to transform it to the normal distribution."
      ]
    },
    {
      "cell_type": "code",
      "execution_count": null,
      "metadata": {
        "id": "SdRkbPt-QpRx"
      },
      "outputs": [],
      "source": [
        "plt.figure(figsize = (10,5))\n",
        "sns.distplot(np.log10(nyc_taxi['trip_duration'])) #taking log of trip_duration\n",
        "plt.xlabel('Trip Duration')\n",
        "plt.show()"
      ]
    },
    {
      "cell_type": "markdown",
      "metadata": {
        "id": "2__SrJ-FbCP9"
      },
      "source": [
        "* Here, we can see that trip_duration is normally distributed.\n",
        "* There are some outliers. Lets see the boxplot of this variable."
      ]
    },
    {
      "cell_type": "code",
      "execution_count": null,
      "metadata": {
        "id": "uOxUbLnAQpPn"
      },
      "outputs": [],
      "source": [
        "plt.figure(figsize = (10,5))\n",
        "sns.boxplot(nyc_taxi.trip_duration)\n",
        "plt.xlabel('Trip Duration')\n",
        "plt.show()"
      ]
    },
    {
      "cell_type": "markdown",
      "metadata": {
        "id": "jHayDD9yb3PR"
      },
      "source": [
        "We can clearly see an outlier and should be removed for the data consistency.\n",
        "\n",
        "Calclating 0-100th percentille to find a correct percentile value for removal of outliers."
      ]
    },
    {
      "cell_type": "markdown",
      "metadata": {
        "id": "OcU-kBdDcmFN"
      },
      "source": [
        "The 90th percentile i.e. 1634 looks reasonable. But, 100th percentile i.e. 3526282 is outlier. Hence removing these would be a better idea.\n",
        "\n",
        "Let's expand from 90th percentile to 100th percentile as to look further for the 99th percentile."
      ]
    },
    {
      "cell_type": "markdown",
      "metadata": {
        "id": "fMBZHl5MdEnE"
      },
      "source": [
        "**Let's visualize the number of trips taken in diifferent slabs of ... secconds respectively**"
      ]
    },
    {
      "cell_type": "code",
      "source": [
        "plt.figure(figsize = (10,5))\n",
        "nyc_taxi.trip_duration.groupby(pd.cut(nyc_taxi.trip_duration, np.arange(1,90000,5000))).count().plot(kind='bar')\n",
        "plt.xlabel('Trip Duration Slots in Second')\n",
        "plt.ylabel('Trip Counts)')\n",
        "plt.show()"
      ],
      "metadata": {
        "id": "CSJHPgJByblK"
      },
      "execution_count": null,
      "outputs": []
    },
    {
      "cell_type": "code",
      "source": [
        "plt.figure(figsize = (10,5))\n",
        "nyc_taxi.trip_duration.groupby(pd.cut(nyc_taxi.trip_duration, np.arange(5000,90000,5000))).count().plot(kind='bar')\n",
        "plt.xlabel('Trip Duration Slots in Second')\n",
        "plt.ylabel('Trip Counts)')\n",
        "plt.show()"
      ],
      "metadata": {
        "id": "24IPQDxcyB--"
      },
      "execution_count": null,
      "outputs": []
    },
    {
      "cell_type": "code",
      "execution_count": null,
      "metadata": {
        "id": "gxiWFQtTQpJQ"
      },
      "outputs": [],
      "source": [
        "plt.figure(figsize = (10,5))\n",
        "nyc_taxi.trip_duration.groupby(pd.cut(nyc_taxi.trip_duration, np.arange(1,5000,500))).count().plot(kind='bar')\n",
        "plt.xlabel('Trip Duration Slots in Second')\n",
        "plt.ylabel('Trip Counts')\n",
        "plt.show()"
      ]
    },
    {
      "cell_type": "code",
      "source": [
        "plt.figure(figsize = (10,5))\n",
        "nyc_taxi.trip_duration.groupby(pd.cut(nyc_taxi.trip_duration, np.arange(0,600,60))).count().plot(kind='bar')\n",
        "plt.xlabel('Trip Duration Slots in Second')\n",
        "plt.ylabel('Trip Counts')\n",
        "plt.show()"
      ],
      "metadata": {
        "id": "TFEqUfOPxWZZ"
      },
      "execution_count": null,
      "outputs": []
    },
    {
      "cell_type": "code",
      "source": [
        "plt.figure(figsize = (10,5))\n",
        "nyc_taxi.trip_duration.groupby(pd.cut(nyc_taxi.trip_duration, np.arange(0,61,5))).count().plot(kind='bar')\n",
        "plt.xlabel('Trip Duration Slots in Second')\n",
        "plt.ylabel('Trip Counts')\n",
        "plt.show()"
      ],
      "metadata": {
        "id": "YrbQq2nXynsB"
      },
      "execution_count": null,
      "outputs": []
    },
    {
      "cell_type": "markdown",
      "metadata": {
        "id": "FWNIMglndYYt"
      },
      "source": [
        "Let's have a look at the 10 largest and smallest value of trip_duration."
      ]
    },
    {
      "cell_type": "markdown",
      "metadata": {
        "id": "s2IqR7dUe0Tj"
      },
      "source": [
        "We can see that major chunk (99th percentile) of trip duration is completed in 3440 seconds i.e. nearly 1 hour.\n",
        "\n",
        "There are very few trip which have duration greater than 5000 seconds.\n",
        "\n",
        "There are some durations with as low as 1 second. which points towards trips with 0 km distance.\n",
        "\n",
        "We should get rid the outliers for the sake of data consistency. (Trip duration greater than 5000 seconds and also trip duration less than 30 seconds)"
      ]
    },
    {
      "cell_type": "markdown",
      "source": [
        "# **2.Pickup_timeofday & Dropoff_timeofday**"
      ],
      "metadata": {
        "id": "WYGuLN1X2u0q"
      }
    },
    {
      "cell_type": "code",
      "source": [
        "figure,(ax3,ax4)=plt.subplots(ncols=2,figsize=(20,5))\n",
        "ax3.set_title('Pickup Time of Day')\n",
        "ax=sns.countplot(x=\"pickup_timeofday\",data=nyc_taxi,ax=ax3)\n",
        "ax4.set_title('Dropoff Time of Day')\n",
        "ax=sns.countplot(x=\"dropoff_timeofday\",data=nyc_taxi,ax=ax4)"
      ],
      "metadata": {
        "id": "n9SB1pW50MGm"
      },
      "execution_count": null,
      "outputs": []
    },
    {
      "cell_type": "markdown",
      "metadata": {
        "id": "EQl-0kiAf3jH"
      },
      "source": [
        "As we saw above, evenings are the busiest."
      ]
    },
    {
      "cell_type": "markdown",
      "metadata": {
        "id": "iRtgTPWZf7_f"
      },
      "source": [
        "# <b>3. Vendor id"
      ]
    },
    {
      "cell_type": "code",
      "execution_count": null,
      "metadata": {
        "id": "Kjqsnh_YQo7j"
      },
      "outputs": [],
      "source": [
        "plt.figure(figsize = (10,5))\n",
        "sns.countplot(nyc_taxi.vendor_id)\n",
        "plt.xlabel('Vendor ID')\n",
        "plt.ylabel('Count')\n",
        "plt.show()"
      ]
    },
    {
      "cell_type": "markdown",
      "metadata": {
        "id": "TD7LZ7d8gYDt"
      },
      "source": [
        "We see that there is not much difference between the trips taken by both vendors."
      ]
    },
    {
      "cell_type": "markdown",
      "metadata": {
        "id": "6L1s7nwGgeV-"
      },
      "source": [
        "# <b>4. Passenger count"
      ]
    },
    {
      "cell_type": "code",
      "execution_count": null,
      "metadata": {
        "id": "_8-MM7x11iPt"
      },
      "outputs": [],
      "source": [
        "no_of_passenger = nyc_taxi['passenger_count'].value_counts().reset_index()\n",
        "no_of_passenger.rename(columns={'index':'no_of_passenger', 'passenger_count':'trip_counts'})\n"
      ]
    },
    {
      "cell_type": "code",
      "source": [
        "#Removing 0 and more than 6 passenger \n",
        "nyc_taxi = nyc_taxi[nyc_taxi['passenger_count'] != 0]\n",
        "nyc_taxi = nyc_taxi[nyc_taxi['passenger_count']<=6]"
      ],
      "metadata": {
        "id": "CJVDEBJ111h6"
      },
      "execution_count": null,
      "outputs": []
    },
    {
      "cell_type": "code",
      "execution_count": null,
      "metadata": {
        "id": "dN26YmknQo5e"
      },
      "outputs": [],
      "source": [
        "plt.figure(figsize = (10,5))\n",
        "sns.countplot(x='passenger_count',data=nyc_taxi)\n",
        "plt.ylabel('Count')\n",
        "plt.xlabel('No.of Passngers')\n",
        "plt.show()"
      ]
    },
    {
      "cell_type": "markdown",
      "metadata": {
        "id": "zQWGrIxVhRSK"
      },
      "source": [
        "Let us remove the rows which have 0, 8 and 9 passenger count"
      ]
    },
    {
      "cell_type": "markdown",
      "metadata": {
        "id": "zXo8nhMKiDkL"
      },
      "source": [
        "* We see the highest amount of trips was taken by a single passenger.\n",
        "* The instance of large group of people travelling together is rare."
      ]
    },
    {
      "cell_type": "markdown",
      "metadata": {
        "id": "gttKNafXidUD"
      },
      "source": [
        "# <b>5.Store and Forward Flag"
      ]
    },
    {
      "cell_type": "code",
      "execution_count": null,
      "metadata": {
        "id": "gsfE7fPYhbi6"
      },
      "outputs": [],
      "source": [
        "nyc_taxi['store_and_fwd_flag'].value_counts(normalize=True)"
      ]
    },
    {
      "cell_type": "code",
      "execution_count": null,
      "metadata": {
        "id": "ByPSdtJV3coM"
      },
      "outputs": [],
      "source": [
        "plt.figure(figsize = (10,5))\n",
        "sns.countplot(x='store_and_fwd_flag',data=nyc_taxi)\n",
        "plt.ylabel('Count')\n",
        "plt.xlabel('store_and_fwd_flag')\n",
        "plt.show()"
      ]
    },
    {
      "cell_type": "markdown",
      "metadata": {
        "id": "t1TMhrHMikMc"
      },
      "source": [
        "* We can see that only about 1% of the trip details were stored in the vehicle memory first before sending it to the server.\n",
        "\n",
        "* This might have occured because of the GPS or mobile device battery was down when the trip finished."
      ]
    },
    {
      "cell_type": "markdown",
      "metadata": {
        "id": "d9VWtuqti8fU"
      },
      "source": [
        "# <b>6.Distance"
      ]
    },
    {
      "cell_type": "code",
      "execution_count": null,
      "metadata": {
        "id": "B5Pt654_4Myp"
      },
      "outputs": [],
      "source": [
        "plt.figure(figsize = (10,5))\n",
        "sns.distplot(nyc_taxi['distance'])\n",
        "plt.xlabel('distance')\n",
        "plt.show()"
      ]
    },
    {
      "cell_type": "code",
      "source": [
        "nyc_taxi['distance'].value_counts().sort_values(ascending  =True)"
      ],
      "metadata": {
        "id": "R7HXKsHk6yY-"
      },
      "execution_count": null,
      "outputs": []
    },
    {
      "cell_type": "code",
      "source": [
        "#Removing  entries which are having distance less than 50 metere\n",
        "nyc_taxi = nyc_taxi[nyc_taxi['distance'] > 0.05]"
      ],
      "metadata": {
        "id": "_-uLlfPj7QTn"
      },
      "execution_count": null,
      "outputs": []
    },
    {
      "cell_type": "code",
      "source": [
        "plt.figure(figsize = (10,5))\n",
        "sns.distplot(np.log10(nyc_taxi['distance']))\n",
        "plt.xlabel('distance')\n",
        "plt.show()"
      ],
      "metadata": {
        "id": "F6-cjNMgvvfa"
      },
      "execution_count": null,
      "outputs": []
    },
    {
      "cell_type": "code",
      "source": [
        "plt.figure(figsize = (10,5))\n",
        "nyc_taxi.distance.groupby(pd.cut(nyc_taxi.distance, np.arange(0,1200,100))).count().plot(kind='bar')\n",
        "plt.xlabel('Trip distance Slots in km')\n",
        "plt.ylabel('Trip Counts')\n",
        "plt.show()"
      ],
      "metadata": {
        "id": "1zeVFXA63ypO"
      },
      "execution_count": null,
      "outputs": []
    },
    {
      "cell_type": "code",
      "source": [
        "plt.figure(figsize = (10,5))\n",
        "nyc_taxi.distance.groupby(pd.cut(nyc_taxi.distance, np.arange(100,1001,100))).count().plot(kind='bar')\n",
        "plt.xlabel('Trip distance Slots in km')\n",
        "plt.ylabel('Trip Counts')\n",
        "plt.show()"
      ],
      "metadata": {
        "id": "qDynR3Fs4J_V"
      },
      "execution_count": null,
      "outputs": []
    },
    {
      "cell_type": "code",
      "source": [
        "plt.figure(figsize = (10,5))\n",
        "nyc_taxi.distance.groupby(pd.cut(nyc_taxi.distance, np.arange(0.5,10.1,0.5))).count().plot(kind='bar')\n",
        "plt.xlabel('Trip distance Slots in km')\n",
        "plt.ylabel('Trip Counts')\n",
        "plt.show()"
      ],
      "metadata": {
        "id": "0TNbVqxM5WnM"
      },
      "execution_count": null,
      "outputs": []
    },
    {
      "cell_type": "code",
      "execution_count": null,
      "metadata": {
        "id": "f51P0-Z-4fLV"
      },
      "outputs": [],
      "source": [
        "plt.figure(figsize = (10,5))\n",
        "nyc_taxi.speed.groupby(pd.cut(nyc_taxi.distance, np.arange(0,1.05,0.05))).count().plot(kind='bar')\n",
        "plt.xlabel('Trip distance Slots in km')\n",
        "plt.ylabel('Trip Counts')\n",
        "plt.show()"
      ]
    },
    {
      "cell_type": "code",
      "source": [
        "nyc_taxi[nyc_taxi['distance']>100].value_counts()"
      ],
      "metadata": {
        "id": "sdxUO_LF6yGY"
      },
      "execution_count": null,
      "outputs": []
    },
    {
      "cell_type": "code",
      "source": [
        "#Removing the rows which are having distance  More than 100 km\n",
        "nyc_taxi = nyc_taxi[nyc_taxi['distance'] <= 100]"
      ],
      "metadata": {
        "id": "wRXC7cei80al"
      },
      "execution_count": null,
      "outputs": []
    },
    {
      "cell_type": "code",
      "source": [
        "nyc_taxi.distance.max()"
      ],
      "metadata": {
        "id": "zQYqETZS7xLw"
      },
      "execution_count": null,
      "outputs": []
    },
    {
      "cell_type": "markdown",
      "metadata": {
        "id": "_aVKa9SrjhA6"
      },
      "source": [
        "* There are **16 trips with more than 100 km** distance.\n",
        "* There are **5887 trips with 0 km** distance. so this trip will unneccsary infuence our model that we are droping this rows\n",
        "\n",
        "**The possible reasons for 0 km trips can be:**\n",
        "\n",
        "* The dropoff location couldn’t be tracked.\n",
        "* The driver deliberately took this ride to complete a target ride number.\n",
        "* The passengers or driver cancelled the trip due to some issue.\n",
        "* Due to some technical issue in software, etc."
      ]
    },
    {
      "cell_type": "code",
      "source": [
        "nyc_taxi.shape"
      ],
      "metadata": {
        "id": "55vv7FHlDpue"
      },
      "execution_count": null,
      "outputs": []
    },
    {
      "cell_type": "markdown",
      "metadata": {
        "id": "9oWRsLLSkAQO"
      },
      "source": [
        "# <b>7.Speed"
      ]
    },
    {
      "cell_type": "code",
      "source": [
        "nyc_taxi.speed.max()"
      ],
      "metadata": {
        "id": "Y_oJgSu__z4A"
      },
      "execution_count": null,
      "outputs": []
    },
    {
      "cell_type": "code",
      "execution_count": null,
      "metadata": {
        "id": "o29zhGLh5Rfx"
      },
      "outputs": [],
      "source": [
        "plt.figure(figsize = (10,5))\n",
        "sns.distplot(nyc_taxi['speed'])\n",
        "plt.xlabel('Speed (km/hr)')\n",
        "plt.show()"
      ]
    },
    {
      "cell_type": "code",
      "source": [
        "nyc_taxi.speed.max()"
      ],
      "metadata": {
        "id": "OfFpdAtU_82-"
      },
      "execution_count": null,
      "outputs": []
    },
    {
      "cell_type": "code",
      "source": [
        "nyc_taxi[nyc_taxi['speed']>200].count()"
      ],
      "metadata": {
        "id": "EBU7sztVBgAw"
      },
      "execution_count": null,
      "outputs": []
    },
    {
      "cell_type": "markdown",
      "source": [
        "So At Some Places Speed of the taxi is quite high its from **200 to 9274** So which is unresonble.\n",
        "\n",
        "1.So it may be because of Some pasemger they might have canceled trip in between on  the way after traveling some distance.\n",
        "2.The dropoff location couldn’t be tracked.\n",
        "3.The passengers or driver cancelled the trip due to some issue.\n",
        "4.Due to some technical issue in software, etc.\n",
        "\n",
        "so in order to have consitant data **lets drop the rows which have speed more than 200 km/hr.** "
      ],
      "metadata": {
        "id": "o3sCx61-ETYh"
      }
    },
    {
      "cell_type": "code",
      "source": [
        "nyc_taxi = nyc_taxi[nyc_taxi['speed']<=200]"
      ],
      "metadata": {
        "id": "kOvgAJ31-G7l"
      },
      "execution_count": null,
      "outputs": []
    },
    {
      "cell_type": "code",
      "source": [
        "plt.figure(figsize = (10,5))\n",
        "sns.distplot(nyc_taxi['speed'])\n",
        "plt.xlabel('Speed (km/hr)')\n",
        "plt.show()"
      ],
      "metadata": {
        "id": "kjMc79039pDU"
      },
      "execution_count": null,
      "outputs": []
    },
    {
      "cell_type": "markdown",
      "metadata": {
        "id": "kVBZGIU_klo1"
      },
      "source": [
        "Let's plot the boxplot for better understanding."
      ]
    },
    {
      "cell_type": "markdown",
      "metadata": {
        "id": "9XsNNEDUlEQj"
      },
      "source": [
        "There are trips that were done at a speed of over 100 km/h.\n",
        "\n",
        "As per the rule in NYC, the speed limit is 25 mph(approx. 40km/h) in New York City."
      ]
    },
    {
      "cell_type": "markdown",
      "metadata": {
        "id": "T8QyNPnxl541"
      },
      "source": [
        "Let's take a look at the speed range ditribution with the help of graph."
      ]
    },
    {
      "cell_type": "markdown",
      "metadata": {
        "id": "JQg1lApKmR8m"
      },
      "source": [
        "# **Mostly trips are done at a speed range of 5-25 km/hr.**"
      ]
    },
    {
      "cell_type": "markdown",
      "metadata": {
        "id": "CesDtm-_mVuN"
      },
      "source": [
        "# <b>8.Pickup_hour & Dropup_hour"
      ]
    },
    {
      "cell_type": "code",
      "execution_count": null,
      "metadata": {
        "id": "O2eXR_Juha_k"
      },
      "outputs": [],
      "source": [
        "figure,(ax3,ax4)=plt.subplots(ncols=2,figsize=(20,5))\n",
        "ax3.set_title('Pickup Time of Day (24hr format)')\n",
        "ax=sns.countplot(x=\"pickup_hour\",data=nyc_taxi,ax=ax3)\n",
        "ax4.set_title('Dropoff Time of Day (24hr format)')\n",
        "ax=sns.countplot(x=\"dropoff_hour\",data=nyc_taxi,ax=ax4)"
      ]
    },
    {
      "cell_type": "markdown",
      "metadata": {
        "id": "D3v0uFI7miK9"
      },
      "source": [
        "We see the busiest hours are 6:00 pm to 7:00 pm which makes sense as this is the time for people to return home from work."
      ]
    },
    {
      "cell_type": "markdown",
      "metadata": {
        "id": "d69OLye3mjLi"
      },
      "source": [
        "# <b> 9. Pickup_day & Dropup_day"
      ]
    },
    {
      "cell_type": "code",
      "execution_count": null,
      "metadata": {
        "id": "_9wMEEEyha9k"
      },
      "outputs": [],
      "source": [
        "\n",
        "figure,(ax1,ax2)=plt.subplots(ncols=2,figsize=(20,5))\n",
        "ax1.set_title('Pickup Days')\n",
        "ax=sns.countplot(x=\"pickup_day\",data=nyc_taxi,ax=ax1)\n",
        "ax2.set_title('Dropoff Days')\n",
        "ax=sns.countplot(x=\"dropoff_day\",data=nyc_taxi,ax=ax2)"
      ]
    },
    {
      "cell_type": "markdown",
      "metadata": {
        "id": "cFrWWDrFmwKu"
      },
      "source": [
        "We see Fridays are the busiest days followed by Saturdays. That is probably because it’s weekend."
      ]
    },
    {
      "cell_type": "markdown",
      "metadata": {
        "id": "7IyGWiKbm0ON"
      },
      "source": [
        "# **10.Pickup_month & Dropup_month**"
      ]
    },
    {
      "cell_type": "code",
      "execution_count": null,
      "metadata": {
        "id": "6KyfUzzPha7D"
      },
      "outputs": [],
      "source": [
        "figure,(ax1,ax2)=plt.subplots(ncols=2,figsize=(20,5))\n",
        "ax1.set_title('Pickup Months (Jan=1 to June=6)')\n",
        "ax=sns.countplot(x=\"pickup_month\",data=nyc_taxi,ax=ax1)\n",
        "ax2.set_title('Dropoff Months (Jan=1 to June=6)')\n",
        "ax=sns.countplot(x=\"dropoff_month\",data=nyc_taxi,ax=ax2)"
      ]
    },
    {
      "cell_type": "markdown",
      "metadata": {
        "id": "uD5S6Pdxm-6j"
      },
      "source": [
        "There is not much difference in the number of trips across months."
      ]
    },
    {
      "cell_type": "markdown",
      "metadata": {
        "id": "pF13UbfrnC_z"
      },
      "source": [
        "#<b>Bivariate Analysis\n",
        "\n",
        "1.Trip Duration per Vendor"
      ]
    },
    {
      "cell_type": "code",
      "execution_count": null,
      "metadata": {
        "id": "hRFv8n_7ha4i"
      },
      "outputs": [],
      "source": [
        "plt.figure(figsize = (10,5))\n",
        "sns.barplot(y='trip_duration',x='vendor_id',data=nyc_taxi,estimator=np.mean)\n",
        "plt.xlabel('Vendor ID')\n",
        "plt.ylabel('Trip Duration')\n",
        "plt.show()"
      ]
    },
    {
      "cell_type": "markdown",
      "metadata": {
        "id": "AKh6ZgOVnncd"
      },
      "source": [
        "There is no difference beteen  vendor 1 and 2"
      ]
    },
    {
      "cell_type": "markdown",
      "metadata": {
        "id": "XihvznBynsYB"
      },
      "source": [
        "<b>2.Trip Duration per Store and Forward Flagt"
      ]
    },
    {
      "cell_type": "code",
      "execution_count": null,
      "metadata": {
        "id": "1nmp4ZZmha2C"
      },
      "outputs": [],
      "source": [
        "plt.figure(figsize = (10,5))\n",
        "sns.catplot(y='trip_duration',x='store_and_fwd_flag',data=nyc_taxi,kind='strip')\n",
        "plt.xlabel('Store and Forward Flag')\n",
        "plt.ylabel('Duration (seconds)')\n",
        "plt.show()"
      ]
    },
    {
      "cell_type": "markdown",
      "metadata": {
        "id": "CpC9b1Xsn1nL"
      },
      "source": [
        "So from the above graph we can come to know that mostely long trips data havent store on server."
      ]
    },
    {
      "cell_type": "markdown",
      "metadata": {
        "id": "7nC4ZmirogX1"
      },
      "source": [
        "<b>3.Trip Duration per hour"
      ]
    },
    {
      "cell_type": "code",
      "execution_count": null,
      "metadata": {
        "id": "Hi74jVRWhazD"
      },
      "outputs": [],
      "source": [
        "plt.figure(figsize = (10,5))\n",
        "sns.lineplot(x='pickup_hour',y='trip_duration',data=nyc_taxi)\n",
        "plt.xlabel('Time of Pickup (24hr format)')\n",
        "plt.ylabel('Duration (seconds)')\n",
        "plt.show()"
      ]
    },
    {
      "cell_type": "markdown",
      "metadata": {
        "id": "MKhrzRxSopE6"
      },
      "source": [
        "* We see the trip duration is the maximum around 3 pm which may be because of traffic on the roads.\n",
        "* Trip duration is the lowest around 6 am as streets may not be busy."
      ]
    },
    {
      "cell_type": "markdown",
      "metadata": {
        "id": "Deq5i-Lgotcx"
      },
      "source": [
        "<b>4.Trip duration per weekday"
      ]
    },
    {
      "cell_type": "code",
      "execution_count": null,
      "metadata": {
        "id": "TTboZy16okd0"
      },
      "outputs": [],
      "source": [
        "plt.figure(figsize = (10,5))\n",
        "sns.lineplot(x='pickup_day_no',y='trip_duration',data = nyc_taxi)\n",
        "plt.ylabel('Duration (seconds)')\n",
        "plt.xlabel('')\n",
        "plt.show()"
      ]
    },
    {
      "cell_type": "markdown",
      "metadata": {
        "id": "jZSafRvIo5lo"
      },
      "source": [
        "Trip duration on thursday is longest among all days.\n"
      ]
    },
    {
      "cell_type": "markdown",
      "metadata": {
        "id": "pkZMt2mGo8RB"
      },
      "source": [
        "<b>5.Trip duration per month"
      ]
    },
    {
      "cell_type": "code",
      "execution_count": null,
      "metadata": {
        "id": "IeztpH1hokah"
      },
      "outputs": [],
      "source": [
        "plt.figure(figsize = (10,5))\n",
        "sns.lineplot(x='pickup_month',y='trip_duration', data = nyc_taxi)\n",
        "plt.ylabel('Duration (seconds)')\n",
        "plt.xlabel('Month of Trip ')\n",
        "plt.show()"
      ]
    },
    {
      "cell_type": "markdown",
      "metadata": {
        "id": "v5Nn0rz6pRp1"
      },
      "source": [
        "* From February, we can see trip duration rising every month.\n",
        "* There might be some seasonal parameters like wind/rain which can be a factor of this gradual increase in trip duration over a period.\n"
      ]
    },
    {
      "cell_type": "markdown",
      "metadata": {
        "id": "ou_qOCqVvgtS"
      },
      "source": [
        "<b>6.Distance and Hour"
      ]
    },
    {
      "cell_type": "code",
      "execution_count": null,
      "metadata": {
        "id": "kiuzO9tyokUX"
      },
      "outputs": [],
      "source": [
        "plt.figure(figsize = (10,5))\n",
        "sns.lineplot(y='distance',x='pickup_hour',data=nyc_taxi)\n",
        "plt.ylabel('Distance')\n",
        "plt.xlabel('Pickup Hour')\n",
        "plt.show()"
      ]
    },
    {
      "cell_type": "markdown",
      "metadata": {
        "id": "5LNN5gilvvRH"
      },
      "source": [
        "* Trip distance is highest during early morning hours.\n",
        "* It is fairly equal from morning till the evening varying around 3 - 3.5 kms.\n",
        "* It starts increasing gradually towards the late night hours starting from evening till 5 AM and decrease steeply towards morning.\n"
      ]
    },
    {
      "cell_type": "markdown",
      "source": [
        "**7.Passenger_count and Trip Duration**"
      ],
      "metadata": {
        "id": "yZqhdBGLPRBX"
      }
    },
    {
      "cell_type": "code",
      "source": [
        "\n",
        "sns.catplot(y='trip_duration',x='passenger_count',data=nyc_taxi,kind='strip')\n"
      ],
      "metadata": {
        "id": "nC-uoI07O5rQ"
      },
      "execution_count": null,
      "outputs": []
    },
    {
      "cell_type": "markdown",
      "metadata": {
        "id": "LnSpec9Ywmdi"
      },
      "source": [
        "<b>8.Distance and Trip Duration"
      ]
    },
    {
      "cell_type": "code",
      "execution_count": null,
      "metadata": {
        "id": "-uZd0BZHokNL"
      },
      "outputs": [],
      "source": [
        "plt.figure(figsize = (10,5))\n",
        "plt.scatter(x='trip_duration', y='distance',data=nyc_taxi)\n",
        "plt.ylabel('Distance')\n",
        "plt.xlabel('Trip Duration')\n",
        "plt.show()\n"
      ]
    },
    {
      "cell_type": "markdown",
      "source": [
        "**9.Passenger_count and Distance**"
      ],
      "metadata": {
        "id": "S6G3BbCbRd6v"
      }
    },
    {
      "cell_type": "code",
      "source": [
        "sns.catplot(y='distance',x='passenger_count',data=nyc_taxi,kind='strip')"
      ],
      "metadata": {
        "id": "rqvmuihdPt6W"
      },
      "execution_count": null,
      "outputs": []
    },
    {
      "cell_type": "markdown",
      "source": [
        "**We see some of the longer distances are covered by either 1 or 2 or 4 passenger rides.**"
      ],
      "metadata": {
        "id": "Lo_Wl_uDRt_t"
      }
    },
    {
      "cell_type": "code",
      "source": [
        "# Distance per month\n",
        "sns.lineplot(x='pickup_month',y='distance',data= nyc_taxi)"
      ],
      "metadata": {
        "id": "VcLFBZApQNOf"
      },
      "execution_count": null,
      "outputs": []
    },
    {
      "cell_type": "code",
      "source": [
        "# Distance and Store and Forward Flag\n",
        "sns.catplot(y='distance',x='store_and_fwd_flag',data=nyc_taxi,kind='strip')"
      ],
      "metadata": {
        "id": "jQVO1ZHVP1QW"
      },
      "execution_count": null,
      "outputs": []
    },
    {
      "cell_type": "markdown",
      "metadata": {
        "id": "N_a4KgA3w2Uo"
      },
      "source": [
        "Initially there is some proper correlation between the distance covered and the trip duration in the graph, but later on it seems a little uncorrelated."
      ]
    },
    {
      "cell_type": "markdown",
      "metadata": {
        "id": "P6sGkjNCxAb_"
      },
      "source": [
        "We should remove those trips which covered 0 km distance."
      ]
    },
    {
      "cell_type": "markdown",
      "metadata": {
        "id": "MLMmnTNoxelc"
      },
      "source": [
        "The straight line shows some linear relation between the two."
      ]
    },
    {
      "cell_type": "markdown",
      "metadata": {
        "id": "PtxCeRDq0HU8"
      },
      "source": [
        "#<b>Correlation Analysis"
      ]
    },
    {
      "cell_type": "markdown",
      "source": [
        ""
      ],
      "metadata": {
        "id": "SCVQvcBt5TNw"
      }
    },
    {
      "cell_type": "code",
      "execution_count": null,
      "metadata": {
        "id": "iMvZ1xYLIBEh"
      },
      "outputs": [],
      "source": [
        "klib.corr_plot(nyc_taxi)"
      ]
    },
    {
      "cell_type": "markdown",
      "metadata": {
        "id": "o8ucZjjXxnc0"
      },
      "source": [
        "#<b>Feature Engineering"
      ]
    },
    {
      "cell_type": "markdown",
      "metadata": {
        "id": "IbIqvB-XxslT"
      },
      "source": [
        "**One Hot Encoding**\n",
        "\n",
        "Dummify features like 'store_and_fwd_flag', and 'pickup_weekday'."
      ]
    },
    {
      "cell_type": "code",
      "source": [
        "nyc_taxi.head(2)"
      ],
      "metadata": {
        "id": "p5Xa1TNrXghM"
      },
      "execution_count": null,
      "outputs": []
    },
    {
      "cell_type": "code",
      "source": [
        "# One hot encoding\n",
        "nyc_taxi = pd.get_dummies(nyc_taxi, columns=[\"store_and_fwd_flag\", \"pickup_timeofday\",\"dropoff_timeofday\"], prefix=[\"store\", \"pickup\",\"dropoff\"])"
      ],
      "metadata": {
        "id": "VdW5SpmyXWC6"
      },
      "execution_count": null,
      "outputs": []
    },
    {
      "cell_type": "code",
      "source": [
        "plt.figure(figsize=(20,12))\n",
        "correlation = nyc_taxi.corr()\n",
        "sns.heatmap(abs(correlation), annot=True, cmap='coolwarm')"
      ],
      "metadata": {
        "id": "UJ1b60LearT1"
      },
      "execution_count": null,
      "outputs": []
    },
    {
      "cell_type": "code",
      "source": [
        "df_corr = nyc_taxi.copy()\n",
        "df_corr.drop(['id','speed','trip_duration'],axis=1,inplace=True)"
      ],
      "metadata": {
        "id": "U1AhpZiJayPz"
      },
      "execution_count": null,
      "outputs": []
    },
    {
      "cell_type": "code",
      "source": [
        "plt.figure(figsize=(20,12))\n",
        "correlation = df_corr.corr()\n",
        "sns.heatmap(abs(correlation), annot=True, cmap='coolwarm')"
      ],
      "metadata": {
        "id": "48ZW48eIaL9l"
      },
      "execution_count": null,
      "outputs": []
    },
    {
      "cell_type": "code",
      "execution_count": null,
      "metadata": {
        "id": "yU-wcjr3NPXQ"
      },
      "outputs": [],
      "source": [
        "# Lets Drop he features which are havinh high colinearioty with each other ( More than 0.4)\n",
        "df_corr.drop(['dropoff_Afternoon','dropoff_Evening', 'dropoff_Late night', 'dropoff_Morning','pickup_longitude', \n",
        "              'dropoff_latitude','store_Y','store_N','dropoff_day_no', 'pickup_hour','pickup_Evening','pickup_Morning','dropoff_month','dropoff_hour'],axis=1,inplace=True)"
      ]
    },
    {
      "cell_type": "code",
      "source": [
        "plt.figure(figsize=(20,12))\n",
        "correlation = df_corr.corr()\n",
        "sns.heatmap(abs(correlation), annot=True, cmap='coolwarm')"
      ],
      "metadata": {
        "id": "rf0_EowBi3B-"
      },
      "execution_count": null,
      "outputs": []
    },
    {
      "cell_type": "code",
      "source": [
        "df_corr['trip_duration'] = nyc_taxi['trip_duration']"
      ],
      "metadata": {
        "id": "-adMdJYJpx11"
      },
      "execution_count": null,
      "outputs": []
    },
    {
      "cell_type": "code",
      "source": [
        "plt.figure(figsize=(20,12))\n",
        "correlation = df_corr.corr()\n",
        "sns.heatmap(abs(correlation), annot=True, cmap='coolwarm')"
      ],
      "metadata": {
        "id": "ynCB6gQ5q7H8"
      },
      "execution_count": null,
      "outputs": []
    },
    {
      "cell_type": "code",
      "source": [
        "independent_variables=['vendor_id', 'passenger_count',\n",
        "       'dropoff_longitude', 'pickup_latitude',\n",
        "       'pickup_day_no', 'pickup_month', 'distance',\n",
        "       'pickup_Afternoon', 'pickup_Late night']"
      ],
      "metadata": {
        "id": "spqPYBWYsE7d"
      },
      "execution_count": null,
      "outputs": []
    },
    {
      "cell_type": "code",
      "execution_count": null,
      "metadata": {
        "id": "sVSX7hcEUN1n"
      },
      "outputs": [],
      "source": [
        "# Create the data of independent variables\n",
        "X = df_corr[independent_variables]\n",
        "\n",
        "# Create the dependent variable data\n",
        "y = df_corr['trip_duration']"
      ]
    },
    {
      "cell_type": "code",
      "execution_count": null,
      "metadata": {
        "id": "aEEn3D6JXbKr"
      },
      "outputs": [],
      "source": [
        "print(X.shape)\n",
        "print(y.shape)"
      ]
    },
    {
      "cell_type": "code",
      "execution_count": null,
      "metadata": {
        "id": "4QFDkDzJVVpi"
      },
      "outputs": [],
      "source": [
        "from sklearn.preprocessing import MinMaxScaler\n",
        "from sklearn.preprocessing import StandardScaler"
      ]
    },
    {
      "cell_type": "code",
      "execution_count": null,
      "metadata": {
        "id": "XB4bmF6xU0ZJ"
      },
      "outputs": [],
      "source": [
        "# Transforming data\n",
        "scaler = StandardScaler()\n",
        "X = scaler.fit_transform(X)"
      ]
    },
    {
      "cell_type": "code",
      "execution_count": null,
      "metadata": {
        "id": "N7QtSby0VZG1"
      },
      "outputs": [],
      "source": [
        "X[0:2]"
      ]
    },
    {
      "cell_type": "markdown",
      "metadata": {
        "id": "m7aYWtgt13Lo"
      },
      "source": [
        "#<b>Splitting the data in train and test sets"
      ]
    },
    {
      "cell_type": "code",
      "execution_count": null,
      "metadata": {
        "id": "u72bhuxh0KYp"
      },
      "outputs": [],
      "source": [
        "#Importing RFE and Linear Regression \n",
        "from sklearn.model_selection import train_test_split\n",
        "\n",
        "# Splitting the dataset into the Training set and Test set\n",
        "X_train, X_test, y_train, y_test = train_test_split(X, y, test_size=0.3, random_state=0)"
      ]
    },
    {
      "cell_type": "markdown",
      "metadata": {
        "id": "2hl26Wkr2NNs"
      },
      "source": [
        "Splited the selected data set in 70-30 split for training and testing purpose respectively"
      ]
    },
    {
      "cell_type": "code",
      "execution_count": 354,
      "metadata": {
        "colab": {
          "base_uri": "https://localhost:8080/"
        },
        "id": "H0wCYG6hXrlc",
        "outputId": "14117512-212d-405c-95e5-383db40152b6"
      },
      "outputs": [
        {
          "output_type": "stream",
          "name": "stdout",
          "text": [
            "Train Data Shape\n",
            "(1002901, 9)\n",
            "(1002901,)\n",
            "\n",
            "\n",
            "Test Data Shape\n",
            "(429815, 9)\n",
            "(429815,)\n"
          ]
        }
      ],
      "source": [
        "print('Train Data Shape')\n",
        "print(X_train.shape)\n",
        "print(y_train.shape)\n",
        "print('\\n')\n",
        "print('Test Data Shape')\n",
        "print(X_test.shape)\n",
        "print(y_test.shape)"
      ]
    },
    {
      "cell_type": "code",
      "execution_count": 355,
      "metadata": {
        "id": "6rCRbXdGa3g-"
      },
      "outputs": [],
      "source": [
        "from sklearn.metrics import r2_score\n",
        "from sklearn.metrics import mean_squared_error\n",
        "from sklearn.metrics import mean_absolute_error"
      ]
    },
    {
      "cell_type": "markdown",
      "metadata": {
        "id": "pRjXnAQuYmJn"
      },
      "source": [
        "#<b>Linear Regression"
      ]
    },
    {
      "cell_type": "code",
      "execution_count": 356,
      "metadata": {
        "colab": {
          "base_uri": "https://localhost:8080/"
        },
        "id": "jNin80b80KWB",
        "outputId": "4aff6da7-188c-4852-dd03-0cb7c8390656"
      },
      "outputs": [
        {
          "output_type": "execute_result",
          "data": {
            "text/plain": [
              "LinearRegression()"
            ]
          },
          "metadata": {},
          "execution_count": 356
        }
      ],
      "source": [
        "# Fitting Multiple Linear Regression to the Training set\n",
        "from sklearn.linear_model import LinearRegression\n",
        "linear_reg =  LinearRegression()\n",
        "\n",
        "#Aplly model on train dataset\n",
        "linear_reg.fit(X_train, y_train)"
      ]
    },
    {
      "cell_type": "code",
      "execution_count": 357,
      "metadata": {
        "colab": {
          "base_uri": "https://localhost:8080/"
        },
        "id": "OXRfktoMZs0v",
        "outputId": "3b813493-83a9-4b69-8199-1649bc681153"
      },
      "outputs": [
        {
          "output_type": "execute_result",
          "data": {
            "text/plain": [
              "0.5906774665586653"
            ]
          },
          "metadata": {},
          "execution_count": 357
        }
      ],
      "source": [
        "#model score on train dataset\n",
        "linear_reg.score(X_train, y_train)"
      ]
    },
    {
      "cell_type": "code",
      "execution_count": 358,
      "metadata": {
        "id": "lnpcJrMzcAxe"
      },
      "outputs": [],
      "source": [
        "#predicted value of train and test dataset\n",
        "y_pred_train = linear_reg.predict(X_train)\n",
        "y_pred_test = linear_reg.predict(X_test)"
      ]
    },
    {
      "cell_type": "code",
      "execution_count": 359,
      "metadata": {
        "colab": {
          "base_uri": "https://localhost:8080/"
        },
        "id": "CZchcpoWbQZf",
        "outputId": "c5943a15-c5d4-41d5-c5e1-4e56a818bf13"
      },
      "outputs": [
        {
          "output_type": "stream",
          "name": "stdout",
          "text": [
            "Train MSE : 134941.59275596906\n",
            "Train R2 : 0.5906774665586653\n",
            "Train Adjusted R2 :  0.5906737932753264\n"
          ]
        }
      ],
      "source": [
        "#Train Data Evaluation Metrics \n",
        "lr_train_mse  = mean_squared_error((y_train), (y_pred_train))\n",
        "print(\"Train MSE :\" , lr_train_mse)\n",
        "\n",
        "lr_train_r2 = r2_score((y_train), (y_pred_train))\n",
        "print(\"Train R2 :\" ,lr_train_r2) \n",
        "\n",
        "lr_train_r2_ = 1-(1-r2_score((y_train), (y_pred_train)))*((X_train.shape[0]-1)/(X_train.shape[0]-X_train.shape[1]-1))\n",
        "print(\"Train Adjusted R2 : \",lr_train_r2_)"
      ]
    },
    {
      "cell_type": "code",
      "execution_count": 360,
      "metadata": {
        "colab": {
          "base_uri": "https://localhost:8080/"
        },
        "id": "1PVZAwxecvx6",
        "outputId": "5a6b8610-2678-4520-cb45-7d8f38021ce4"
      },
      "outputs": [
        {
          "output_type": "stream",
          "name": "stdout",
          "text": [
            "Test MSE : 136348.41671735494\n",
            "Test R2 : 0.5879876518591438\n",
            "Test Adjusted R2 :  0.5879790244324427\n"
          ]
        }
      ],
      "source": [
        "lr_test_mse  = mean_squared_error((y_test), (y_pred_test))\n",
        "print(\"Test MSE :\" , lr_test_mse)\n",
        "\n",
        "lr_test_r2 = r2_score((y_test), (y_pred_test))\n",
        "print(\"Test R2 :\" ,lr_test_r2)\n",
        "\n",
        "lr_test_r2_ = 1-(1-r2_score((y_test), (y_pred_test)))*((X_test.shape[0]-1)/(X_test.shape[0]-X_test.shape[1]-1))\n",
        "print(\"Test Adjusted R2 : \",lr_test_r2_)"
      ]
    },
    {
      "cell_type": "code",
      "execution_count": 361,
      "metadata": {
        "colab": {
          "base_uri": "https://localhost:8080/",
          "height": 341
        },
        "id": "AXx5xqU33TxZ",
        "outputId": "82a1d081-69c0-420b-94f0-0bc0a6ed9cca"
      },
      "outputs": [
        {
          "output_type": "display_data",
          "data": {
            "text/plain": [
              "<Figure size 720x360 with 1 Axes>"
            ],
            "image/png": "[encoded data removed]"
          },
          "metadata": {
            "needs_background": "light"
          }
        }
      ],
      "source": [
        "plt.figure(figsize= (10,5))\n",
        "c= [i for i in range(0, len(y_test))]\n",
        "plt.plot(c, y_test-y_pred_test, color='blue', linewidth=2.5, linestyle='-')\n",
        "plt.title('Error Term', fontsize=20)\n",
        "plt.show()"
      ]
    },
    {
      "cell_type": "code",
      "execution_count": 362,
      "metadata": {
        "colab": {
          "base_uri": "https://localhost:8080/",
          "height": 341
        },
        "id": "aF5hbq2K3Tys",
        "outputId": "79b28a99-a621-428d-8eda-85ce48d997df"
      },
      "outputs": [
        {
          "output_type": "display_data",
          "data": {
            "text/plain": [
              "<Figure size 720x360 with 1 Axes>"
            ],
            "image/png": "[encoded data removed]"
          },
          "metadata": {
            "needs_background": "light"
          }
        }
      ],
      "source": [
        "#Actual vs Prediction\n",
        "plt.figure(figsize= (10,5))\n",
        "c= [i for i in range(0, len(y_test))]\n",
        "plt.plot(c, y_test, color='blue', linewidth=2.5, linestyle='-')\n",
        "plt.plot(c, y_pred_test, color='red', linewidth=2.5, linestyle='-')\n",
        "plt.title('Actual vs Predicted for Test Data', fontsize=20)\n",
        "plt.legend([\"Actual\", \"Predicted\"])\n",
        "plt.show()"
      ]
    },
    {
      "cell_type": "markdown",
      "metadata": {
        "id": "PgmnP9IF4u-O"
      },
      "source": [
        "As we can clearly see the Linear regression model does not provide us with high accuracy. It has high prediction error on the metrics we tested."
      ]
    },
    {
      "cell_type": "markdown",
      "metadata": {
        "id": "3cLz4rie40WN"
      },
      "source": [
        "#<b>Running Lasso Regression"
      ]
    },
    {
      "cell_type": "code",
      "execution_count": 363,
      "metadata": {
        "id": "-BvLqZ063Tuu"
      },
      "outputs": [],
      "source": [
        "from sklearn.linear_model import Lasso\n",
        "from sklearn.model_selection import GridSearchCV\n",
        "#Cross validation\n",
        "lasso = Lasso()\n",
        "parameters = {'alpha': [1e-15,1e-13,1e-10,1e-8,1e-5,1e-4,1e-3,1e-2,1e-1,1,5,10,20,30,40,45,50,55,60,100]}\n",
        "lasso_regressor = GridSearchCV(lasso, parameters, scoring='r2', cv=5)"
      ]
    },
    {
      "cell_type": "code",
      "execution_count": 364,
      "metadata": {
        "colab": {
          "base_uri": "https://localhost:8080/"
        },
        "id": "BI7r8UWNTx0m",
        "outputId": "24f90d6b-a134-4f44-bfbe-a2ac12aa9d93"
      },
      "outputs": [
        {
          "output_type": "execute_result",
          "data": {
            "text/plain": [
              "GridSearchCV(cv=5, estimator=Lasso(),\n",
              "             param_grid={'alpha': [1e-15, 1e-13, 1e-10, 1e-08, 1e-05, 0.0001,\n",
              "                                   0.001, 0.01, 0.1, 1, 5, 10, 20, 30, 40, 45,\n",
              "                                   50, 55, 60, 100]},\n",
              "             scoring='r2')"
            ]
          },
          "metadata": {},
          "execution_count": 364
        }
      ],
      "source": [
        "lasso_regressor.fit(X_train, y_train)"
      ]
    },
    {
      "cell_type": "code",
      "execution_count": 365,
      "metadata": {
        "colab": {
          "base_uri": "https://localhost:8080/"
        },
        "id": "3s8Clzwq3TtG",
        "outputId": "ff388306-0186-4e58-9b1f-2a8974818193"
      },
      "outputs": [
        {
          "output_type": "stream",
          "name": "stdout",
          "text": [
            "The best fit alpha value is found out to be : {'alpha': 0.001}\n",
            "The R2 score using the same alpha is : 0.5906509345538512\n"
          ]
        }
      ],
      "source": [
        "print('The best fit alpha value is found out to be :', lasso_regressor.best_params_)\n",
        "print('The R2 score using the same alpha is :', lasso_regressor.best_score_)"
      ]
    },
    {
      "cell_type": "markdown",
      "metadata": {
        "id": "4APHetL-RZzs"
      },
      "source": [
        "**The best parameters for the LASSO Regression which we already tested before to save time when running it again.**\n",
        "* The best fit alpha value is found out to be : {'alpha': 0.0001}"
      ]
    },
    {
      "cell_type": "code",
      "execution_count": 366,
      "metadata": {
        "colab": {
          "base_uri": "https://localhost:8080/"
        },
        "id": "5Sh31U993Tqu",
        "outputId": "18f018f6-95f2-47e9-9608-12b06c12c254"
      },
      "outputs": [
        {
          "output_type": "execute_result",
          "data": {
            "text/plain": [
              "0.5906774665222962"
            ]
          },
          "metadata": {},
          "execution_count": 366
        }
      ],
      "source": [
        "lasso_regressor.score(X_train, y_train)"
      ]
    },
    {
      "cell_type": "code",
      "execution_count": 367,
      "metadata": {
        "id": "3F6CPK-r3Tph"
      },
      "outputs": [],
      "source": [
        "y_pred_lasso_train = lasso_regressor.predict(X_train)\n",
        "y_pred_lasso_test = lasso_regressor.predict(X_test)"
      ]
    },
    {
      "cell_type": "markdown",
      "metadata": {
        "id": "Y_pA4HM_5X5K"
      },
      "source": [
        "#<b>Model Evaluation"
      ]
    },
    {
      "cell_type": "code",
      "execution_count": 368,
      "metadata": {
        "colab": {
          "base_uri": "https://localhost:8080/"
        },
        "id": "_YJ7Ga1P3TlT",
        "outputId": "2a36b7b3-ade4-4fc2-92ad-4cba95c25f2a"
      },
      "outputs": [
        {
          "output_type": "stream",
          "name": "stdout",
          "text": [
            "Train MSE : 134941.59276795888\n",
            "Train R2 : 0.5906774665222962\n",
            "Train Adjusted R2 :  0.5906774665222962\n"
          ]
        }
      ],
      "source": [
        "lasso_train_mse  = mean_squared_error(y_train, y_pred_lasso_train)\n",
        "print(\"Train MSE :\" , lasso_train_mse)\n",
        "\n",
        "lasso_train_r2 = r2_score(y_train, y_pred_lasso_train)\n",
        "print(\"Train R2 :\" ,lasso_train_r2)\n",
        "\n",
        "lasso_train_r2_= 1-(1-r2_score(y_train, y_pred_lasso_train))*((X_train.shape[0]-1)/(X_train.shape[0]-X_train.shape[1]-1))\n",
        "print(\"Train Adjusted R2 : \", lasso_train_r2)"
      ]
    },
    {
      "cell_type": "code",
      "execution_count": 369,
      "metadata": {
        "colab": {
          "base_uri": "https://localhost:8080/"
        },
        "id": "Eiuv_p5J3TjI",
        "outputId": "adba92db-e900-45a1-9b2c-cec2d133104d"
      },
      "outputs": [
        {
          "output_type": "stream",
          "name": "stdout",
          "text": [
            "Test MSE : 136348.4103072988\n",
            "Test R2 : 0.5879876712288024\n",
            "Test Adjusted R2 :  0.5879790438025068\n"
          ]
        }
      ],
      "source": [
        "lasso_test_mse  = mean_squared_error(y_test, y_pred_lasso_test)\n",
        "print(\"Test MSE :\" , lasso_test_mse)\n",
        "\n",
        "lasso_test_r2 = r2_score(y_test, y_pred_lasso_test)\n",
        "print(\"Test R2 :\" ,lasso_test_r2)\n",
        "\n",
        "lasso_test_r2_= 1-(1-r2_score(y_test, y_pred_lasso_test))*((X_test.shape[0]-1)/(X_test.shape[0]-X_test.shape[1]-1))\n",
        "print(\"Test Adjusted R2 : \", lasso_test_r2_)"
      ]
    },
    {
      "cell_type": "code",
      "execution_count": 370,
      "metadata": {
        "colab": {
          "base_uri": "https://localhost:8080/",
          "height": 341
        },
        "id": "wW41xTNd3TfU",
        "outputId": "aef91f1f-6157-4747-9ceb-8d66b4d09305"
      },
      "outputs": [
        {
          "output_type": "display_data",
          "data": {
            "text/plain": [
              "<Figure size 720x360 with 1 Axes>"
            ],
            "image/png": "[encoded data removed]"
          },
          "metadata": {
            "needs_background": "light"
          }
        }
      ],
      "source": [
        "plt.figure(figsize= (10,5))\n",
        "c= [i for i in range(0, len(y_test))]\n",
        "plt.plot(c, y_test-y_pred_lasso_test, color='blue', linewidth=2.5, linestyle='-')\n",
        "plt.title('Error Term', fontsize=20)\n",
        "plt.show()"
      ]
    },
    {
      "cell_type": "code",
      "execution_count": 371,
      "metadata": {
        "colab": {
          "base_uri": "https://localhost:8080/",
          "height": 341
        },
        "id": "zXyM1wSt3Th6",
        "outputId": "5c31d181-e8f0-4eda-f644-8fb937bdf55d"
      },
      "outputs": [
        {
          "output_type": "display_data",
          "data": {
            "text/plain": [
              "<Figure size 720x360 with 1 Axes>"
            ],
            "image/png": "[encoded data removed]"
          },
          "metadata": {
            "needs_background": "light"
          }
        }
      ],
      "source": [
        "#Actual vs Prediction\n",
        "plt.figure(figsize= (10,5))\n",
        "c= [i for i in range(0, len(y_test))]\n",
        "plt.plot(c, y_test, color='blue', linewidth=2.5, linestyle='-')\n",
        "plt.plot(c, y_pred_lasso_test, color='red', linewidth=2.5, linestyle='-')\n",
        "plt.title('Actual vs Predicted for Test Data', fontsize=20)\n",
        "plt.legend([\"Actual\", \"Predicted\"])\n",
        "plt.show()"
      ]
    },
    {
      "cell_type": "markdown",
      "metadata": {
        "id": "OrjXtt8u55Pr"
      },
      "source": [
        "The Lasso regresion model doesn't improve on the Linear model either."
      ]
    },
    {
      "cell_type": "markdown",
      "metadata": {
        "id": "rzt4nl7_57YW"
      },
      "source": [
        "#<b>Running Ridge Regression"
      ]
    },
    {
      "cell_type": "code",
      "execution_count": 372,
      "metadata": {
        "colab": {
          "base_uri": "https://localhost:8080/"
        },
        "id": "dlu-Ez5D5vXd",
        "outputId": "42eabfc1-8030-41e9-8143-a48c5fa27807"
      },
      "outputs": [
        {
          "output_type": "execute_result",
          "data": {
            "text/plain": [
              "GridSearchCV(cv=5, estimator=Ridge(),\n",
              "             param_grid={'alpha': [1e-15, 1e-13, 1e-10, 1e-08, 1e-05, 0.0001,\n",
              "                                   0.001, 0.01, 0.1, 1, 5, 10, 20, 30, 40, 45,\n",
              "                                   50, 55, 60, 100]},\n",
              "             scoring='r2')"
            ]
          },
          "metadata": {},
          "execution_count": 372
        }
      ],
      "source": [
        "from sklearn.linear_model import Ridge\n",
        "#Cross validation\n",
        "ridge = Ridge()\n",
        "parameters = {'alpha': [1e-15,1e-13,1e-10,1e-8,1e-5,1e-4,1e-3,1e-2,1e-1,1,5,10,20,30,40,45,50,55,60,100]}\n",
        "ridge_regressor = GridSearchCV(ridge, parameters, scoring='r2', cv=5)\n",
        "ridge_regressor.fit(X_train, y_train)"
      ]
    },
    {
      "cell_type": "code",
      "execution_count": 373,
      "metadata": {
        "colab": {
          "base_uri": "https://localhost:8080/"
        },
        "id": "_-CUpOOJ5vTs",
        "outputId": "db6e0aac-2227-45f4-9fe1-4044e8176e16"
      },
      "outputs": [
        {
          "output_type": "stream",
          "name": "stdout",
          "text": [
            "The best fit alpha value is found out to be : {'alpha': 40}\n",
            "The R2 score using the same alpha is : 0.5906509366023351\n"
          ]
        }
      ],
      "source": [
        "print('The best fit alpha value is found out to be :' ,ridge_regressor.best_params_)\n",
        "print('The R2 score using the same alpha is :', ridge_regressor.best_score_)"
      ]
    },
    {
      "cell_type": "markdown",
      "metadata": {
        "id": "yR4NGKt_SRaZ"
      },
      "source": [
        "**The best parameters for the RIDGE Regression which we already tested before to save time when running it again.**\n",
        "* The best fit alpha value is found out to be : {'alpha': 0.01}"
      ]
    },
    {
      "cell_type": "code",
      "execution_count": 374,
      "metadata": {
        "colab": {
          "base_uri": "https://localhost:8080/"
        },
        "id": "gmigaGMU5vSc",
        "outputId": "f1f2869d-f1ba-4eda-8507-30524c1a4f3c"
      },
      "outputs": [
        {
          "output_type": "execute_result",
          "data": {
            "text/plain": [
              "0.5906774650769"
            ]
          },
          "metadata": {},
          "execution_count": 374
        }
      ],
      "source": [
        "ridge_regressor.score(X_train, y_train)"
      ]
    },
    {
      "cell_type": "code",
      "execution_count": 375,
      "metadata": {
        "id": "Tq32r7Y25vRF"
      },
      "outputs": [],
      "source": [
        "y_pred_ridge_train=ridge_regressor.predict(X_train)\n",
        "y_pred_ridge_test = ridge_regressor.predict(X_test)"
      ]
    },
    {
      "cell_type": "markdown",
      "metadata": {
        "id": "g6u-6oH968w_"
      },
      "source": [
        "#<b>Model Evaluation"
      ]
    },
    {
      "cell_type": "code",
      "execution_count": 376,
      "metadata": {
        "colab": {
          "base_uri": "https://localhost:8080/"
        },
        "id": "NysWmT7j5vOf",
        "outputId": "4026f161-7ba1-4a86-e847-35c12aaa0ae5"
      },
      "outputs": [
        {
          "output_type": "stream",
          "name": "stdout",
          "text": [
            "Train MSE : 134941.59324446347\n",
            "Train R2 : 0.5906774650769\n",
            "Train Adjusted R2 :  0.5906774650769\n"
          ]
        }
      ],
      "source": [
        "ridge_train_mse  = mean_squared_error(y_train, y_pred_ridge_train)\n",
        "print(\"Train MSE :\" , ridge_train_mse)\n",
        "\n",
        "ridge_train_r2 = r2_score(y_train, y_pred_ridge_train)\n",
        "print(\"Train R2 :\" ,ridge_train_r2)\n",
        "\n",
        "ridge_train_r2_= 1-(1-r2_score(y_train, y_pred_ridge_train))*((X_train.shape[0]-1)/(X_train.shape[0]-X_train.shape[1]-1))\n",
        "print(\"Train Adjusted R2 : \", ridge_train_r2)"
      ]
    },
    {
      "cell_type": "code",
      "execution_count": 377,
      "metadata": {
        "colab": {
          "base_uri": "https://localhost:8080/"
        },
        "id": "iEsu4tE85vNG",
        "outputId": "11305ad2-f44c-46eb-bb79-fdfe6b40454a"
      },
      "outputs": [
        {
          "output_type": "stream",
          "name": "stdout",
          "text": [
            "Test MSE : 136348.38886894388\n",
            "Test R2 : 0.5879877360103903\n",
            "Test Adjusted R2 :  0.5879791085854513\n"
          ]
        }
      ],
      "source": [
        "ridge_test_mse  = mean_squared_error(y_test, y_pred_ridge_test)\n",
        "print(\"Test MSE :\" , ridge_test_mse)\n",
        "\n",
        "ridge_test_r2 = r2_score(y_test, y_pred_ridge_test)\n",
        "print(\"Test R2 :\" ,ridge_test_r2)\n",
        "\n",
        "ridge_test_r2_= 1-(1-r2_score(y_test, y_pred_ridge_test))*((X_test.shape[0]-1)/(X_test.shape[0]-X_test.shape[1]-1))\n",
        "print(\"Test Adjusted R2 : \", ridge_test_r2_)"
      ]
    },
    {
      "cell_type": "code",
      "execution_count": 378,
      "metadata": {
        "colab": {
          "base_uri": "https://localhost:8080/",
          "height": 341
        },
        "id": "vCfSl66E5vIz",
        "outputId": "ba229127-67a4-401e-ab41-052d4072d0ba"
      },
      "outputs": [
        {
          "output_type": "display_data",
          "data": {
            "text/plain": [
              "<Figure size 720x360 with 1 Axes>"
            ],
            "image/png": "[encoded data removed]"
          },
          "metadata": {
            "needs_background": "light"
          }
        }
      ],
      "source": [
        "plt.figure(figsize= (10,5))\n",
        "c= [i for i in range(0, len(y_test))]\n",
        "plt.plot(c, y_test-y_pred_ridge_test, color='blue', linewidth=2.5, linestyle='-')\n",
        "plt.title('Error Term', fontsize=20)\n",
        "plt.show()"
      ]
    },
    {
      "cell_type": "code",
      "execution_count": 379,
      "metadata": {
        "colab": {
          "base_uri": "https://localhost:8080/",
          "height": 341
        },
        "id": "wTvFUim75vKR",
        "outputId": "dfb95283-d3b7-4ce7-c4ea-7847ab9bdac2"
      },
      "outputs": [
        {
          "output_type": "display_data",
          "data": {
            "text/plain": [
              "<Figure size 720x360 with 1 Axes>"
            ],
            "image/png": "[encoded data removed]"
          },
          "metadata": {
            "needs_background": "light"
          }
        }
      ],
      "source": [
        "#Actual vs Prediction\n",
        "plt.figure(figsize= (10,5))\n",
        "c= [i for i in range(0, len(y_test))]\n",
        "plt.plot(c, y_test, color='blue', linewidth=2.5, linestyle='-')\n",
        "plt.plot(c, y_pred_ridge_test, color='red', linewidth=2.5, linestyle='-')\n",
        "plt.title('Actual vs Predicted for Test Data', fontsize=20)\n",
        "plt.legend([\"Actual\", \"Predicted\"])\n",
        "plt.show()"
      ]
    },
    {
      "cell_type": "markdown",
      "metadata": {
        "id": "sO92mCpa7UuQ"
      },
      "source": [
        "The Ridge regresion model doesn't improve on the Linear model either."
      ]
    },
    {
      "cell_type": "markdown",
      "metadata": {
        "id": "7HRFse6N7f0g"
      },
      "source": [
        "#<b>Running Decision Tree Regressor"
      ]
    },
    {
      "cell_type": "code",
      "execution_count": 380,
      "metadata": {
        "id": "iVMEQfyM5vGZ"
      },
      "outputs": [],
      "source": [
        "from sklearn.tree import DecisionTreeRegressor"
      ]
    },
    {
      "cell_type": "code",
      "execution_count": 381,
      "metadata": {
        "id": "6RzE5-6E5vE-"
      },
      "outputs": [],
      "source": [
        "# Maximum depth of trees\n",
        "max_depth = [4,6,8,10]\n",
        "\n",
        "# Minimum number of samples required to split a node\n",
        "min_samples_split = [10,20,30]\n",
        "\n",
        "# Minimum number of samples required at each leaf node\n",
        "min_samples_leaf = [8,16,22]\n",
        "\n",
        "# Hyperparameter Grid\n",
        "param_dict_dt = {'max_depth' : max_depth,'min_samples_split' : min_samples_split,'min_samples_leaf' : min_samples_leaf}"
      ]
    },
    {
      "cell_type": "code",
      "execution_count": 382,
      "metadata": {
        "colab": {
          "base_uri": "https://localhost:8080/"
        },
        "id": "Ad19W-GZ5u_3",
        "outputId": "04c2205b-cbb8-4914-c4f5-538f8e6ec522"
      },
      "outputs": [
        {
          "output_type": "stream",
          "name": "stdout",
          "text": [
            "Fitting 5 folds for each of 36 candidates, totalling 180 fits\n",
            "[CV] END max_depth=4, min_samples_leaf=8, min_samples_split=10; total time=   2.5s\n",
            "[CV] END max_depth=4, min_samples_leaf=8, min_samples_split=10; total time=   2.5s\n",
            "[CV] END max_depth=4, min_samples_leaf=8, min_samples_split=10; total time=   2.4s\n",
            "[CV] END max_depth=4, min_samples_leaf=8, min_samples_split=10; total time=   2.4s\n",
            "[CV] END max_depth=4, min_samples_leaf=8, min_samples_split=10; total time=   2.4s\n",
            "[CV] END max_depth=4, min_samples_leaf=8, min_samples_split=20; total time=   2.5s\n",
            "[CV] END max_depth=4, min_samples_leaf=8, min_samples_split=20; total time=   2.5s\n",
            "[CV] END max_depth=4, min_samples_leaf=8, min_samples_split=20; total time=   2.5s\n",
            "[CV] END max_depth=4, min_samples_leaf=8, min_samples_split=20; total time=   2.4s\n",
            "[CV] END max_depth=4, min_samples_leaf=8, min_samples_split=20; total time=   2.5s\n",
            "[CV] END max_depth=4, min_samples_leaf=8, min_samples_split=30; total time=   2.5s\n",
            "[CV] END max_depth=4, min_samples_leaf=8, min_samples_split=30; total time=   2.5s\n",
            "[CV] END max_depth=4, min_samples_leaf=8, min_samples_split=30; total time=   2.4s\n",
            "[CV] END max_depth=4, min_samples_leaf=8, min_samples_split=30; total time=   2.4s\n",
            "[CV] END max_depth=4, min_samples_leaf=8, min_samples_split=30; total time=   2.4s\n",
            "[CV] END max_depth=4, min_samples_leaf=16, min_samples_split=10; total time=   2.5s\n",
            "[CV] END max_depth=4, min_samples_leaf=16, min_samples_split=10; total time=   2.4s\n",
            "[CV] END max_depth=4, min_samples_leaf=16, min_samples_split=10; total time=   2.4s\n",
            "[CV] END max_depth=4, min_samples_leaf=16, min_samples_split=10; total time=   2.4s\n",
            "[CV] END max_depth=4, min_samples_leaf=16, min_samples_split=10; total time=   2.4s\n",
            "[CV] END max_depth=4, min_samples_leaf=16, min_samples_split=20; total time=   2.4s\n",
            "[CV] END max_depth=4, min_samples_leaf=16, min_samples_split=20; total time=   2.4s\n",
            "[CV] END max_depth=4, min_samples_leaf=16, min_samples_split=20; total time=   2.4s\n",
            "[CV] END max_depth=4, min_samples_leaf=16, min_samples_split=20; total time=   2.5s\n",
            "[CV] END max_depth=4, min_samples_leaf=16, min_samples_split=20; total time=   2.5s\n",
            "[CV] END max_depth=4, min_samples_leaf=16, min_samples_split=30; total time=   2.4s\n",
            "[CV] END max_depth=4, min_samples_leaf=16, min_samples_split=30; total time=   2.4s\n",
            "[CV] END max_depth=4, min_samples_leaf=16, min_samples_split=30; total time=   2.4s\n",
            "[CV] END max_depth=4, min_samples_leaf=16, min_samples_split=30; total time=   2.5s\n",
            "[CV] END max_depth=4, min_samples_leaf=16, min_samples_split=30; total time=   2.5s\n",
            "[CV] END max_depth=4, min_samples_leaf=22, min_samples_split=10; total time=   2.4s\n",
            "[CV] END max_depth=4, min_samples_leaf=22, min_samples_split=10; total time=   2.5s\n",
            "[CV] END max_depth=4, min_samples_leaf=22, min_samples_split=10; total time=   2.5s\n",
            "[CV] END max_depth=4, min_samples_leaf=22, min_samples_split=10; total time=   2.4s\n",
            "[CV] END max_depth=4, min_samples_leaf=22, min_samples_split=10; total time=   2.4s\n",
            "[CV] END max_depth=4, min_samples_leaf=22, min_samples_split=20; total time=   2.4s\n",
            "[CV] END max_depth=4, min_samples_leaf=22, min_samples_split=20; total time=   2.4s\n",
            "[CV] END max_depth=4, min_samples_leaf=22, min_samples_split=20; total time=   2.4s\n",
            "[CV] END max_depth=4, min_samples_leaf=22, min_samples_split=20; total time=   2.4s\n",
            "[CV] END max_depth=4, min_samples_leaf=22, min_samples_split=20; total time=   2.4s\n",
            "[CV] END max_depth=4, min_samples_leaf=22, min_samples_split=30; total time=   2.4s\n",
            "[CV] END max_depth=4, min_samples_leaf=22, min_samples_split=30; total time=   2.4s\n",
            "[CV] END max_depth=4, min_samples_leaf=22, min_samples_split=30; total time=   2.4s\n",
            "[CV] END max_depth=4, min_samples_leaf=22, min_samples_split=30; total time=   2.4s\n",
            "[CV] END max_depth=4, min_samples_leaf=22, min_samples_split=30; total time=   2.4s\n",
            "[CV] END max_depth=6, min_samples_leaf=8, min_samples_split=10; total time=   3.6s\n",
            "[CV] END max_depth=6, min_samples_leaf=8, min_samples_split=10; total time=   3.5s\n",
            "[CV] END max_depth=6, min_samples_leaf=8, min_samples_split=10; total time=   3.6s\n",
            "[CV] END max_depth=6, min_samples_leaf=8, min_samples_split=10; total time=   3.6s\n",
            "[CV] END max_depth=6, min_samples_leaf=8, min_samples_split=10; total time=   3.6s\n",
            "[CV] END max_depth=6, min_samples_leaf=8, min_samples_split=20; total time=   3.5s\n",
            "[CV] END max_depth=6, min_samples_leaf=8, min_samples_split=20; total time=   3.5s\n",
            "[CV] END max_depth=6, min_samples_leaf=8, min_samples_split=20; total time=   3.5s\n",
            "[CV] END max_depth=6, min_samples_leaf=8, min_samples_split=20; total time=   3.6s\n",
            "[CV] END max_depth=6, min_samples_leaf=8, min_samples_split=20; total time=   3.6s\n",
            "[CV] END max_depth=6, min_samples_leaf=8, min_samples_split=30; total time=   3.6s\n",
            "[CV] END max_depth=6, min_samples_leaf=8, min_samples_split=30; total time=   3.5s\n",
            "[CV] END max_depth=6, min_samples_leaf=8, min_samples_split=30; total time=   3.6s\n",
            "[CV] END max_depth=6, min_samples_leaf=8, min_samples_split=30; total time=   3.5s\n",
            "[CV] END max_depth=6, min_samples_leaf=8, min_samples_split=30; total time=   3.5s\n",
            "[CV] END max_depth=6, min_samples_leaf=16, min_samples_split=10; total time=   3.5s\n",
            "[CV] END max_depth=6, min_samples_leaf=16, min_samples_split=10; total time=   3.5s\n",
            "[CV] END max_depth=6, min_samples_leaf=16, min_samples_split=10; total time=   3.5s\n",
            "[CV] END max_depth=6, min_samples_leaf=16, min_samples_split=10; total time=   3.5s\n",
            "[CV] END max_depth=6, min_samples_leaf=16, min_samples_split=10; total time=   3.5s\n",
            "[CV] END max_depth=6, min_samples_leaf=16, min_samples_split=20; total time=   3.5s\n",
            "[CV] END max_depth=6, min_samples_leaf=16, min_samples_split=20; total time=   3.6s\n",
            "[CV] END max_depth=6, min_samples_leaf=16, min_samples_split=20; total time=   3.5s\n",
            "[CV] END max_depth=6, min_samples_leaf=16, min_samples_split=20; total time=   3.5s\n",
            "[CV] END max_depth=6, min_samples_leaf=16, min_samples_split=20; total time=   3.6s\n",
            "[CV] END max_depth=6, min_samples_leaf=16, min_samples_split=30; total time=   3.6s\n",
            "[CV] END max_depth=6, min_samples_leaf=16, min_samples_split=30; total time=   3.5s\n",
            "[CV] END max_depth=6, min_samples_leaf=16, min_samples_split=30; total time=   3.5s\n",
            "[CV] END max_depth=6, min_samples_leaf=16, min_samples_split=30; total time=   3.5s\n",
            "[CV] END max_depth=6, min_samples_leaf=16, min_samples_split=30; total time=   3.5s\n",
            "[CV] END max_depth=6, min_samples_leaf=22, min_samples_split=10; total time=   3.5s\n",
            "[CV] END max_depth=6, min_samples_leaf=22, min_samples_split=10; total time=   3.5s\n",
            "[CV] END max_depth=6, min_samples_leaf=22, min_samples_split=10; total time=   3.5s\n",
            "[CV] END max_depth=6, min_samples_leaf=22, min_samples_split=10; total time=   3.5s\n",
            "[CV] END max_depth=6, min_samples_leaf=22, min_samples_split=10; total time=   3.5s\n",
            "[CV] END max_depth=6, min_samples_leaf=22, min_samples_split=20; total time=   3.5s\n",
            "[CV] END max_depth=6, min_samples_leaf=22, min_samples_split=20; total time=   3.6s\n",
            "[CV] END max_depth=6, min_samples_leaf=22, min_samples_split=20; total time=   3.6s\n",
            "[CV] END max_depth=6, min_samples_leaf=22, min_samples_split=20; total time=   3.5s\n",
            "[CV] END max_depth=6, min_samples_leaf=22, min_samples_split=20; total time=   3.5s\n",
            "[CV] END max_depth=6, min_samples_leaf=22, min_samples_split=30; total time=   3.5s\n",
            "[CV] END max_depth=6, min_samples_leaf=22, min_samples_split=30; total time=   3.5s\n",
            "[CV] END max_depth=6, min_samples_leaf=22, min_samples_split=30; total time=   3.5s\n",
            "[CV] END max_depth=6, min_samples_leaf=22, min_samples_split=30; total time=   3.5s\n",
            "[CV] END max_depth=6, min_samples_leaf=22, min_samples_split=30; total time=   3.6s\n",
            "[CV] END max_depth=8, min_samples_leaf=8, min_samples_split=10; total time=   4.6s\n",
            "[CV] END max_depth=8, min_samples_leaf=8, min_samples_split=10; total time=   4.6s\n",
            "[CV] END max_depth=8, min_samples_leaf=8, min_samples_split=10; total time=   4.5s\n",
            "[CV] END max_depth=8, min_samples_leaf=8, min_samples_split=10; total time=   4.5s\n",
            "[CV] END max_depth=8, min_samples_leaf=8, min_samples_split=10; total time=   4.6s\n",
            "[CV] END max_depth=8, min_samples_leaf=8, min_samples_split=20; total time=   4.6s\n",
            "[CV] END max_depth=8, min_samples_leaf=8, min_samples_split=20; total time=   4.6s\n",
            "[CV] END max_depth=8, min_samples_leaf=8, min_samples_split=20; total time=   4.5s\n",
            "[CV] END max_depth=8, min_samples_leaf=8, min_samples_split=20; total time=   4.6s\n",
            "[CV] END max_depth=8, min_samples_leaf=8, min_samples_split=20; total time=   4.5s\n",
            "[CV] END max_depth=8, min_samples_leaf=8, min_samples_split=30; total time=   4.6s\n",
            "[CV] END max_depth=8, min_samples_leaf=8, min_samples_split=30; total time=   4.6s\n",
            "[CV] END max_depth=8, min_samples_leaf=8, min_samples_split=30; total time=   4.5s\n",
            "[CV] END max_depth=8, min_samples_leaf=8, min_samples_split=30; total time=   4.5s\n",
            "[CV] END max_depth=8, min_samples_leaf=8, min_samples_split=30; total time=   4.5s\n",
            "[CV] END max_depth=8, min_samples_leaf=16, min_samples_split=10; total time=   4.5s\n",
            "[CV] END max_depth=8, min_samples_leaf=16, min_samples_split=10; total time=   4.6s\n",
            "[CV] END max_depth=8, min_samples_leaf=16, min_samples_split=10; total time=   4.5s\n",
            "[CV] END max_depth=8, min_samples_leaf=16, min_samples_split=10; total time=   4.5s\n",
            "[CV] END max_depth=8, min_samples_leaf=16, min_samples_split=10; total time=   4.6s\n",
            "[CV] END max_depth=8, min_samples_leaf=16, min_samples_split=20; total time=   4.5s\n",
            "[CV] END max_depth=8, min_samples_leaf=16, min_samples_split=20; total time=   4.6s\n",
            "[CV] END max_depth=8, min_samples_leaf=16, min_samples_split=20; total time=   4.5s\n",
            "[CV] END max_depth=8, min_samples_leaf=16, min_samples_split=20; total time=   4.6s\n",
            "[CV] END max_depth=8, min_samples_leaf=16, min_samples_split=20; total time=   4.6s\n",
            "[CV] END max_depth=8, min_samples_leaf=16, min_samples_split=30; total time=   4.5s\n",
            "[CV] END max_depth=8, min_samples_leaf=16, min_samples_split=30; total time=   4.5s\n",
            "[CV] END max_depth=8, min_samples_leaf=16, min_samples_split=30; total time=   4.6s\n",
            "[CV] END max_depth=8, min_samples_leaf=16, min_samples_split=30; total time=   4.5s\n",
            "[CV] END max_depth=8, min_samples_leaf=16, min_samples_split=30; total time=   4.5s\n",
            "[CV] END max_depth=8, min_samples_leaf=22, min_samples_split=10; total time=   4.6s\n",
            "[CV] END max_depth=8, min_samples_leaf=22, min_samples_split=10; total time=   4.5s\n",
            "[CV] END max_depth=8, min_samples_leaf=22, min_samples_split=10; total time=   4.5s\n",
            "[CV] END max_depth=8, min_samples_leaf=22, min_samples_split=10; total time=   4.5s\n",
            "[CV] END max_depth=8, min_samples_leaf=22, min_samples_split=10; total time=   4.5s\n",
            "[CV] END max_depth=8, min_samples_leaf=22, min_samples_split=20; total time=   4.5s\n",
            "[CV] END max_depth=8, min_samples_leaf=22, min_samples_split=20; total time=   4.5s\n",
            "[CV] END max_depth=8, min_samples_leaf=22, min_samples_split=20; total time=   4.5s\n",
            "[CV] END max_depth=8, min_samples_leaf=22, min_samples_split=20; total time=   4.5s\n",
            "[CV] END max_depth=8, min_samples_leaf=22, min_samples_split=20; total time=   4.5s\n",
            "[CV] END max_depth=8, min_samples_leaf=22, min_samples_split=30; total time=   4.5s\n",
            "[CV] END max_depth=8, min_samples_leaf=22, min_samples_split=30; total time=   4.5s\n",
            "[CV] END max_depth=8, min_samples_leaf=22, min_samples_split=30; total time=   4.5s\n",
            "[CV] END max_depth=8, min_samples_leaf=22, min_samples_split=30; total time=   4.6s\n",
            "[CV] END max_depth=8, min_samples_leaf=22, min_samples_split=30; total time=   4.6s\n",
            "[CV] END max_depth=10, min_samples_leaf=8, min_samples_split=10; total time=   5.4s\n",
            "[CV] END max_depth=10, min_samples_leaf=8, min_samples_split=10; total time=   5.5s\n",
            "[CV] END max_depth=10, min_samples_leaf=8, min_samples_split=10; total time=   5.4s\n",
            "[CV] END max_depth=10, min_samples_leaf=8, min_samples_split=10; total time=   5.4s\n",
            "[CV] END max_depth=10, min_samples_leaf=8, min_samples_split=10; total time=   5.4s\n",
            "[CV] END max_depth=10, min_samples_leaf=8, min_samples_split=20; total time=   5.4s\n",
            "[CV] END max_depth=10, min_samples_leaf=8, min_samples_split=20; total time=   5.4s\n",
            "[CV] END max_depth=10, min_samples_leaf=8, min_samples_split=20; total time=   5.4s\n",
            "[CV] END max_depth=10, min_samples_leaf=8, min_samples_split=20; total time=   5.4s\n",
            "[CV] END max_depth=10, min_samples_leaf=8, min_samples_split=20; total time=   5.4s\n",
            "[CV] END max_depth=10, min_samples_leaf=8, min_samples_split=30; total time=   5.4s\n",
            "[CV] END max_depth=10, min_samples_leaf=8, min_samples_split=30; total time=   5.4s\n",
            "[CV] END max_depth=10, min_samples_leaf=8, min_samples_split=30; total time=   5.5s\n",
            "[CV] END max_depth=10, min_samples_leaf=8, min_samples_split=30; total time=   5.4s\n",
            "[CV] END max_depth=10, min_samples_leaf=8, min_samples_split=30; total time=   5.4s\n",
            "[CV] END max_depth=10, min_samples_leaf=16, min_samples_split=10; total time=   5.4s\n",
            "[CV] END max_depth=10, min_samples_leaf=16, min_samples_split=10; total time=   5.4s\n",
            "[CV] END max_depth=10, min_samples_leaf=16, min_samples_split=10; total time=   5.4s\n",
            "[CV] END max_depth=10, min_samples_leaf=16, min_samples_split=10; total time=   5.5s\n",
            "[CV] END max_depth=10, min_samples_leaf=16, min_samples_split=10; total time=   5.4s\n",
            "[CV] END max_depth=10, min_samples_leaf=16, min_samples_split=20; total time=   5.4s\n",
            "[CV] END max_depth=10, min_samples_leaf=16, min_samples_split=20; total time=   5.5s\n",
            "[CV] END max_depth=10, min_samples_leaf=16, min_samples_split=20; total time=   5.5s\n",
            "[CV] END max_depth=10, min_samples_leaf=16, min_samples_split=20; total time=   5.5s\n",
            "[CV] END max_depth=10, min_samples_leaf=16, min_samples_split=20; total time=   5.5s\n",
            "[CV] END max_depth=10, min_samples_leaf=16, min_samples_split=30; total time=   5.5s\n",
            "[CV] END max_depth=10, min_samples_leaf=16, min_samples_split=30; total time=   5.6s\n",
            "[CV] END max_depth=10, min_samples_leaf=16, min_samples_split=30; total time=   5.4s\n",
            "[CV] END max_depth=10, min_samples_leaf=16, min_samples_split=30; total time=   5.4s\n",
            "[CV] END max_depth=10, min_samples_leaf=16, min_samples_split=30; total time=   5.4s\n",
            "[CV] END max_depth=10, min_samples_leaf=22, min_samples_split=10; total time=   5.4s\n",
            "[CV] END max_depth=10, min_samples_leaf=22, min_samples_split=10; total time=   5.4s\n",
            "[CV] END max_depth=10, min_samples_leaf=22, min_samples_split=10; total time=   5.4s\n",
            "[CV] END max_depth=10, min_samples_leaf=22, min_samples_split=10; total time=   5.4s\n",
            "[CV] END max_depth=10, min_samples_leaf=22, min_samples_split=10; total time=   5.5s\n",
            "[CV] END max_depth=10, min_samples_leaf=22, min_samples_split=20; total time=   5.4s\n",
            "[CV] END max_depth=10, min_samples_leaf=22, min_samples_split=20; total time=   5.4s\n",
            "[CV] END max_depth=10, min_samples_leaf=22, min_samples_split=20; total time=   5.5s\n",
            "[CV] END max_depth=10, min_samples_leaf=22, min_samples_split=20; total time=   5.4s\n",
            "[CV] END max_depth=10, min_samples_leaf=22, min_samples_split=20; total time=   5.4s\n",
            "[CV] END max_depth=10, min_samples_leaf=22, min_samples_split=30; total time=   5.4s\n",
            "[CV] END max_depth=10, min_samples_leaf=22, min_samples_split=30; total time=   5.4s\n",
            "[CV] END max_depth=10, min_samples_leaf=22, min_samples_split=30; total time=   5.4s\n",
            "[CV] END max_depth=10, min_samples_leaf=22, min_samples_split=30; total time=   5.4s\n",
            "[CV] END max_depth=10, min_samples_leaf=22, min_samples_split=30; total time=   5.4s\n"
          ]
        },
        {
          "output_type": "execute_result",
          "data": {
            "text/plain": [
              "GridSearchCV(cv=5, estimator=DecisionTreeRegressor(),\n",
              "             param_grid={'max_depth': [4, 6, 8, 10],\n",
              "                         'min_samples_leaf': [8, 16, 22],\n",
              "                         'min_samples_split': [10, 20, 30]},\n",
              "             scoring='r2', verbose=2)"
            ]
          },
          "metadata": {},
          "execution_count": 382
        }
      ],
      "source": [
        "dt = DecisionTreeRegressor()\n",
        "\n",
        "# Grid search\n",
        "dt_grid = GridSearchCV(estimator=dt, param_grid = param_dict_dt, cv = 5, verbose=2, scoring='r2')\n",
        "\n",
        "dt_grid.fit(X_train,y_train)"
      ]
    },
    {
      "cell_type": "code",
      "execution_count": 383,
      "metadata": {
        "colab": {
          "base_uri": "https://localhost:8080/"
        },
        "id": "plT_JuORhWv1",
        "outputId": "7ce7561c-a91c-45d5-e474-b3c4771143f4"
      },
      "outputs": [
        {
          "output_type": "stream",
          "name": "stdout",
          "text": [
            "The best fit alpha value is found out to be : {'max_depth': 10, 'min_samples_leaf': 22, 'min_samples_split': 10}\n",
            "The R2 score using the same alpha is : 0.6897644195675252\n"
          ]
        }
      ],
      "source": [
        "print('The best fit alpha value is found out to be :' ,dt_grid.best_params_)\n",
        "print('The R2 score using the same alpha is :', dt_grid.best_score_)"
      ]
    },
    {
      "cell_type": "markdown",
      "metadata": {
        "id": "9VdfG84JSmyu"
      },
      "source": [
        "**The best parameters for the Decision Tree Regression which we already tested before to save time when running it again.**\n",
        "* {'max_depth': 10, 'min_samples_leaf': 22, 'min_samples_split': 10}"
      ]
    },
    {
      "cell_type": "code",
      "execution_count": 384,
      "metadata": {
        "id": "zuXo1yBM8Nha"
      },
      "outputs": [],
      "source": [
        "y_pred_dt_train=dt_grid.predict(X_train)\n",
        "y_pred_dt_test=dt_grid.predict(X_test)"
      ]
    },
    {
      "cell_type": "markdown",
      "metadata": {
        "id": "9yAIZdTi8miM"
      },
      "source": [
        "#<b>Model Evaluation"
      ]
    },
    {
      "cell_type": "code",
      "execution_count": 385,
      "metadata": {
        "colab": {
          "base_uri": "https://localhost:8080/"
        },
        "id": "9xFcDY0i8NgR",
        "outputId": "b8cc8c9a-3a49-419e-b43d-fffbbbdf5a74"
      },
      "outputs": [
        {
          "output_type": "stream",
          "name": "stdout",
          "text": [
            "Train MSE : 100549.42353360655\n",
            "Train R2 : 0.6950003039368969\n",
            "Train Adjusted R2 :  0.6949975668525432\n"
          ]
        }
      ],
      "source": [
        "dt_train_mse  = mean_squared_error(y_train, y_pred_dt_train)\n",
        "print(\"Train MSE :\" , dt_train_mse)\n",
        "\n",
        "dt_train_r2 = r2_score(y_train, y_pred_dt_train)\n",
        "print(\"Train R2 :\" ,dt_train_r2)\n",
        "\n",
        "dt_train_r2_= 1-(1-r2_score(y_train, y_pred_dt_train))*((X_train.shape[0]-1)/(X_train.shape[0]-X_train.shape[1]-1))\n",
        "print(\"Train Adjusted R2 : \", dt_train_r2_)"
      ]
    },
    {
      "cell_type": "code",
      "execution_count": 386,
      "metadata": {
        "colab": {
          "base_uri": "https://localhost:8080/"
        },
        "id": "AHceMLyk8Ne5",
        "outputId": "85e6850e-bfe6-4a30-d666-c902e6624555"
      },
      "outputs": [
        {
          "output_type": "stream",
          "name": "stdout",
          "text": [
            "Test MSE : 102621.84587302266\n",
            "Test R2 : 0.6899012932703064\n",
            "Test Adjusted R2 :  0.689894799887585\n"
          ]
        }
      ],
      "source": [
        "dt_test_mse  = mean_squared_error(y_test, y_pred_dt_test)\n",
        "print(\"Test MSE :\" , dt_test_mse)\n",
        "\n",
        "dt_test_r2 = r2_score(y_test, y_pred_dt_test)\n",
        "print(\"Test R2 :\" ,dt_test_r2)\n",
        "\n",
        "dt_test_r2_= 1-(1-r2_score(y_test, y_pred_dt_test))*((X_test.shape[0]-1)/(X_test.shape[0]-X_test.shape[1]-1))\n",
        "print(\"Test Adjusted R2 : \", dt_test_r2_)"
      ]
    },
    {
      "cell_type": "code",
      "execution_count": 387,
      "metadata": {
        "colab": {
          "base_uri": "https://localhost:8080/",
          "height": 341
        },
        "id": "ueRkFP338NbC",
        "outputId": "3e24b16b-a1a9-45dc-f457-03cd713496e7"
      },
      "outputs": [
        {
          "output_type": "display_data",
          "data": {
            "text/plain": [
              "<Figure size 720x360 with 1 Axes>"
            ],
            "image/png": "[encoded data removed]"
          },
          "metadata": {
            "needs_background": "light"
          }
        }
      ],
      "source": [
        "plt.figure(figsize= (10,5))\n",
        "c= [i for i in range(0, len(y_test))]\n",
        "plt.plot(c, y_test-y_pred_dt_test, color='blue', linewidth=2.5, linestyle='-')\n",
        "plt.title('Error Term', fontsize=20)\n",
        "plt.show()"
      ]
    },
    {
      "cell_type": "code",
      "execution_count": 388,
      "metadata": {
        "colab": {
          "base_uri": "https://localhost:8080/",
          "height": 341
        },
        "id": "2Yn1kDdv8NcW",
        "outputId": "d6677ca2-c297-4d9e-9132-7e542d4a96ad"
      },
      "outputs": [
        {
          "output_type": "display_data",
          "data": {
            "text/plain": [
              "<Figure size 720x360 with 1 Axes>"
            ],
            "image/png": "[encoded data removed]"
          },
          "metadata": {
            "needs_background": "light"
          }
        }
      ],
      "source": [
        "#Actual vs Prediction\n",
        "plt.figure(figsize= (10,5))\n",
        "c= [i for i in range(0, len(y_test))]\n",
        "plt.plot(c, y_test, color='blue', linewidth=2.5, linestyle='-')\n",
        "plt.plot(c, y_pred_dt_test, color='red', linewidth=2.5, linestyle='-')\n",
        "plt.title('Actual vs Predicted for Test Data', fontsize=20)\n",
        "plt.legend([\"Actual\", \"Predicted\"])\n",
        "plt.show()"
      ]
    },
    {
      "cell_type": "code",
      "execution_count": 389,
      "metadata": {
        "colab": {
          "base_uri": "https://localhost:8080/",
          "height": 356
        },
        "id": "2mCXFemh8NYg",
        "outputId": "b14b83ee-892c-4ab9-dfbd-a444728879c9"
      },
      "outputs": [
        {
          "output_type": "display_data",
          "data": {
            "text/plain": [
              "<Figure size 720x360 with 1 Axes>"
            ],
            "image/png": "[encoded data removed]"
          },
          "metadata": {
            "needs_background": "light"
          }
        }
      ],
      "source": [
        "plt.figure(figsize=(10,5))\n",
        "sns.distplot(y_test - y_pred_dt_test )\n",
        "plt.title('Error Term', fontsize=20)\n",
        "plt.show()"
      ]
    },
    {
      "cell_type": "markdown",
      "metadata": {
        "id": "C0LB5IIl9HUy"
      },
      "source": [
        "The decision tree with the selected hyperparameters does improve the predictions of the model considerably. It still isn't ideal but it is certainly much better than Linear models."
      ]
    },
    {
      "cell_type": "code",
      "execution_count": 390,
      "metadata": {
        "id": "783PWDXOxWb4"
      },
      "outputs": [],
      "source": [
        "# Fitting Random Forest Regression to the dataset\n",
        "from sklearn.ensemble import RandomForestRegressor\n",
        "from sklearn.model_selection import RandomizedSearchCV\n",
        "# # create regressor object\n",
        "# # regressor = RandomForestRegressor(n_estimators = 100, random_state = 0)\n",
        "# rforest = RandomForestRegressor(n_estimators = 20, n_jobs = -1)\n",
        "# # fit the regressor with x and y data\n",
        "# rforest.fit(X, y) "
      ]
    },
    {
      "cell_type": "code",
      "execution_count": 391,
      "metadata": {
        "colab": {
          "base_uri": "https://localhost:8080/"
        },
        "id": "IyZoAfB_PWrc",
        "outputId": "29fa4045-c044-4073-9c18-bd8a28064872"
      },
      "outputs": [
        {
          "output_type": "stream",
          "name": "stdout",
          "text": [
            "{'n_estimators': [200, 400, 600, 800, 1000, 1200, 1400, 1600, 1800, 2000], 'max_features': ['auto', 'sqrt'], 'max_depth': [10, 20, 30, 40, 50, 60, 70, 80, 90, 100, 110, None], 'min_samples_split': [2, 5, 10], 'min_samples_leaf': [1, 2, 4], 'bootstrap': [True, False]}\n"
          ]
        }
      ],
      "source": [
        "\n",
        "# Number of trees in random forest\n",
        "n_estimators = [int(x) for x in np.linspace(start = 200, stop = 2000, num = 10)]\n",
        "# Number of features to consider at every split\n",
        "max_features = ['auto', 'sqrt']\n",
        "# Maximum number of levels in tree\n",
        "max_depth = [int(x) for x in np.linspace(10, 110, num = 11)]\n",
        "max_depth.append(None)\n",
        "# Minimum number of samples required to split a node\n",
        "min_samples_split = [2, 5, 10]\n",
        "# Minimum number of samples required at each leaf node\n",
        "min_samples_leaf = [1, 2, 4]\n",
        "# Method of selecting samples for training each tree\n",
        "bootstrap = [True, False]\n",
        "# Create the random grid\n",
        "random_grid = {'n_estimators': n_estimators,\n",
        "               'max_features': max_features,\n",
        "               'max_depth': max_depth,\n",
        "               'min_samples_split': min_samples_split,\n",
        "               'min_samples_leaf': min_samples_leaf,\n",
        "               'bootstrap': bootstrap}\n",
        "print(random_grid)"
      ]
    },
    {
      "cell_type": "code",
      "execution_count": null,
      "metadata": {
        "colab": {
          "base_uri": "https://localhost:8080/"
        },
        "id": "iX8XfDjNLAZN",
        "outputId": "9b3223dd-a791-4577-f592-5bc9012c4211"
      },
      "outputs": [
        {
          "output_type": "stream",
          "name": "stdout",
          "text": [
            "Fitting 3 folds for each of 10 candidates, totalling 30 fits\n"
          ]
        }
      ],
      "source": [
        "rf_reg = RandomForestRegressor(n_jobs= -1)\n",
        "\n",
        "rf_random = RandomizedSearchCV(estimator = rf_reg, param_distributions = random_grid, n_iter = 10, cv = 3, verbose=2, random_state=42, n_jobs = -1)\n",
        "\n",
        "rf_random.fit(X_train,y_train)"
      ]
    },
    {
      "cell_type": "code",
      "execution_count": null,
      "metadata": {
        "id": "gP1evpwMOgxw"
      },
      "outputs": [],
      "source": [
        "rf_random.best_params_"
      ]
    },
    {
      "cell_type": "code",
      "execution_count": null,
      "metadata": {
        "id": "c82vFQJK2mwV"
      },
      "outputs": [],
      "source": [
        "y_pred_rforest = rf_reg.predict(X_test)"
      ]
    },
    {
      "cell_type": "code",
      "execution_count": 1,
      "metadata": {
        "id": "SMULK8xIW2LT",
        "colab": {
          "base_uri": "https://localhost:8080/",
          "height": 234
        },
        "outputId": "cdb43774-d089-4d68-d1b4-5b6a7940549a"
      },
      "outputs": [
        {
          "output_type": "error",
          "ename": "NameError",
          "evalue": "ignored",
          "traceback": [
            "\u001b[0;31m---------------------------------------------------------------------------\u001b[0m",
            "\u001b[0;31mNameError\u001b[0m                                 Traceback (most recent call last)",
            "\u001b[0;32m<ipython-input-1-c43dedad6c1e>\u001b[0m in \u001b[0;36m<module>\u001b[0;34m()\u001b[0m\n\u001b[1;32m      9\u001b[0m     'n_estimators': [100, 200, 300, 1000]}\n\u001b[1;32m     10\u001b[0m \u001b[0;31m# Create a based model\u001b[0m\u001b[0;34m\u001b[0m\u001b[0;34m\u001b[0m\u001b[0;34m\u001b[0m\u001b[0m\n\u001b[0;32m---> 11\u001b[0;31m \u001b[0mrf\u001b[0m \u001b[0;34m=\u001b[0m \u001b[0mRandomForestRegressor\u001b[0m\u001b[0;34m(\u001b[0m\u001b[0;34m)\u001b[0m\u001b[0;34m\u001b[0m\u001b[0;34m\u001b[0m\u001b[0m\n\u001b[0m\u001b[1;32m     12\u001b[0m \u001b[0;31m# Instantiate the grid search model\u001b[0m\u001b[0;34m\u001b[0m\u001b[0;34m\u001b[0m\u001b[0;34m\u001b[0m\u001b[0m\n\u001b[1;32m     13\u001b[0m grid_search = GridSearchCV(estimator = rf, param_grid = param_grid, \n",
            "\u001b[0;31mNameError\u001b[0m: name 'RandomForestRegressor' is not defined"
          ]
        }
      ],
      "source": [
        "from sklearn.model_selection import GridSearchCV\n",
        "# Create the parameter grid based on the results of random search \n",
        "param_grid = {\n",
        "    'bootstrap': [True],\n",
        "    'max_depth': [80, 90, 100, 110],\n",
        "    'max_features': [2, 3],\n",
        "    'min_samples_leaf': [3, 4, 5],\n",
        "    'min_samples_split': [8, 10, 12],\n",
        "    'n_estimators': [100, 200, 300, 500]}\n",
        "# Create a based model\n",
        "rf = RandomForestRegressor()\n",
        "# Instantiate the grid search model\n",
        "grid_search = GridSearchCV(estimator = rf, param_grid = param_grid, \n",
        "                          cv = 3, n_jobs = -1, verbose = 2)"
      ]
    },
    {
      "cell_type": "code",
      "execution_count": null,
      "metadata": {
        "id": "6XJpokbpXwSR"
      },
      "outputs": [],
      "source": [
        "def evaluate(model, test_features, test_labels):\n",
        "    predictions = model.predict(test_features)\n",
        "    errors = abs(predictions - test_labels)\n",
        "    mape = 100 * np.mean(errors / test_labels)\n",
        "    accuracy = 100 - mape\n",
        "    print('Model Performance')\n",
        "    print('Average Error: {:0.4f} degrees.'.format(np.mean(errors)))\n",
        "    print('Accuracy = {:0.2f}%.'.format(accuracy))\n",
        "    \n",
        "    return accuracy\n",
        "base_model = RandomForestRegressor(n_estimators = 10, random_state = 42)\n",
        "base_model.fit(train_features, train_labels)\n",
        "base_accuracy = evaluate(base_model, test_features, test_labels)"
      ]
    },
    {
      "cell_type": "code",
      "execution_count": null,
      "metadata": {
        "id": "WlKaaNtIW2QD"
      },
      "outputs": [],
      "source": [
        "# Fit the grid search to the data\n",
        "grid_search.fit(test_features, test_labels)\n",
        "grid_search.best_params_\n",
        "{'bootstrap': True,\n",
        " 'max_depth': 80,\n",
        " 'max_features': 3,\n",
        " 'min_samples_leaf': 5,\n",
        " 'min_samples_split': 12,\n",
        " 'n_estimators': 100}\n",
        "best_grid = grid_search.best_estimator_\n",
        "grid_accuracy = evaluate(best_grid, test_features, test_labels)"
      ]
    },
    {
      "cell_type": "code",
      "execution_count": null,
      "metadata": {
        "id": "Zmd-3DB-W2UC"
      },
      "outputs": [],
      "source": [
        ""
      ]
    },
    {
      "cell_type": "code",
      "execution_count": null,
      "metadata": {
        "id": "-c47N_4rxWk5"
      },
      "outputs": [],
      "source": [
        "# # Score It\n",
        "# from sklearn import metrics\n",
        "# print('\\nRandom Forest Regression Performance Metrics')\n",
        "# print('R^2 =',metrics.explained_variance_score(y_test,y_pred_rforest))\n",
        "# print('MAE',metrics.mean_absolute_error(y_test, y_pred_rforest))\n",
        "# print('MSE',metrics.mean_squared_error(y_test, y_pred_rforest))\n",
        "# print('RMSE',np.sqrt(metrics.mean_squared_error(y_test, y_pred_rforest)))"
      ]
    },
    {
      "cell_type": "code",
      "execution_count": null,
      "metadata": {
        "id": "rqPfkD0axWoz"
      },
      "outputs": [],
      "source": [
        "dt_train_mse  = mean_squared_error(y_train, y_pred_dt_train)\n",
        "print(\"Train MSE :\" , dt_train_mse)\n",
        "\n",
        "dt_train_r2 = r2_score(y_train, y_pred_dt_train)\n",
        "print(\"Train R2 :\" ,dt_train_r2)\n",
        "\n",
        "dt_train_r2_= 1-(1-r2_score(y_train, y_pred_dt_train))*((X_train.shape[0]-1)/(X_train.shape[0]-X_train.shape[1]-1))\n",
        "print(\"Train Adjusted R2 : \", dt_train_r2_)"
      ]
    },
    {
      "cell_type": "code",
      "execution_count": null,
      "metadata": {
        "id": "ya9E1DsMxWsf"
      },
      "outputs": [],
      "source": [
        ""
      ]
    },
    {
      "cell_type": "code",
      "execution_count": null,
      "metadata": {
        "id": "UgUh7tgyxWwz"
      },
      "outputs": [],
      "source": [
        ""
      ]
    },
    {
      "cell_type": "code",
      "execution_count": null,
      "metadata": {
        "id": "jUfqh0IjxW0R"
      },
      "outputs": [],
      "source": [
        ""
      ]
    },
    {
      "cell_type": "markdown",
      "metadata": {
        "id": "RWCzhGV-9MWF"
      },
      "source": [
        "#<b>Running XGBoost Regressor"
      ]
    },
    {
      "cell_type": "code",
      "execution_count": null,
      "metadata": {
        "id": "PlEM83Hz9DXr"
      },
      "outputs": [],
      "source": [
        "from xgboost import XGBRegressor\n",
        "from sklearn.model_selection import GridSearchCV\n",
        "import xgboost as xgb\n",
        "from hyperopt import STATUS_OK, Trials, fmin, hp, tpe"
      ]
    },
    {
      "cell_type": "code",
      "execution_count": null,
      "metadata": {
        "id": "6RNdnWG0VGRL"
      },
      "outputs": [],
      "source": [
        "# xg_reg = xgb.XGBRegressor(objective ='reg:squarederror', colsample_bytree = 0.3, learning_rate = 0.1, max_depth = 5, alpha = 10, n_estimators = 10)"
      ]
    },
    {
      "cell_type": "code",
      "execution_count": null,
      "metadata": {
        "id": "ACnU5XeGMHtR"
      },
      "outputs": [],
      "source": [
        "xgb_model = xgb.XGBRegressor(random_state=0, objective='reg:squarederror')\n",
        "\n",
        "param_tuning = {\n",
        "        'learning_rate': [0.2, 0.4],\n",
        "        'max_depth': [3, 5, 7, 10],\n",
        "        'min_child_weight': [1, 3, 5],\n",
        "        'subsample': [0.5, 0.7],\n",
        "        'colsample_bytree': [0.5, 0.7],\n",
        "        'n_estimators' : [10, 50, 100],\n",
        "        'objective': [\"reg:linear\"]}\n",
        "#grid_values = {'n_estimators' : [200], 'max_depth': [8], 'min_samples_' : [40],'learning_rate' : [0.2]}\n",
        "xgb_model = GridSearchCV(xgb_model, param_grid = param_tuning,scoring = 'r2', cv=5,verbose=1,)"
      ]
    },
    {
      "cell_type": "code",
      "execution_count": null,
      "metadata": {
        "id": "vu96YuV1MHdF"
      },
      "outputs": [],
      "source": [
        "xgb_model.fit(X_train,y_train)"
      ]
    },
    {
      "cell_type": "code",
      "execution_count": null,
      "metadata": {
        "id": "Zo30suPJiAIX"
      },
      "outputs": [],
      "source": [
        "print('The best fit alpha value is found out to be :' ,xgb_model.best_params_)\n",
        "print('The R2 score using the same alpha is :', xgb_model.best_score_)"
      ]
    },
    {
      "cell_type": "markdown",
      "metadata": {
        "id": "RDUDMFdYXfvM"
      },
      "source": [
        "**The best parameters for the XGBoost which we already tested before to save time when running it again.**\n",
        "* {'learning_rate': 0.2, 'max_depth': 8, 'min_samples_': 40, 'n_estimators': 200}"
      ]
    },
    {
      "cell_type": "code",
      "execution_count": null,
      "metadata": {
        "id": "TQ2htt17MHZ1"
      },
      "outputs": [],
      "source": [
        "xgb_model.best_params_"
      ]
    },
    {
      "cell_type": "code",
      "execution_count": null,
      "metadata": {
        "id": "A7G78_5RdEkT"
      },
      "outputs": [],
      "source": [
        "xgb_model.best_score_"
      ]
    },
    {
      "cell_type": "code",
      "execution_count": null,
      "metadata": {
        "id": "dqeni3E6dBi5"
      },
      "outputs": [],
      "source": [
        "y_pred_xgb_train=xgb_model.predict(X_train)\n",
        "y_pred_xgb_test=xgb_model.predict(X_test)"
      ]
    },
    {
      "cell_type": "markdown",
      "metadata": {
        "id": "LDLl8XUpeWTQ"
      },
      "source": [
        "#<b>Model Evaluation"
      ]
    },
    {
      "cell_type": "code",
      "execution_count": null,
      "metadata": {
        "id": "7FlLrGIZeX3t"
      },
      "outputs": [],
      "source": [
        "xgb_train_mse  = mean_squared_error(y_train, y_pred_xgb_train)\n",
        "print(\"Train MSE :\" , xgb_train_mse)\n",
        "\n",
        "xgb_train_r2 = r2_score(y_train, y_pred_xgb_train)\n",
        "print(\"Train R2 :\" ,xgb_train_r2)\n",
        "\n",
        "xgb_train_r2_= 1-(1-r2_score((y_train), (y_pred_xgb_train)))*((X_train.shape[0]-1)/(X_train.shape[0]-X_train.shape[1]-1))\n",
        "print(\"Train Adjusted R2 : \", xgb_train_r2_)"
      ]
    },
    {
      "cell_type": "code",
      "execution_count": null,
      "metadata": {
        "id": "JFTa4HWPfJoM"
      },
      "outputs": [],
      "source": [
        "xgb_test_mse  = mean_squared_error(y_test, y_pred_xgb_test)\n",
        "print(\"Test MSE :\" , xgb_test_mse)\n",
        "\n",
        "xgb_test_r2 = r2_score(y_test, y_pred_xgb_test)\n",
        "print(\"Test R2 :\" ,xgb_test_r2)\n",
        "\n",
        "xgb_test_r2_= 1-(1-r2_score((y_test), (y_pred_xgb_test)))*((X_test.shape[0]-1)/(X_test.shape[0]-X_test.shape[1]-1))\n",
        "print(\"Test Adjusted R2 : \", xgb_test_r2_)"
      ]
    },
    {
      "cell_type": "code",
      "execution_count": null,
      "metadata": {
        "id": "WoNo2nwQfL4o"
      },
      "outputs": [],
      "source": [
        "plt.figure(figsize= (10,5))\n",
        "c= [i for i in range(0, len(y_test))]\n",
        "plt.plot(c, y_test-y_pred_xgb_test, color='blue', linewidth=2.5, linestyle='-')\n",
        "plt.title('Error Term', fontsize=20)\n",
        "plt.show()"
      ]
    },
    {
      "cell_type": "code",
      "execution_count": null,
      "metadata": {
        "id": "LcpXECjDfL7X"
      },
      "outputs": [],
      "source": [
        "#Actual vs Prediction\n",
        "plt.figure(figsize= (10,5))\n",
        "c= [i for i in range(0, len(y_test))]\n",
        "plt.plot(c, y_test, color='blue', linewidth=2.5, linestyle='-')\n",
        "plt.plot(c, y_pred_xgb_test, color='red', linewidth=2.5, linestyle='-')\n",
        "plt.title('Actual vs Predicted for Test Data', fontsize=20)\n",
        "plt.legend([\"Actual\", \"Predicted\"])\n",
        "plt.show()"
      ]
    },
    {
      "cell_type": "markdown",
      "metadata": {
        "id": "6MVkOoAFfa1D"
      },
      "source": [
        "Finally, let's also look the feature importance."
      ]
    },
    {
      "cell_type": "code",
      "execution_count": null,
      "metadata": {
        "id": "6xcvNhcOfL10"
      },
      "outputs": [],
      "source": [
        "importance_df= pd.DataFrame({'Features': features, 'Feature_importance': list(xgb_model.best_estimator_.feature_importances_)})\n",
        "importance_df"
      ]
    },
    {
      "cell_type": "code",
      "execution_count": null,
      "metadata": {
        "id": "rRWmQRMMfmGq"
      },
      "outputs": [],
      "source": [
        "importance_df.sort_values(by=['Feature_importance'],ascending=False,inplace=True)"
      ]
    },
    {
      "cell_type": "markdown",
      "metadata": {
        "id": "Cn42VkCsfps3"
      },
      "source": [
        "Let's look it by using bar grabh."
      ]
    },
    {
      "cell_type": "code",
      "execution_count": null,
      "metadata": {
        "id": "wozsPC9rfmDw"
      },
      "outputs": [],
      "source": [
        "plt.figure(figsize=(15,6))\n",
        "plt.title('Feature Importance', fontsize=20)\n",
        "sns.barplot(x='Features',y=\"Feature_importance\", data=importance_df[:6])\n",
        "plt.show()"
      ]
    },
    {
      "cell_type": "markdown",
      "metadata": {
        "id": "u9zDYVi3fyHI"
      },
      "source": [
        "Clearly, we can see distance is the top contributor to trip duration followed by different days of the weeks."
      ]
    },
    {
      "cell_type": "code",
      "execution_count": null,
      "metadata": {
        "id": "AIMHPz2YfmCb"
      },
      "outputs": [],
      "source": [
        "#Plotting the error terms to understand the distribution.\n",
        "plt.figure(figsize=(10,5))\n",
        "sns.distplot(y_test - y_pred_xgb_test )\n",
        "plt.title('Error Term', fontsize=20)\n",
        "plt.show()"
      ]
    },
    {
      "cell_type": "markdown",
      "metadata": {
        "id": "YUXkLC_0f-MU"
      },
      "source": [
        "#<b>Evaluating the models\n",
        "Models Summary for the Train data."
      ]
    },
    {
      "cell_type": "code",
      "execution_count": null,
      "metadata": {
        "id": "dNuaDGtRfl_o"
      },
      "outputs": [],
      "source": [
        "models= ['Linear Regression', 'Lasso Regression', 'Ridge Regression','DecisionTree Regressor','XGBoost Regressor']\n",
        "train_mse= [lr_train_mse, lasso_train_mse, ridge_train_mse, dt_train_mse, xgb_train_mse]\n",
        "train_rmse= [lr_train_rmse, lasso_train_rmse, ridge_train_rmse, dt_train_rmse, xgb_train_rmse]\n",
        "train_r2= [lr_train_r2, lasso_train_r2, ridge_train_r2, dt_train_r2, xgb_train_r2]\n",
        "train_adjusted_r2= [lr_train_r2_, lasso_train_r2_, ridge_train_r2_, dt_train_r2_, xgb_train_r2_]"
      ]
    },
    {
      "cell_type": "markdown",
      "metadata": {
        "id": "TDwsXjNIgMim"
      },
      "source": [
        "<b>Models Summary for the test data."
      ]
    },
    {
      "cell_type": "code",
      "execution_count": null,
      "metadata": {
        "id": "V8t4M4K0fl-Q"
      },
      "outputs": [],
      "source": [
        "models= ['Linear Regression', 'Lasso Regression', 'Ridge Regression','DecisionTree Regressor','XGBoost Regressor']\n",
        "test_mse= [lr_test_mse, lasso_test_mse, ridge_test_mse, dt_test_mse, xgb_test_mse]\n",
        "test_rmse= [lr_test_rmse, lasso_test_rmse, ridge_test_rmse, dt_test_rmse, xgb_test_rmse]\n",
        "test_r2= [lr_test_r2, lasso_test_r2, ridge_test_r2, dt_test_r2, xgb_test_r2]\n",
        "test_adjusted_r2= [lr_test_r2_, lasso_test_r2_, ridge_test_r2_, dt_test_r2_, xgb_test_r2_]"
      ]
    },
    {
      "cell_type": "code",
      "execution_count": null,
      "metadata": {
        "id": "AwR2LxCHfl7q"
      },
      "outputs": [],
      "source": [
        "Train_data_df=pd.DataFrame({'Model Name': models, 'Train MSE': train_mse, 'Train RMSE': train_rmse, 'Train R^2': train_r2, \n",
        "                            'Train Adjusted R^2': train_adjusted_r2})\n",
        "Train_data_df"
      ]
    },
    {
      "cell_type": "code",
      "execution_count": null,
      "metadata": {
        "id": "5v4rYz_ufl6X"
      },
      "outputs": [],
      "source": [
        "Test_data_df= pd.DataFrame({'Model Name': models, 'Test MSE': test_mse, 'Test RMSE': test_rmse, 'Test R^2': test_r2, \n",
        "                            'Test Adjusted R^2': test_adjusted_r2})\n",
        "Test_data_df"
      ]
    },
    {
      "cell_type": "markdown",
      "metadata": {
        "id": "zxfePvvIgeCA"
      },
      "source": [
        "#**Conclusion**\n",
        "* We can see that MSE and RMSE which are the metrics used to evaluate the performance of regression model of **Decision Tree** and **XGBoost Regressor** is not varying much during traing and testing time. Also the R^2 is about same during training and Testing time.\n",
        "* The Linear models don't show good performance on our training and testing environment.\n",
        "* From above table we can conclude that **XGBoost Regressor** is the best models as compare to the other models to predict the trip duration for a particular taxi."
      ]
    },
    {
      "cell_type": "code",
      "execution_count": null,
      "metadata": {
        "id": "GA5DbqOIfl3t"
      },
      "outputs": [],
      "source": [
        ""
      ]
    },
    {
      "cell_type": "code",
      "execution_count": null,
      "metadata": {
        "id": "PWhDHVk3fl09"
      },
      "outputs": [],
      "source": [
        ""
      ]
    },
    {
      "cell_type": "code",
      "execution_count": null,
      "metadata": {
        "id": "FPPqVzgLfLy0"
      },
      "outputs": [],
      "source": [
        ""
      ]
    },
    {
      "cell_type": "code",
      "execution_count": null,
      "metadata": {
        "id": "kZaUoNuQfLOu"
      },
      "outputs": [],
      "source": [
        ""
      ]
    }
  ],
  "metadata": {
    "colab": {
      "collapsed_sections": [
        "Y06xIdG26kRF",
        "WWeU1f9bwqQq"
      ],
      "name": "Vilas Copy of NYC Taxi Trip Time Prediction - Capstone Project.ipynb",
      "provenance": [],
      "include_colab_link": true
    },
    "kernelspec": {
      "display_name": "Python 3",
      "language": "python",
      "name": "python3"
    },
    "language_info": {
      "codemirror_mode": {
        "name": "ipython",
        "version": 3
      },
      "file_extension": ".py",
      "mimetype": "text/x-python",
      "name": "python",
      "nbconvert_exporter": "python",
      "pygments_lexer": "ipython3",
      "version": "3.6.6"
    }
  },
  "nbformat": 4,
  "nbformat_minor": 0
}