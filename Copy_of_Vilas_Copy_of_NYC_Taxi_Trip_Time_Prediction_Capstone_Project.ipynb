{
  "cells": [
    {
      "cell_type": "markdown",
      "metadata": {
        "id": "view-in-github",
        "colab_type": "text"
      },
      "source": [
        "<a href=\"https://colab.research.google.com/github/VilasSonawane/NYCTaxiTimePrediction-Model1/blob/main/Copy_of_Vilas_Copy_of_NYC_Taxi_Trip_Time_Prediction_Capstone_Project.ipynb\" target=\"_parent\"><img src=\"https://colab.research.google.com/assets/colab-badge.svg\" alt=\"Open In Colab\"/></a>"
      ]
    },
    {
      "cell_type": "markdown",
      "metadata": {
        "id": "tOGC-qoyhJeX"
      },
      "source": [
        "# <b><u> Project Title : Taxi trip time Prediction : Predicting total ride duration of taxi trips in New York City</u></b>"
      ]
    },
    {
      "cell_type": "markdown",
      "metadata": {
        "id": "Y06xIdG26kRF"
      },
      "source": [
        "## <b> Problem Description </b>\n",
        "\n",
        "### Your task is to build a model that predicts the total ride duration of taxi trips in New York City. Your primary dataset is one released by the NYC Taxi and Limousine Commission, which includes pickup time, geo-coordinates, number of passengers, and several other variables."
      ]
    },
    {
      "cell_type": "markdown",
      "metadata": {
        "id": "WWeU1f9bwqQq"
      },
      "source": [
        "## <b> Data Description </b>\n",
        "\n",
        "### The dataset is based on the 2016 NYC Yellow Cab trip record data made available in Big Query on Google Cloud Platform. The data was originally published by the NYC Taxi and Limousine Commission (TLC). The data was sampled and cleaned for the purposes of this project. Based on individual trip attributes, you should predict the duration of each trip in the test set.\n",
        "\n",
        "### <b>NYC Taxi Data.csv</b> - the training set (contains 1458644 trip records)\n",
        "\n",
        "\n",
        "### Data fields\n",
        "* #### id - a unique identifier for each trip\n",
        "* #### vendor_id - a code indicating the provider associated with the trip record\n",
        "* #### pickup_datetime - date and time when the meter was engaged\n",
        "* #### dropoff_datetime - date and time when the meter was disengaged\n",
        "* #### passenger_count - the number of passengers in the vehicle (driver entered value)\n",
        "* #### pickup_longitude - the longitude where the meter was engaged\n",
        "* #### pickup_latitude - the latitude where the meter was engaged\n",
        "* #### dropoff_longitude - the longitude where the meter was disengaged\n",
        "* #### dropoff_latitude - the latitude where the meter was disengaged\n",
        "* #### store_and_fwd_flag - This flag indicates whether the trip record was held in vehicle memory before sending to the vendor because the vehicle did not have a connection to the server - Y=store and forward; N=not a store and forward trip\n",
        "* #### trip_duration - duration of the trip in seconds"
      ]
    },
    {
      "cell_type": "markdown",
      "metadata": {
        "id": "-HIIXVD-RZN0"
      },
      "source": [
        "#<b>Import libraries"
      ]
    },
    {
      "cell_type": "code",
      "execution_count": null,
      "metadata": {
        "colab": {
          "base_uri": "https://localhost:8080/"
        },
        "id": "n-iOv8vcMfXb",
        "outputId": "53341efa-3969-40f6-a8e0-9e7b22e9a55d"
      },
      "outputs": [
        {
          "output_type": "stream",
          "name": "stdout",
          "text": [
            "Collecting klib\n",
            "  Downloading klib-1.0.1-py3-none-any.whl (20 kB)\n",
            "Collecting Jinja2<4.0.0,>=3.0.3\n",
            "  Downloading Jinja2-3.0.3-py3-none-any.whl (133 kB)\n",
            "\u001b[?25l\r\u001b[K     |██▌                             | 10 kB 16.4 MB/s eta 0:00:01\r\u001b[K     |█████                           | 20 kB 20.0 MB/s eta 0:00:01\r\u001b[K     |███████▍                        | 30 kB 25.2 MB/s eta 0:00:01\r\u001b[K     |█████████▉                      | 40 kB 29.2 MB/s eta 0:00:01\r\u001b[K     |████████████▎                   | 51 kB 33.1 MB/s eta 0:00:01\r\u001b[K     |██████████████▊                 | 61 kB 37.6 MB/s eta 0:00:01\r\u001b[K     |█████████████████▏              | 71 kB 31.5 MB/s eta 0:00:01\r\u001b[K     |███████████████████▋            | 81 kB 26.6 MB/s eta 0:00:01\r\u001b[K     |██████████████████████          | 92 kB 28.4 MB/s eta 0:00:01\r\u001b[K     |████████████████████████▌       | 102 kB 30.2 MB/s eta 0:00:01\r\u001b[K     |███████████████████████████     | 112 kB 30.2 MB/s eta 0:00:01\r\u001b[K     |█████████████████████████████▍  | 122 kB 30.2 MB/s eta 0:00:01\r\u001b[K     |███████████████████████████████▉| 133 kB 30.2 MB/s eta 0:00:01\r\u001b[K     |████████████████████████████████| 133 kB 30.2 MB/s \n",
            "\u001b[?25hRequirement already satisfied: scipy<2.0.0,>=1.1.0 in /usr/local/lib/python3.7/dist-packages (from klib) (1.4.1)\n",
            "Requirement already satisfied: seaborn<0.12.0,>=0.11.1 in /usr/local/lib/python3.7/dist-packages (from klib) (0.11.2)\n",
            "Requirement already satisfied: matplotlib<4.0.0,>=3.0.3 in /usr/local/lib/python3.7/dist-packages (from klib) (3.2.2)\n",
            "Requirement already satisfied: pandas<2.0.0,>=1.1.2 in /usr/local/lib/python3.7/dist-packages (from klib) (1.3.5)\n",
            "Requirement already satisfied: numpy<2.0.0,>=1.16.3 in /usr/local/lib/python3.7/dist-packages (from klib) (1.21.5)\n",
            "Requirement already satisfied: MarkupSafe>=2.0 in /usr/local/lib/python3.7/dist-packages (from Jinja2<4.0.0,>=3.0.3->klib) (2.0.1)\n",
            "Requirement already satisfied: cycler>=0.10 in /usr/local/lib/python3.7/dist-packages (from matplotlib<4.0.0,>=3.0.3->klib) (0.11.0)\n",
            "Requirement already satisfied: kiwisolver>=1.0.1 in /usr/local/lib/python3.7/dist-packages (from matplotlib<4.0.0,>=3.0.3->klib) (1.3.2)\n",
            "Requirement already satisfied: pyparsing!=2.0.4,!=2.1.2,!=2.1.6,>=2.0.1 in /usr/local/lib/python3.7/dist-packages (from matplotlib<4.0.0,>=3.0.3->klib) (3.0.7)\n",
            "Requirement already satisfied: python-dateutil>=2.1 in /usr/local/lib/python3.7/dist-packages (from matplotlib<4.0.0,>=3.0.3->klib) (2.8.2)\n",
            "Requirement already satisfied: pytz>=2017.3 in /usr/local/lib/python3.7/dist-packages (from pandas<2.0.0,>=1.1.2->klib) (2018.9)\n",
            "Requirement already satisfied: six>=1.5 in /usr/local/lib/python3.7/dist-packages (from python-dateutil>=2.1->matplotlib<4.0.0,>=3.0.3->klib) (1.15.0)\n",
            "Installing collected packages: Jinja2, klib\n",
            "  Attempting uninstall: Jinja2\n",
            "    Found existing installation: Jinja2 2.11.3\n",
            "    Uninstalling Jinja2-2.11.3:\n",
            "      Successfully uninstalled Jinja2-2.11.3\n",
            "\u001b[31mERROR: pip's dependency resolver does not currently take into account all the packages that are installed. This behaviour is the source of the following dependency conflicts.\n",
            "flask 1.1.4 requires Jinja2<3.0,>=2.10.1, but you have jinja2 3.0.3 which is incompatible.\n",
            "datascience 0.10.6 requires folium==0.2.1, but you have folium 0.8.3 which is incompatible.\u001b[0m\n",
            "Successfully installed Jinja2-3.0.3 klib-1.0.1\n"
          ]
        }
      ],
      "source": [
        "!pip install klib"
      ]
    },
    {
      "cell_type": "code",
      "source": [
        "!pip install hyperopt"
      ],
      "metadata": {
        "colab": {
          "base_uri": "https://localhost:8080/"
        },
        "id": "8NXdMJFlI_iT",
        "outputId": "5d911e0a-c600-4e78-b1e7-ccd2465fb13f"
      },
      "execution_count": null,
      "outputs": [
        {
          "output_type": "stream",
          "name": "stdout",
          "text": [
            "Requirement already satisfied: hyperopt in /usr/local/lib/python3.7/dist-packages (0.1.2)\n",
            "Requirement already satisfied: future in /usr/local/lib/python3.7/dist-packages (from hyperopt) (0.16.0)\n",
            "Requirement already satisfied: tqdm in /usr/local/lib/python3.7/dist-packages (from hyperopt) (4.63.0)\n",
            "Requirement already satisfied: numpy in /usr/local/lib/python3.7/dist-packages (from hyperopt) (1.21.5)\n",
            "Requirement already satisfied: networkx in /usr/local/lib/python3.7/dist-packages (from hyperopt) (2.6.3)\n",
            "Requirement already satisfied: six in /usr/local/lib/python3.7/dist-packages (from hyperopt) (1.15.0)\n",
            "Requirement already satisfied: scipy in /usr/local/lib/python3.7/dist-packages (from hyperopt) (1.4.1)\n",
            "Requirement already satisfied: pymongo in /usr/local/lib/python3.7/dist-packages (from hyperopt) (4.0.2)\n"
          ]
        }
      ]
    },
    {
      "cell_type": "code",
      "source": [
        "from psutil import*"
      ],
      "metadata": {
        "id": "mv4FNF8sJIQQ"
      },
      "execution_count": null,
      "outputs": []
    },
    {
      "cell_type": "code",
      "source": [
        "cpu_count()"
      ],
      "metadata": {
        "colab": {
          "base_uri": "https://localhost:8080/"
        },
        "id": "UudzG5wJ12gy",
        "outputId": "7577c696-34f9-41fb-ba55-501552e0b101"
      },
      "execution_count": null,
      "outputs": [
        {
          "output_type": "execute_result",
          "data": {
            "text/plain": [
              "2"
            ]
          },
          "metadata": {},
          "execution_count": 6
        }
      ]
    },
    {
      "cell_type": "code",
      "source": [
        "!lscpu |grep \"Model name\""
      ],
      "metadata": {
        "colab": {
          "base_uri": "https://localhost:8080/"
        },
        "id": "TXiPsURT12ne",
        "outputId": "58eec55d-23a6-4220-a76f-5ba2552b4170"
      },
      "execution_count": null,
      "outputs": [
        {
          "output_type": "stream",
          "name": "stdout",
          "text": [
            "Model name:          Intel(R) Xeon(R) CPU @ 2.20GHz\n"
          ]
        }
      ]
    },
    {
      "cell_type": "code",
      "source": [
        "!nvidia-smi"
      ],
      "metadata": {
        "id": "rX_x91je2Mn0",
        "colab": {
          "base_uri": "https://localhost:8080/"
        },
        "outputId": "777e7456-971f-40bb-e61f-69f09bffc8c9"
      },
      "execution_count": null,
      "outputs": [
        {
          "output_type": "stream",
          "name": "stdout",
          "text": [
            "NVIDIA-SMI has failed because it couldn't communicate with the NVIDIA driver. Make sure that the latest NVIDIA driver is installed and running.\n",
            "\n"
          ]
        }
      ]
    },
    {
      "cell_type": "code",
      "execution_count": null,
      "metadata": {
        "id": "dByMsuzT8Tnw"
      },
      "outputs": [],
      "source": [
        "import klib \n",
        "import numpy as np\n",
        "import pandas as pd\n",
        "import seaborn as sns\n",
        "\n",
        "from sklearn.metrics import accuracy_score, auc\n",
        "from sklearn.model_selection import train_test_split\n",
        "from sklearn.tree import DecisionTreeRegressor\n",
        "from sklearn.model_selection import GridSearchCV\n",
        "import matplotlib.pyplot as plt\n",
        "from sklearn.tree import plot_tree\n",
        "import datetime as dt\n",
        "import warnings; warnings.simplefilter('ignore')"
      ]
    },
    {
      "cell_type": "markdown",
      "metadata": {
        "id": "U7JS-FugSJJK"
      },
      "source": [
        "#<b>Mount Google Drive"
      ]
    },
    {
      "cell_type": "code",
      "execution_count": null,
      "metadata": {
        "id": "JLTSaURzLeuY"
      },
      "outputs": [],
      "source": [
        "from google.colab import drive\n",
        "drive.mount('/content/drive')"
      ]
    },
    {
      "cell_type": "markdown",
      "metadata": {
        "id": "-pJlgM-3SgmY"
      },
      "source": [
        "#<b>Import Dataset"
      ]
    },
    {
      "cell_type": "code",
      "execution_count": null,
      "metadata": {
        "id": "bIyyLXxuLerM"
      },
      "outputs": [],
      "source": [
        "# Importing the dataset\n",
        "path = '/content/drive/My Drive/NYC Taxi Trip Prediction/Data & Resources/NYC Taxi Data.csv'\n",
        "nyc_taxi = pd.read_csv(path)"
      ]
    },
    {
      "cell_type": "code",
      "source": [
        "nyc_taxi = pd.read_csv(path)"
      ],
      "metadata": {
        "id": "eeIFmydC8X2S"
      },
      "execution_count": null,
      "outputs": []
    },
    {
      "cell_type": "markdown",
      "metadata": {
        "id": "gmF02-jQh9YW"
      },
      "source": [
        "#<b>Data Overview"
      ]
    },
    {
      "cell_type": "code",
      "execution_count": null,
      "metadata": {
        "id": "BzqRyutVeKiq"
      },
      "outputs": [],
      "source": [
        "nyc_taxi.shape"
      ]
    },
    {
      "cell_type": "code",
      "execution_count": null,
      "metadata": {
        "id": "AJUYntHJcoBc"
      },
      "outputs": [],
      "source": [
        "nyc_taxi.head()"
      ]
    },
    {
      "cell_type": "code",
      "execution_count": null,
      "metadata": {
        "id": "Ug9PFjGhcv4Y"
      },
      "outputs": [],
      "source": [
        "nyc_taxi.info()"
      ]
    },
    {
      "cell_type": "code",
      "execution_count": null,
      "metadata": {
        "id": "i-Xm16Ijcv8D"
      },
      "outputs": [],
      "source": [
        "nyc_taxi.describe(include= 'all')"
      ]
    },
    {
      "cell_type": "code",
      "execution_count": null,
      "metadata": {
        "id": "F2V0W1m3cv_-"
      },
      "outputs": [],
      "source": [
        "nyc_taxi.isnull().sum()"
      ]
    },
    {
      "cell_type": "code",
      "execution_count": null,
      "metadata": {
        "id": "cYoc48dceAmp"
      },
      "outputs": [],
      "source": [
        "nyc_taxi.nunique()"
      ]
    },
    {
      "cell_type": "markdown",
      "metadata": {
        "id": "_rqYP1f6iDWv"
      },
      "source": [
        "#<b> Exploratary Data Analysis"
      ]
    },
    {
      "cell_type": "markdown",
      "metadata": {
        "id": "WS5ka75tNP4Z"
      },
      "source": [
        "##<b>So Lets do Some Exploratary data analysis of dataset  if any inconsitancy somewhere lets deal with that"
      ]
    },
    {
      "cell_type": "code",
      "execution_count": null,
      "metadata": {
        "id": "G3XFPaAGM0zT"
      },
      "outputs": [],
      "source": [
        "#Categorical Data Plot\n",
        "klib.cat_plot(nyc_taxi)"
      ]
    },
    {
      "cell_type": "code",
      "execution_count": null,
      "metadata": {
        "id": "nPdqyDrUM6JX"
      },
      "outputs": [],
      "source": [
        "# default representation of a distribution plot, other settings include fill_range, histogram, ...\n",
        "klib.dist_plot(nyc_taxi)"
      ]
    },
    {
      "cell_type": "code",
      "execution_count": null,
      "metadata": {
        "id": "HzUi2ZSlM6GB"
      },
      "outputs": [],
      "source": [
        "##Check any NULL records present in our dataset.\n",
        "klib.missingval_plot(nyc_taxi)"
      ]
    },
    {
      "cell_type": "code",
      "execution_count": null,
      "metadata": {
        "id": "yCOT_qOJLene"
      },
      "outputs": [],
      "source": [
        "#Checking number of rows and columns in our dataset.\n",
        "print(\"Number of rows is: \", nyc_taxi.shape[0])\n",
        "print(\"Number of columns is: \", nyc_taxi.shape[1])"
      ]
    },
    {
      "cell_type": "code",
      "execution_count": null,
      "metadata": {
        "id": "cRFlgz13LekW"
      },
      "outputs": [],
      "source": [
        "#Let's look at each feture in our dataset.\n",
        "nyc_taxi.columns"
      ]
    },
    {
      "cell_type": "code",
      "execution_count": null,
      "metadata": {
        "id": "-M1eTxSYQqFD"
      },
      "outputs": [],
      "source": [
        "#Let us now look at the datatypes of all features.\n",
        "nyc_taxi.dtypes"
      ]
    },
    {
      "cell_type": "code",
      "execution_count": null,
      "metadata": {
        "id": "ve-SfSdEQqCg"
      },
      "outputs": [],
      "source": [
        "#We have pickup_datetime, dropoff_datetime of the type 'object'. Convert it into type 'datetime'.\n",
        "nyc_taxi['pickup_datetime'] = pd.to_datetime(nyc_taxi['pickup_datetime'])\n",
        "nyc_taxi['dropoff_datetime'] = pd.to_datetime(nyc_taxi['dropoff_datetime'])"
      ]
    },
    {
      "cell_type": "code",
      "execution_count": null,
      "metadata": {
        "id": "aEACI2rLbCLK"
      },
      "outputs": [],
      "source": [
        "nyc_taxi.describe()"
      ]
    },
    {
      "cell_type": "markdown",
      "metadata": {
        "id": "yw11oygIUfnL"
      },
      "source": [
        "#**Feature Creation**\n",
        "Now, let us extract pickup_datetime and dropoff_datetimeand create Some new features from this datetime features we  have just created."
      ]
    },
    {
      "cell_type": "code",
      "execution_count": null,
      "metadata": {
        "id": "n9VeEGxVQp9c"
      },
      "outputs": [],
      "source": [
        "#It will contain the day number instead of characters with Monday=0 and Sunday=6.\n",
        "nyc_taxi['pickup_day']=nyc_taxi['pickup_datetime'].dt.day_name()\n",
        "nyc_taxi['dropoff_day']=nyc_taxi['dropoff_datetime'].dt.day_name()\n",
        "#It will convert weekday into number start at Monday=0 and end at Sunday=6.\n",
        "nyc_taxi['pickup_day_no']=nyc_taxi['pickup_datetime'].dt.weekday\n",
        "nyc_taxi['dropoff_day_no']=nyc_taxi['dropoff_datetime'].dt.weekday\n",
        "#Extract hour only from pickup_datetime.\n",
        "nyc_taxi['pickup_hour']=nyc_taxi['pickup_datetime'].dt.hour\n",
        "nyc_taxi['dropoff_hour']=nyc_taxi['dropoff_datetime'].dt.hour\n",
        "#Extract month in number only from pickup_datetime with January=1\n",
        "nyc_taxi['pickup_month']=nyc_taxi['pickup_datetime'].dt.month\n",
        "nyc_taxi['dropoff_month']=nyc_taxi['dropoff_datetime'].dt.month"
      ]
    },
    {
      "cell_type": "markdown",
      "metadata": {
        "id": "vNbl-qGhXy73"
      },
      "source": [
        "**We have created the following features:**\n",
        "\n",
        "**pickup_day and dropoff_day** which will contain the name of the day on which the ride was taken.\n",
        "**pickup_day_no and dropoff_day_n**o which will contain the day number instead of characters with Monday=0 and Sunday=6.\n",
        "**pickup_hour and dropoff_hour** with an hour of the day in the 24-hour format.\n",
        "**pickup_month and dropoff_month** with month number with January=1 and June =06."
      ]
    },
    {
      "cell_type": "markdown",
      "metadata": {
        "id": "wWrufpJykPn7"
      },
      "source": [
        "We also saw during dataset exploration that we have coordinates in the form of longitude and latitude for pickup and dropoff. But, we can’t really gather any insights or draw conclusions from that.\n",
        "So, the most obvious feature that we can extract from this is distance. Let us do that.\n",
        "\n",
        "**Importing the library which lets us calculate distance from geographical coordinates.**"
      ]
    },
    {
      "cell_type": "markdown",
      "metadata": {
        "id": "sCv1khOkjVon"
      },
      "source": [
        "# **Lets Importing the geopy.distance library which will help us calculate distance from geographical coordinates**."
      ]
    },
    {
      "cell_type": "code",
      "execution_count": null,
      "metadata": {
        "id": "Dfpb-qQsQp7f"
      },
      "outputs": [],
      "source": [
        "from geopy.distance import great_circle"
      ]
    },
    {
      "cell_type": "code",
      "execution_count": null,
      "metadata": {
        "id": "kNZ8vz-kQp3T"
      },
      "outputs": [],
      "source": [
        "#Creating the function for calculating distance between pickup and dropoff\n",
        "def cal_distance(pickup_lat,pickup_long,dropoff_lat,dropoff_long):\n",
        " \n",
        " start_coordinates=(pickup_lat,pickup_long)\n",
        " stop_coordinates=(dropoff_lat,dropoff_long)\n",
        " \n",
        " return great_circle(start_coordinates,stop_coordinates).km"
      ]
    },
    {
      "cell_type": "code",
      "execution_count": null,
      "metadata": {
        "id": "AJJIxMyBQpzv"
      },
      "outputs": [],
      "source": [
        "#Applying the function to our dataset and creating the feature ‘distance’.\n",
        "nyc_taxi['distance'] = nyc_taxi.apply(lambda x: cal_distance(x['pickup_latitude'],x['pickup_longitude'],x['dropoff_latitude'],x['dropoff_longitude'] ), axis=1)"
      ]
    },
    {
      "cell_type": "markdown",
      "metadata": {
        "id": "dTezg-D8Ycox"
      },
      "source": [
        "# **Lets Create New Feature Speed(km/Hr) With help of Distance and Duration Column**"
      ]
    },
    {
      "cell_type": "code",
      "execution_count": null,
      "metadata": {
        "id": "uJsoA47HQpx0"
      },
      "outputs": [],
      "source": [
        "nyc_taxi['speed'] = (nyc_taxi.distance*3600/(nyc_taxi.trip_duration))"
      ]
    },
    {
      "cell_type": "markdown",
      "metadata": {
        "id": "fBPsmEG0ZIbm"
      },
      "source": [
        "Next,Lets defined a function that lets us determine what time of the day the ride was taken.\n",
        "\n",
        "We will create four parts of time:-\n",
        "\n",
        "1.**Morning** (from 6:00 am to 11:59 pm),\n",
        "\n",
        "2.**Afternoon** (from 12 noon to 3:59 pm),\n",
        "\n",
        "3.**Evening** (from 4:00 pm to 9:59 pm), and\n",
        "\n",
        "4.**Late Night** (from 10:00 pm to 5:59 am)"
      ]
    },
    {
      "cell_type": "code",
      "execution_count": null,
      "metadata": {
        "id": "CLvzz7BVQpbA"
      },
      "outputs": [],
      "source": [
        "#Dividing 24 hours into four parts\n",
        "def time_of_day(x):\n",
        "    if x in range(6,12):\n",
        "        return 'Morning'\n",
        "    elif x in range(12,16):\n",
        "        return 'Afternoon'\n",
        "    elif x in range(16,22):\n",
        "        return 'Evening'\n",
        "    else:\n",
        "        return 'Late night'"
      ]
    },
    {
      "cell_type": "code",
      "execution_count": null,
      "metadata": {
        "id": "W7UJXzP-QpYx"
      },
      "outputs": [],
      "source": [
        "#Now let us apply this function and create new columns in the dataset.\n",
        "nyc_taxi['pickup_timeofday'] = nyc_taxi['pickup_hour'].apply(time_of_day)\n",
        "nyc_taxi['dropoff_timeofday']=nyc_taxi['dropoff_hour'].apply(time_of_day)"
      ]
    },
    {
      "cell_type": "code",
      "execution_count": null,
      "metadata": {
        "id": "2qDAAhdIQpWy"
      },
      "outputs": [],
      "source": [
        "nyc_taxi.head()"
      ]
    },
    {
      "cell_type": "code",
      "execution_count": null,
      "metadata": {
        "id": "5XAb1biHtx3w"
      },
      "outputs": [],
      "source": [
        "#Let us check the data type of all features.\n",
        "nyc_taxi.dtypes"
      ]
    },
    {
      "cell_type": "markdown",
      "metadata": {
        "id": "rdYwcOjYaJB4"
      },
      "source": [
        "Now our dataset is complete for the further analysis before we train our model with optimal variables."
      ]
    },
    {
      "cell_type": "markdown",
      "metadata": {
        "id": "5AXdj8zqaVZ7"
      },
      "source": [
        "#**Univariate Analysis**\n",
        "The univariate analysis involves studying patterns of all variables individually.\n",
        "\n",
        "**Target Variable**\n",
        "\n",
        "Let us start with the target varibale i.e trip duration.\n",
        "# **1.Trip duration.**"
      ]
    },
    {
      "cell_type": "code",
      "execution_count": null,
      "metadata": {
        "id": "RWPvD7tMlYZI"
      },
      "outputs": [],
      "source": [
        "sns.histplot(nyc_taxi['trip_duration'],kde=False,bins=20)"
      ]
    },
    {
      "cell_type": "code",
      "execution_count": null,
      "metadata": {
        "id": "2QP8lq4Sk-IX"
      },
      "outputs": [],
      "source": [
        "sns.boxplot(nyc_taxi['trip_duration'])"
      ]
    },
    {
      "cell_type": "code",
      "execution_count": null,
      "metadata": {
        "id": "VsrKbJxzQpNd"
      },
      "outputs": [],
      "source": [
        "for i in range(0,100,10):\n",
        "  duration= nyc_taxi['trip_duration'].values\n",
        "  duration= np.sort(duration, axis= None)\n",
        "  print(\"{} percentile value is {}\".format(i, duration[int(len(duration)*(float(i)/100))]))\n",
        "print(\"100 percentile value is \",duration[-1])"
      ]
    },
    {
      "cell_type": "code",
      "execution_count": null,
      "metadata": {
        "id": "K6vhYsnjQpLw"
      },
      "outputs": [],
      "source": [
        "for i in range(90,100):\n",
        "  duration= nyc_taxi['trip_duration'].values\n",
        "  duration= np.sort(duration, axis= None)\n",
        "  print(\"{} percentile value is {}\".format(i, duration[int(len(duration)*(float(i)/100))]))\n",
        "print(\"100 percentile value is \",duration[-1])"
      ]
    },
    {
      "cell_type": "code",
      "execution_count": null,
      "metadata": {
        "id": "DUcCPYfAm5Qf"
      },
      "outputs": [],
      "source": [
        "nyc_taxi['trip_duration'].sort_values(ascending =False)"
      ]
    },
    {
      "cell_type": "code",
      "execution_count": null,
      "metadata": {
        "id": "5wADOQwGxWJK"
      },
      "outputs": [],
      "source": [
        "for i in range(0,10):\n",
        "  duration= nyc_taxi['trip_duration'].values\n",
        "  duration= np.sort(duration, axis= None)\n",
        "  print(\"{} percentile value is {}\".format(i, duration[int(len(duration)*(float(i)/100))]))\n",
        "print(\"100 percentile value is \",duration[-1])"
      ]
    },
    {
      "cell_type": "markdown",
      "metadata": {
        "id": "Ez2WnlWOuVgT"
      },
      "source": [
        "## **We can see that there are some entries  which are significantly different from others.As there are four rows only, let us drop this row.**"
      ]
    },
    {
      "cell_type": "code",
      "execution_count": null,
      "metadata": {
        "id": "SYjUQq4wYlro"
      },
      "outputs": [],
      "source": [
        "# Setting Trip duration upper limit\n",
        "nyc_taxi = nyc_taxi[nyc_taxi.trip_duration <= 3440]\n"
      ]
    },
    {
      "cell_type": "code",
      "execution_count": null,
      "metadata": {
        "id": "GaOR6I5BQpUH"
      },
      "outputs": [],
      "source": [
        "plt.figure(figsize = (10,5))\n",
        "sns.distplot(nyc_taxi['trip_duration'])\n",
        "plt.xlabel('Trip Duration')\n",
        "plt.show()"
      ]
    },
    {
      "cell_type": "markdown",
      "metadata": {
        "id": "Quzpzh3qaxSv"
      },
      "source": [
        "This histogram shows right skewness, hence let's apply the log10 to transform it to the normal distribution."
      ]
    },
    {
      "cell_type": "code",
      "execution_count": null,
      "metadata": {
        "id": "SdRkbPt-QpRx"
      },
      "outputs": [],
      "source": [
        "plt.figure(figsize = (10,5))\n",
        "sns.distplot(np.log10(nyc_taxi['trip_duration'])) #taking log of trip_duration\n",
        "plt.xlabel('Trip Duration')\n",
        "plt.show()"
      ]
    },
    {
      "cell_type": "markdown",
      "metadata": {
        "id": "2__SrJ-FbCP9"
      },
      "source": [
        "* Here, we can see that trip_duration is normally distributed.\n",
        "* There are some outliers. Lets see the boxplot of this variable."
      ]
    },
    {
      "cell_type": "code",
      "execution_count": null,
      "metadata": {
        "id": "uOxUbLnAQpPn"
      },
      "outputs": [],
      "source": [
        "plt.figure(figsize = (10,5))\n",
        "sns.boxplot(nyc_taxi.trip_duration)\n",
        "plt.xlabel('Trip Duration')\n",
        "plt.show()"
      ]
    },
    {
      "cell_type": "markdown",
      "metadata": {
        "id": "jHayDD9yb3PR"
      },
      "source": [
        "We can clearly see an outlier and should be removed for the data consistency.\n",
        "\n",
        "Calclating 0-100th percentille to find a correct percentile value for removal of outliers."
      ]
    },
    {
      "cell_type": "markdown",
      "metadata": {
        "id": "OcU-kBdDcmFN"
      },
      "source": [
        "The 90th percentile i.e. 1634 looks reasonable. But, 100th percentile i.e. 3526282 is outlier. Hence removing these would be a better idea.\n",
        "\n",
        "Let's expand from 90th percentile to 100th percentile as to look further for the 99th percentile."
      ]
    },
    {
      "cell_type": "markdown",
      "metadata": {
        "id": "fMBZHl5MdEnE"
      },
      "source": [
        "**Let's visualize the number of trips taken in diifferent slabs of ... secconds respectively**"
      ]
    },
    {
      "cell_type": "code",
      "execution_count": null,
      "metadata": {
        "id": "CSJHPgJByblK"
      },
      "outputs": [],
      "source": [
        "plt.figure(figsize = (10,5))\n",
        "nyc_taxi.trip_duration.groupby(pd.cut(nyc_taxi.trip_duration, np.arange(1,90000,5000))).count().plot(kind='bar')\n",
        "plt.xlabel('Trip Duration Slots in Second')\n",
        "plt.ylabel('Trip Counts)')\n",
        "plt.show()"
      ]
    },
    {
      "cell_type": "code",
      "execution_count": null,
      "metadata": {
        "id": "24IPQDxcyB--"
      },
      "outputs": [],
      "source": [
        "plt.figure(figsize = (10,5))\n",
        "nyc_taxi.trip_duration.groupby(pd.cut(nyc_taxi.trip_duration, np.arange(5000,90000,5000))).count().plot(kind='bar')\n",
        "plt.xlabel('Trip Duration Slots in Second')\n",
        "plt.ylabel('Trip Counts)')\n",
        "plt.show()"
      ]
    },
    {
      "cell_type": "code",
      "execution_count": null,
      "metadata": {
        "id": "gxiWFQtTQpJQ"
      },
      "outputs": [],
      "source": [
        "plt.figure(figsize = (10,5))\n",
        "nyc_taxi.trip_duration.groupby(pd.cut(nyc_taxi.trip_duration, np.arange(1,5000,500))).count().plot(kind='bar')\n",
        "plt.xlabel('Trip Duration Slots in Second')\n",
        "plt.ylabel('Trip Counts')\n",
        "plt.show()"
      ]
    },
    {
      "cell_type": "code",
      "execution_count": null,
      "metadata": {
        "id": "TFEqUfOPxWZZ"
      },
      "outputs": [],
      "source": [
        "plt.figure(figsize = (10,5))\n",
        "nyc_taxi.trip_duration.groupby(pd.cut(nyc_taxi.trip_duration, np.arange(0,600,60))).count().plot(kind='bar')\n",
        "plt.xlabel('Trip Duration Slots in Second')\n",
        "plt.ylabel('Trip Counts')\n",
        "plt.show()"
      ]
    },
    {
      "cell_type": "code",
      "execution_count": null,
      "metadata": {
        "id": "YrbQq2nXynsB"
      },
      "outputs": [],
      "source": [
        "plt.figure(figsize = (10,5))\n",
        "nyc_taxi.trip_duration.groupby(pd.cut(nyc_taxi.trip_duration, np.arange(0,61,5))).count().plot(kind='bar')\n",
        "plt.xlabel('Trip Duration Slots in Second')\n",
        "plt.ylabel('Trip Counts')\n",
        "plt.show()"
      ]
    },
    {
      "cell_type": "markdown",
      "metadata": {
        "id": "FWNIMglndYYt"
      },
      "source": [
        "Let's have a look at the 10 largest and smallest value of trip_duration."
      ]
    },
    {
      "cell_type": "markdown",
      "metadata": {
        "id": "s2IqR7dUe0Tj"
      },
      "source": [
        "We can see that major chunk (99th percentile) of trip duration is completed in 3440 seconds i.e. nearly 1 hour.\n",
        "\n",
        "There are very few trip which have duration greater than 5000 seconds.\n",
        "\n",
        "There are some durations with as low as 1 second. which points towards trips with 0 km distance.\n",
        "\n",
        "We should get rid the outliers for the sake of data consistency. (Trip duration greater than 5000 seconds and also trip duration less than 30 seconds)"
      ]
    },
    {
      "cell_type": "markdown",
      "metadata": {
        "id": "WYGuLN1X2u0q"
      },
      "source": [
        "# **2.Pickup_timeofday & Dropoff_timeofday**"
      ]
    },
    {
      "cell_type": "code",
      "execution_count": null,
      "metadata": {
        "id": "n9SB1pW50MGm"
      },
      "outputs": [],
      "source": [
        "figure,(ax3,ax4)=plt.subplots(ncols=2,figsize=(20,5))\n",
        "ax3.set_title('Pickup Time of Day')\n",
        "ax=sns.countplot(x=\"pickup_timeofday\",data=nyc_taxi,ax=ax3)\n",
        "ax4.set_title('Dropoff Time of Day')\n",
        "ax=sns.countplot(x=\"dropoff_timeofday\",data=nyc_taxi,ax=ax4)"
      ]
    },
    {
      "cell_type": "markdown",
      "metadata": {
        "id": "EQl-0kiAf3jH"
      },
      "source": [
        "As we saw above, evenings are the busiest."
      ]
    },
    {
      "cell_type": "markdown",
      "metadata": {
        "id": "iRtgTPWZf7_f"
      },
      "source": [
        "# <b>3. Vendor id"
      ]
    },
    {
      "cell_type": "code",
      "execution_count": null,
      "metadata": {
        "id": "Kjqsnh_YQo7j"
      },
      "outputs": [],
      "source": [
        "plt.figure(figsize = (10,5))\n",
        "sns.countplot(nyc_taxi.vendor_id)\n",
        "plt.xlabel('Vendor ID')\n",
        "plt.ylabel('Count')\n",
        "plt.show()"
      ]
    },
    {
      "cell_type": "markdown",
      "metadata": {
        "id": "TD7LZ7d8gYDt"
      },
      "source": [
        "We see that there is not much difference between the trips taken by both vendors."
      ]
    },
    {
      "cell_type": "markdown",
      "metadata": {
        "id": "6L1s7nwGgeV-"
      },
      "source": [
        "# <b>4. Passenger count"
      ]
    },
    {
      "cell_type": "code",
      "execution_count": null,
      "metadata": {
        "id": "_8-MM7x11iPt"
      },
      "outputs": [],
      "source": [
        "no_of_passenger = nyc_taxi['passenger_count'].value_counts().reset_index()\n",
        "no_of_passenger.rename(columns={'index':'no_of_passenger', 'passenger_count':'trip_counts'})\n"
      ]
    },
    {
      "cell_type": "code",
      "execution_count": null,
      "metadata": {
        "id": "CJVDEBJ111h6"
      },
      "outputs": [],
      "source": [
        "#Removing 0 and more than 6 passenger \n",
        "nyc_taxi = nyc_taxi[nyc_taxi['passenger_count'] != 0]\n",
        "nyc_taxi = nyc_taxi[nyc_taxi['passenger_count']<=6]"
      ]
    },
    {
      "cell_type": "code",
      "execution_count": null,
      "metadata": {
        "id": "dN26YmknQo5e"
      },
      "outputs": [],
      "source": [
        "plt.figure(figsize = (10,5))\n",
        "sns.countplot(x='passenger_count',data=nyc_taxi)\n",
        "plt.ylabel('Count')\n",
        "plt.xlabel('No.of Passngers')\n",
        "plt.show()"
      ]
    },
    {
      "cell_type": "markdown",
      "metadata": {
        "id": "zQWGrIxVhRSK"
      },
      "source": [
        "Let us remove the rows which have 0, 8 and 9 passenger count"
      ]
    },
    {
      "cell_type": "markdown",
      "metadata": {
        "id": "zXo8nhMKiDkL"
      },
      "source": [
        "* We see the highest amount of trips was taken by a single passenger.\n",
        "* The instance of large group of people travelling together is rare."
      ]
    },
    {
      "cell_type": "markdown",
      "metadata": {
        "id": "gttKNafXidUD"
      },
      "source": [
        "# <b>5.Store and Forward Flag"
      ]
    },
    {
      "cell_type": "code",
      "execution_count": null,
      "metadata": {
        "id": "gsfE7fPYhbi6"
      },
      "outputs": [],
      "source": [
        "nyc_taxi['store_and_fwd_flag'].value_counts(normalize=True)"
      ]
    },
    {
      "cell_type": "code",
      "execution_count": null,
      "metadata": {
        "id": "ByPSdtJV3coM"
      },
      "outputs": [],
      "source": [
        "plt.figure(figsize = (10,5))\n",
        "sns.countplot(x='store_and_fwd_flag',data=nyc_taxi)\n",
        "plt.ylabel('Count')\n",
        "plt.xlabel('store_and_fwd_flag')\n",
        "plt.show()"
      ]
    },
    {
      "cell_type": "markdown",
      "metadata": {
        "id": "t1TMhrHMikMc"
      },
      "source": [
        "* We can see that only about 1% of the trip details were stored in the vehicle memory first before sending it to the server.\n",
        "\n",
        "* This might have occured because of the GPS or mobile device battery was down when the trip finished."
      ]
    },
    {
      "cell_type": "markdown",
      "metadata": {
        "id": "d9VWtuqti8fU"
      },
      "source": [
        "# <b>6.Distance"
      ]
    },
    {
      "cell_type": "code",
      "execution_count": null,
      "metadata": {
        "id": "B5Pt654_4Myp"
      },
      "outputs": [],
      "source": [
        "plt.figure(figsize = (10,5))\n",
        "sns.distplot(nyc_taxi['distance'])\n",
        "plt.xlabel('distance')\n",
        "plt.show()"
      ]
    },
    {
      "cell_type": "code",
      "execution_count": null,
      "metadata": {
        "id": "R7HXKsHk6yY-"
      },
      "outputs": [],
      "source": [
        "nyc_taxi['distance'].value_counts().sort_values(ascending  =True)"
      ]
    },
    {
      "cell_type": "code",
      "execution_count": null,
      "metadata": {
        "id": "_-uLlfPj7QTn"
      },
      "outputs": [],
      "source": [
        "#Removing  entries which are having distance less than 50 metere\n",
        "nyc_taxi = nyc_taxi[nyc_taxi['distance'] > 0.05]"
      ]
    },
    {
      "cell_type": "code",
      "execution_count": null,
      "metadata": {
        "id": "F6-cjNMgvvfa"
      },
      "outputs": [],
      "source": [
        "plt.figure(figsize = (10,5))\n",
        "sns.distplot(np.log10(nyc_taxi['distance']))\n",
        "plt.xlabel('distance')\n",
        "plt.show()"
      ]
    },
    {
      "cell_type": "code",
      "execution_count": null,
      "metadata": {
        "id": "1zeVFXA63ypO"
      },
      "outputs": [],
      "source": [
        "plt.figure(figsize = (10,5))\n",
        "nyc_taxi.distance.groupby(pd.cut(nyc_taxi.distance, np.arange(0,1200,100))).count().plot(kind='bar')\n",
        "plt.xlabel('Trip distance Slots in km')\n",
        "plt.ylabel('Trip Counts')\n",
        "plt.show()"
      ]
    },
    {
      "cell_type": "code",
      "execution_count": null,
      "metadata": {
        "id": "qDynR3Fs4J_V"
      },
      "outputs": [],
      "source": [
        "plt.figure(figsize = (10,5))\n",
        "nyc_taxi.distance.groupby(pd.cut(nyc_taxi.distance, np.arange(100,1001,100))).count().plot(kind='bar')\n",
        "plt.xlabel('Trip distance Slots in km')\n",
        "plt.ylabel('Trip Counts')\n",
        "plt.show()"
      ]
    },
    {
      "cell_type": "code",
      "execution_count": null,
      "metadata": {
        "id": "0TNbVqxM5WnM"
      },
      "outputs": [],
      "source": [
        "plt.figure(figsize = (10,5))\n",
        "nyc_taxi.distance.groupby(pd.cut(nyc_taxi.distance, np.arange(0.5,10.1,0.5))).count().plot(kind='bar')\n",
        "plt.xlabel('Trip distance Slots in km')\n",
        "plt.ylabel('Trip Counts')\n",
        "plt.show()"
      ]
    },
    {
      "cell_type": "code",
      "execution_count": null,
      "metadata": {
        "id": "f51P0-Z-4fLV"
      },
      "outputs": [],
      "source": [
        "plt.figure(figsize = (10,5))\n",
        "nyc_taxi.speed.groupby(pd.cut(nyc_taxi.distance, np.arange(0,1.05,0.05))).count().plot(kind='bar')\n",
        "plt.xlabel('Trip distance Slots in km')\n",
        "plt.ylabel('Trip Counts')\n",
        "plt.show()"
      ]
    },
    {
      "cell_type": "code",
      "execution_count": null,
      "metadata": {
        "id": "sdxUO_LF6yGY"
      },
      "outputs": [],
      "source": [
        "nyc_taxi[nyc_taxi['distance']>100].value_counts()"
      ]
    },
    {
      "cell_type": "code",
      "execution_count": null,
      "metadata": {
        "id": "wRXC7cei80al"
      },
      "outputs": [],
      "source": [
        "#Removing the rows which are having distance  More than 100 km\n",
        "nyc_taxi = nyc_taxi[nyc_taxi['distance'] <= 100]"
      ]
    },
    {
      "cell_type": "code",
      "execution_count": null,
      "metadata": {
        "id": "zQYqETZS7xLw"
      },
      "outputs": [],
      "source": [
        "nyc_taxi.distance.max()"
      ]
    },
    {
      "cell_type": "markdown",
      "metadata": {
        "id": "_aVKa9SrjhA6"
      },
      "source": [
        "* There are **16 trips with more than 100 km** distance.\n",
        "* There are **5887 trips with 0 km** distance. so this trip will unneccsary infuence our model that we are droping this rows\n",
        "\n",
        "**The possible reasons for 0 km trips can be:**\n",
        "\n",
        "* The dropoff location couldn’t be tracked.\n",
        "* The driver deliberately took this ride to complete a target ride number.\n",
        "* The passengers or driver cancelled the trip due to some issue.\n",
        "* Due to some technical issue in software, etc."
      ]
    },
    {
      "cell_type": "code",
      "execution_count": null,
      "metadata": {
        "id": "55vv7FHlDpue"
      },
      "outputs": [],
      "source": [
        "nyc_taxi.shape"
      ]
    },
    {
      "cell_type": "markdown",
      "metadata": {
        "id": "9oWRsLLSkAQO"
      },
      "source": [
        "# <b>7.Speed"
      ]
    },
    {
      "cell_type": "code",
      "execution_count": null,
      "metadata": {
        "id": "Y_oJgSu__z4A"
      },
      "outputs": [],
      "source": [
        "nyc_taxi.speed.max()"
      ]
    },
    {
      "cell_type": "code",
      "execution_count": null,
      "metadata": {
        "id": "o29zhGLh5Rfx"
      },
      "outputs": [],
      "source": [
        "plt.figure(figsize = (10,5))\n",
        "sns.distplot(nyc_taxi['speed'])\n",
        "plt.xlabel('Speed (km/hr)')\n",
        "plt.show()"
      ]
    },
    {
      "cell_type": "code",
      "execution_count": null,
      "metadata": {
        "id": "OfFpdAtU_82-"
      },
      "outputs": [],
      "source": [
        "nyc_taxi.speed.max()"
      ]
    },
    {
      "cell_type": "code",
      "execution_count": null,
      "metadata": {
        "id": "EBU7sztVBgAw"
      },
      "outputs": [],
      "source": [
        "nyc_taxi[nyc_taxi['speed']>105].count()"
      ]
    },
    {
      "cell_type": "markdown",
      "metadata": {
        "id": "o3sCx61-ETYh"
      },
      "source": [
        "So At Some Places Speed of the taxi is quite high its from **200 to 9274** So which is unresonble.\n",
        "\n",
        "1.So it may be because of Some pasemger they might have canceled trip in between on  the way after traveling some distance.\n",
        "2.The dropoff location couldn’t be tracked.\n",
        "3.The passengers or driver cancelled the trip due to some issue.\n",
        "4.Due to some technical issue in software, etc.\n",
        "\n",
        "so in order to have consitant data **lets drop the rows which have speed more than 200 km/hr.** "
      ]
    },
    {
      "cell_type": "code",
      "execution_count": null,
      "metadata": {
        "id": "kOvgAJ31-G7l"
      },
      "outputs": [],
      "source": [
        "nyc_taxi = nyc_taxi[nyc_taxi['speed']<=200]"
      ]
    },
    {
      "cell_type": "code",
      "execution_count": null,
      "metadata": {
        "id": "kjMc79039pDU"
      },
      "outputs": [],
      "source": [
        "plt.figure(figsize = (10,5))\n",
        "sns.distplot(nyc_taxi['speed'])\n",
        "plt.xlabel('Speed (km/hr)')\n",
        "plt.show()"
      ]
    },
    {
      "cell_type": "markdown",
      "metadata": {
        "id": "kVBZGIU_klo1"
      },
      "source": [
        "Let's plot the boxplot for better understanding."
      ]
    },
    {
      "cell_type": "markdown",
      "metadata": {
        "id": "9XsNNEDUlEQj"
      },
      "source": [
        "There are trips that were done at a speed of over 100 km/h.\n",
        "\n",
        "As per the rule in NYC, the speed limit is 25 mph(approx. 40km/h) in New York City."
      ]
    },
    {
      "cell_type": "markdown",
      "metadata": {
        "id": "T8QyNPnxl541"
      },
      "source": [
        "Let's take a look at the speed range ditribution with the help of graph."
      ]
    },
    {
      "cell_type": "markdown",
      "metadata": {
        "id": "JQg1lApKmR8m"
      },
      "source": [
        "# **Mostly trips are done at a speed range of 5-25 km/hr.**"
      ]
    },
    {
      "cell_type": "markdown",
      "metadata": {
        "id": "CesDtm-_mVuN"
      },
      "source": [
        "# <b>8.Pickup_hour & Dropup_hour"
      ]
    },
    {
      "cell_type": "code",
      "execution_count": null,
      "metadata": {
        "id": "O2eXR_Juha_k"
      },
      "outputs": [],
      "source": [
        "figure,(ax3,ax4)=plt.subplots(ncols=2,figsize=(20,5))\n",
        "ax3.set_title('Pickup Time of Day (24hr format)')\n",
        "ax=sns.countplot(x=\"pickup_hour\",data=nyc_taxi,ax=ax3)\n",
        "ax4.set_title('Dropoff Time of Day (24hr format)')\n",
        "ax=sns.countplot(x=\"dropoff_hour\",data=nyc_taxi,ax=ax4)"
      ]
    },
    {
      "cell_type": "markdown",
      "metadata": {
        "id": "D3v0uFI7miK9"
      },
      "source": [
        "We see the busiest hours are 6:00 pm to 7:00 pm which makes sense as this is the time for people to return home from work."
      ]
    },
    {
      "cell_type": "markdown",
      "metadata": {
        "id": "d69OLye3mjLi"
      },
      "source": [
        "# <b> 9. Pickup_day & Dropup_day"
      ]
    },
    {
      "cell_type": "code",
      "execution_count": null,
      "metadata": {
        "id": "_9wMEEEyha9k"
      },
      "outputs": [],
      "source": [
        "\n",
        "figure,(ax1,ax2)=plt.subplots(ncols=2,figsize=(20,5))\n",
        "ax1.set_title('Pickup Days')\n",
        "ax=sns.countplot(x=\"pickup_day\",data=nyc_taxi,ax=ax1)\n",
        "ax2.set_title('Dropoff Days')\n",
        "ax=sns.countplot(x=\"dropoff_day\",data=nyc_taxi,ax=ax2)"
      ]
    },
    {
      "cell_type": "markdown",
      "metadata": {
        "id": "cFrWWDrFmwKu"
      },
      "source": [
        "We see Fridays are the busiest days followed by Saturdays. That is probably because it’s weekend."
      ]
    },
    {
      "cell_type": "markdown",
      "metadata": {
        "id": "7IyGWiKbm0ON"
      },
      "source": [
        "# **10.Pickup_month & Dropup_month**"
      ]
    },
    {
      "cell_type": "code",
      "execution_count": null,
      "metadata": {
        "id": "6KyfUzzPha7D"
      },
      "outputs": [],
      "source": [
        "figure,(ax1,ax2)=plt.subplots(ncols=2,figsize=(20,5))\n",
        "ax1.set_title('Pickup Months (Jan=1 to June=6)')\n",
        "ax=sns.countplot(x=\"pickup_month\",data=nyc_taxi,ax=ax1)\n",
        "ax2.set_title('Dropoff Months (Jan=1 to June=6)')\n",
        "ax=sns.countplot(x=\"dropoff_month\",data=nyc_taxi,ax=ax2)"
      ]
    },
    {
      "cell_type": "markdown",
      "metadata": {
        "id": "uD5S6Pdxm-6j"
      },
      "source": [
        "There is not much difference in the number of trips across months."
      ]
    },
    {
      "cell_type": "markdown",
      "metadata": {
        "id": "pF13UbfrnC_z"
      },
      "source": [
        "#<b>Bivariate Analysis\n",
        "\n",
        "1.Trip Duration per Vendor"
      ]
    },
    {
      "cell_type": "code",
      "execution_count": null,
      "metadata": {
        "id": "hRFv8n_7ha4i"
      },
      "outputs": [],
      "source": [
        "plt.figure(figsize = (10,5))\n",
        "sns.barplot(y='trip_duration',x='vendor_id',data=nyc_taxi,estimator=np.mean)\n",
        "plt.xlabel('Vendor ID')\n",
        "plt.ylabel('Trip Duration')\n",
        "plt.show()"
      ]
    },
    {
      "cell_type": "markdown",
      "metadata": {
        "id": "AKh6ZgOVnncd"
      },
      "source": [
        "There is no difference beteen  vendor 1 and 2"
      ]
    },
    {
      "cell_type": "markdown",
      "metadata": {
        "id": "XihvznBynsYB"
      },
      "source": [
        "<b>2.Trip Duration per Store and Forward Flagt"
      ]
    },
    {
      "cell_type": "code",
      "execution_count": null,
      "metadata": {
        "id": "1nmp4ZZmha2C"
      },
      "outputs": [],
      "source": [
        "plt.figure(figsize = (10,5))\n",
        "sns.catplot(y='trip_duration',x='store_and_fwd_flag',data=nyc_taxi,kind='strip')\n",
        "plt.xlabel('Store and Forward Flag')\n",
        "plt.ylabel('Duration (seconds)')\n",
        "plt.show()"
      ]
    },
    {
      "cell_type": "markdown",
      "metadata": {
        "id": "CpC9b1Xsn1nL"
      },
      "source": [
        "So from the above graph we can come to know that mostely long trips data havent store on server."
      ]
    },
    {
      "cell_type": "markdown",
      "metadata": {
        "id": "7nC4ZmirogX1"
      },
      "source": [
        "<b>3.Trip Duration per hour"
      ]
    },
    {
      "cell_type": "code",
      "execution_count": null,
      "metadata": {
        "id": "Hi74jVRWhazD"
      },
      "outputs": [],
      "source": [
        "plt.figure(figsize = (10,5))\n",
        "sns.lineplot(x='pickup_hour',y='trip_duration',data=nyc_taxi)\n",
        "plt.xlabel('Time of Pickup (24hr format)')\n",
        "plt.ylabel('Duration (seconds)')\n",
        "plt.show()"
      ]
    },
    {
      "cell_type": "markdown",
      "metadata": {
        "id": "MKhrzRxSopE6"
      },
      "source": [
        "* We see the trip duration is the maximum around 3 pm which may be because of traffic on the roads.\n",
        "* Trip duration is the lowest around 6 am as streets may not be busy."
      ]
    },
    {
      "cell_type": "markdown",
      "metadata": {
        "id": "Deq5i-Lgotcx"
      },
      "source": [
        "<b>4.Trip duration per weekday"
      ]
    },
    {
      "cell_type": "code",
      "execution_count": null,
      "metadata": {
        "id": "TTboZy16okd0"
      },
      "outputs": [],
      "source": [
        "plt.figure(figsize = (10,5))\n",
        "sns.lineplot(x='pickup_day_no',y='trip_duration',data = nyc_taxi)\n",
        "plt.ylabel('Duration (seconds)')\n",
        "plt.xlabel('')\n",
        "plt.show()"
      ]
    },
    {
      "cell_type": "markdown",
      "metadata": {
        "id": "jZSafRvIo5lo"
      },
      "source": [
        "Trip duration on thursday is longest among all days.\n"
      ]
    },
    {
      "cell_type": "markdown",
      "metadata": {
        "id": "pkZMt2mGo8RB"
      },
      "source": [
        "<b>5.Trip duration per month"
      ]
    },
    {
      "cell_type": "code",
      "execution_count": null,
      "metadata": {
        "id": "IeztpH1hokah"
      },
      "outputs": [],
      "source": [
        "plt.figure(figsize = (10,5))\n",
        "sns.lineplot(x='pickup_month',y='trip_duration', data = nyc_taxi)\n",
        "plt.ylabel('Duration (seconds)')\n",
        "plt.xlabel('Month of Trip ')\n",
        "plt.show()"
      ]
    },
    {
      "cell_type": "markdown",
      "metadata": {
        "id": "v5Nn0rz6pRp1"
      },
      "source": [
        "* From February, we can see trip duration rising every month.\n",
        "* There might be some seasonal parameters like wind/rain which can be a factor of this gradual increase in trip duration over a period.\n"
      ]
    },
    {
      "cell_type": "markdown",
      "metadata": {
        "id": "ou_qOCqVvgtS"
      },
      "source": [
        "<b>6.Distance and Hour"
      ]
    },
    {
      "cell_type": "code",
      "execution_count": null,
      "metadata": {
        "id": "kiuzO9tyokUX"
      },
      "outputs": [],
      "source": [
        "plt.figure(figsize = (10,5))\n",
        "sns.lineplot(y='distance',x='pickup_hour',data=nyc_taxi)\n",
        "plt.ylabel('Distance')\n",
        "plt.xlabel('Pickup Hour')\n",
        "plt.show()"
      ]
    },
    {
      "cell_type": "markdown",
      "metadata": {
        "id": "5LNN5gilvvRH"
      },
      "source": [
        "* Trip distance is highest during early morning hours.\n",
        "* It is fairly equal from morning till the evening varying around 3 - 3.5 kms.\n",
        "* It starts increasing gradually towards the late night hours starting from evening till 5 AM and decrease steeply towards morning.\n"
      ]
    },
    {
      "cell_type": "markdown",
      "metadata": {
        "id": "yZqhdBGLPRBX"
      },
      "source": [
        "**7.Passenger_count and Trip Duration**"
      ]
    },
    {
      "cell_type": "code",
      "execution_count": null,
      "metadata": {
        "id": "nC-uoI07O5rQ"
      },
      "outputs": [],
      "source": [
        "\n",
        "sns.catplot(y='trip_duration',x='passenger_count',data=nyc_taxi,kind='strip')\n"
      ]
    },
    {
      "cell_type": "markdown",
      "metadata": {
        "id": "LnSpec9Ywmdi"
      },
      "source": [
        "<b>8.Distance and Trip Duration"
      ]
    },
    {
      "cell_type": "code",
      "execution_count": null,
      "metadata": {
        "id": "-uZd0BZHokNL"
      },
      "outputs": [],
      "source": [
        "plt.figure(figsize = (10,5))\n",
        "plt.scatter(x='trip_duration', y='distance',data=nyc_taxi)\n",
        "plt.ylabel('Distance')\n",
        "plt.xlabel('Trip Duration')\n",
        "plt.show()\n"
      ]
    },
    {
      "cell_type": "markdown",
      "metadata": {
        "id": "S6G3BbCbRd6v"
      },
      "source": [
        "**9.Passenger_count and Distance**"
      ]
    },
    {
      "cell_type": "code",
      "execution_count": null,
      "metadata": {
        "id": "rqvmuihdPt6W"
      },
      "outputs": [],
      "source": [
        "sns.catplot(y='distance',x='passenger_count',data=nyc_taxi,kind='strip')"
      ]
    },
    {
      "cell_type": "markdown",
      "metadata": {
        "id": "Lo_Wl_uDRt_t"
      },
      "source": [
        "**We see some of the longer distances are covered by either 1 or 2 or 4 passenger rides.**"
      ]
    },
    {
      "cell_type": "code",
      "execution_count": null,
      "metadata": {
        "id": "VcLFBZApQNOf"
      },
      "outputs": [],
      "source": [
        "# Distance per month\n",
        "sns.lineplot(x='pickup_month',y='distance',data= nyc_taxi)"
      ]
    },
    {
      "cell_type": "code",
      "execution_count": null,
      "metadata": {
        "id": "jQVO1ZHVP1QW"
      },
      "outputs": [],
      "source": [
        "# Distance and Store and Forward Flag\n",
        "sns.catplot(y='distance',x='store_and_fwd_flag',data=nyc_taxi,kind='strip')"
      ]
    },
    {
      "cell_type": "markdown",
      "metadata": {
        "id": "N_a4KgA3w2Uo"
      },
      "source": [
        "Initially there is some proper correlation between the distance covered and the trip duration in the graph, but later on it seems a little uncorrelated."
      ]
    },
    {
      "cell_type": "markdown",
      "metadata": {
        "id": "P6sGkjNCxAb_"
      },
      "source": [
        "We should remove those trips which covered 0 km distance."
      ]
    },
    {
      "cell_type": "markdown",
      "metadata": {
        "id": "MLMmnTNoxelc"
      },
      "source": [
        "The straight line shows some linear relation between the two."
      ]
    },
    {
      "cell_type": "markdown",
      "metadata": {
        "id": "PtxCeRDq0HU8"
      },
      "source": [
        "#<b>Correlation Analysis"
      ]
    },
    {
      "cell_type": "markdown",
      "metadata": {
        "id": "SCVQvcBt5TNw"
      },
      "source": [
        ""
      ]
    },
    {
      "cell_type": "code",
      "execution_count": null,
      "metadata": {
        "id": "iMvZ1xYLIBEh"
      },
      "outputs": [],
      "source": [
        "klib.corr_plot(nyc_taxi)"
      ]
    },
    {
      "cell_type": "markdown",
      "metadata": {
        "id": "o8ucZjjXxnc0"
      },
      "source": [
        "#<b>Feature Engineering"
      ]
    },
    {
      "cell_type": "markdown",
      "metadata": {
        "id": "IbIqvB-XxslT"
      },
      "source": [
        "**One Hot Encoding**\n",
        "\n",
        "Dummify features like 'store_and_fwd_flag', and 'pickup_weekday'."
      ]
    },
    {
      "cell_type": "code",
      "execution_count": null,
      "metadata": {
        "id": "p5Xa1TNrXghM"
      },
      "outputs": [],
      "source": [
        "nyc_taxi.head(2)"
      ]
    },
    {
      "cell_type": "code",
      "execution_count": null,
      "metadata": {
        "id": "VdW5SpmyXWC6"
      },
      "outputs": [],
      "source": [
        "# One hot encoding\n",
        "nyc_taxi = pd.get_dummies(nyc_taxi, columns=[\"store_and_fwd_flag\", \"pickup_timeofday\",\"dropoff_timeofday\"], prefix=[\"store\", \"pickup\",\"dropoff\"])"
      ]
    },
    {
      "cell_type": "code",
      "execution_count": null,
      "metadata": {
        "id": "UJ1b60LearT1"
      },
      "outputs": [],
      "source": [
        "plt.figure(figsize=(20,12))\n",
        "correlation = nyc_taxi.corr()\n",
        "sns.heatmap(abs(correlation), annot=True, cmap='coolwarm')"
      ]
    },
    {
      "cell_type": "code",
      "execution_count": null,
      "metadata": {
        "id": "U1AhpZiJayPz"
      },
      "outputs": [],
      "source": [
        "df_corr = nyc_taxi.copy()\n",
        "df_corr.drop(['id','speed','trip_duration'],axis=1,inplace=True)"
      ]
    },
    {
      "cell_type": "code",
      "execution_count": null,
      "metadata": {
        "id": "48ZW48eIaL9l"
      },
      "outputs": [],
      "source": [
        "plt.figure(figsize=(20,12))\n",
        "correlation = df_corr.corr()\n",
        "sns.heatmap(abs(correlation), annot=True, cmap='coolwarm')"
      ]
    },
    {
      "cell_type": "code",
      "execution_count": null,
      "metadata": {
        "id": "yU-wcjr3NPXQ"
      },
      "outputs": [],
      "source": [
        "# Lets Drop he features which are havinh high colinearioty with each other ( More than 0.4)\n",
        "df_corr.drop(['dropoff_Afternoon','dropoff_Evening', 'dropoff_Late night', 'dropoff_Morning','pickup_longitude', \n",
        "              'dropoff_latitude','store_Y','store_N','dropoff_day_no', 'pickup_hour','pickup_Evening','pickup_Morning','dropoff_month','dropoff_hour'],axis=1,inplace=True)"
      ]
    },
    {
      "cell_type": "code",
      "execution_count": null,
      "metadata": {
        "id": "rf0_EowBi3B-"
      },
      "outputs": [],
      "source": [
        "plt.figure(figsize=(20,12))\n",
        "correlation = df_corr.corr()\n",
        "sns.heatmap(abs(correlation), annot=True, cmap='coolwarm')"
      ]
    },
    {
      "cell_type": "code",
      "execution_count": null,
      "metadata": {
        "id": "-adMdJYJpx11"
      },
      "outputs": [],
      "source": [
        "df_corr['trip_duration'] = nyc_taxi['trip_duration']"
      ]
    },
    {
      "cell_type": "code",
      "execution_count": null,
      "metadata": {
        "id": "ynCB6gQ5q7H8"
      },
      "outputs": [],
      "source": [
        "plt.figure(figsize=(20,12))\n",
        "correlation = df_corr.corr()\n",
        "sns.heatmap(abs(correlation), annot=True, cmap='coolwarm')"
      ]
    },
    {
      "cell_type": "code",
      "execution_count": null,
      "metadata": {
        "id": "spqPYBWYsE7d"
      },
      "outputs": [],
      "source": [
        "independent_variables=['vendor_id', 'passenger_count',\n",
        "       'dropoff_longitude', 'pickup_latitude',\n",
        "       'pickup_day_no', 'pickup_month', 'distance',\n",
        "       'pickup_Afternoon', 'pickup_Late night']"
      ]
    },
    {
      "cell_type": "code",
      "execution_count": null,
      "metadata": {
        "id": "sVSX7hcEUN1n"
      },
      "outputs": [],
      "source": [
        "# Create the data of independent variables\n",
        "X = df_corr[independent_variables]\n",
        "\n",
        "# Create the dependent variable data\n",
        "y = df_corr['trip_duration']"
      ]
    },
    {
      "cell_type": "code",
      "execution_count": null,
      "metadata": {
        "id": "aEEn3D6JXbKr"
      },
      "outputs": [],
      "source": [
        "print(X.shape)\n",
        "print(y.shape)"
      ]
    },
    {
      "cell_type": "code",
      "execution_count": null,
      "metadata": {
        "id": "4QFDkDzJVVpi"
      },
      "outputs": [],
      "source": [
        "from sklearn.preprocessing import MinMaxScaler\n",
        "from sklearn.preprocessing import StandardScaler"
      ]
    },
    {
      "cell_type": "code",
      "execution_count": null,
      "metadata": {
        "id": "XB4bmF6xU0ZJ"
      },
      "outputs": [],
      "source": [
        "# Transforming data\n",
        "scaler = StandardScaler()\n",
        "X = scaler.fit_transform(X)"
      ]
    },
    {
      "cell_type": "code",
      "execution_count": null,
      "metadata": {
        "id": "N7QtSby0VZG1"
      },
      "outputs": [],
      "source": [
        "X[0:2]"
      ]
    },
    {
      "cell_type": "markdown",
      "metadata": {
        "id": "m7aYWtgt13Lo"
      },
      "source": [
        "#<b>Splitting the data in train and test sets"
      ]
    },
    {
      "cell_type": "code",
      "execution_count": null,
      "metadata": {
        "id": "u72bhuxh0KYp"
      },
      "outputs": [],
      "source": [
        "#Importing RFE and Linear Regression \n",
        "from sklearn.model_selection import train_test_split\n",
        "\n",
        "# Splitting the dataset into the Training set and Test set\n",
        "X_train, X_test, y_train, y_test = train_test_split(X, y, test_size=0.3, random_state=0)"
      ]
    },
    {
      "cell_type": "markdown",
      "metadata": {
        "id": "2hl26Wkr2NNs"
      },
      "source": [
        "Splited the selected data set in 70-30 split for training and testing purpose respectively"
      ]
    },
    {
      "cell_type": "code",
      "execution_count": null,
      "metadata": {
        "colab": {
          "base_uri": "https://localhost:8080/"
        },
        "id": "H0wCYG6hXrlc",
        "outputId": "f4bb648b-36e3-48e8-b63b-8327c679ce96"
      },
      "outputs": [
        {
          "output_type": "stream",
          "name": "stdout",
          "text": [
            "Train Data Shape\n",
            "(1002901, 9)\n",
            "(1002901,)\n",
            "\n",
            "\n",
            "Test Data Shape\n",
            "(429815, 9)\n",
            "(429815,)\n"
          ]
        }
      ],
      "source": [
        "print('Train Data Shape')\n",
        "print(X_train.shape)\n",
        "print(y_train.shape)\n",
        "print('\\n')\n",
        "print('Test Data Shape')\n",
        "print(X_test.shape)\n",
        "print(y_test.shape)"
      ]
    },
    {
      "cell_type": "code",
      "execution_count": null,
      "metadata": {
        "id": "6rCRbXdGa3g-"
      },
      "outputs": [],
      "source": [
        "from sklearn.metrics import r2_score\n",
        "from sklearn.metrics import mean_squared_error\n",
        "from sklearn.metrics import mean_absolute_error"
      ]
    },
    {
      "cell_type": "markdown",
      "metadata": {
        "id": "pRjXnAQuYmJn"
      },
      "source": [
        "#<b>Linear Regression"
      ]
    },
    {
      "cell_type": "code",
      "execution_count": null,
      "metadata": {
        "colab": {
          "base_uri": "https://localhost:8080/"
        },
        "id": "jNin80b80KWB",
        "outputId": "706d4497-ab63-413c-c32a-ef1ca4626dec"
      },
      "outputs": [
        {
          "output_type": "execute_result",
          "data": {
            "text/plain": [
              "LinearRegression()"
            ]
          },
          "metadata": {},
          "execution_count": 109
        }
      ],
      "source": [
        "# Fitting Multiple Linear Regression to the Training set\n",
        "from sklearn.linear_model import LinearRegression\n",
        "linear_reg =  LinearRegression()\n",
        "\n",
        "#Aplly model on train dataset\n",
        "linear_reg.fit(X_train, y_train)"
      ]
    },
    {
      "cell_type": "code",
      "execution_count": null,
      "metadata": {
        "colab": {
          "base_uri": "https://localhost:8080/"
        },
        "id": "OXRfktoMZs0v",
        "outputId": "79c984d2-316e-4047-a47e-e14d650be842"
      },
      "outputs": [
        {
          "output_type": "execute_result",
          "data": {
            "text/plain": [
              "0.5906774665586653"
            ]
          },
          "metadata": {},
          "execution_count": 110
        }
      ],
      "source": [
        "#model score on train dataset\n",
        "linear_reg.score(X_train, y_train)"
      ]
    },
    {
      "cell_type": "code",
      "execution_count": null,
      "metadata": {
        "id": "lnpcJrMzcAxe"
      },
      "outputs": [],
      "source": [
        "#predicted value of train and test dataset\n",
        "y_pred_train = linear_reg.predict(X_train)\n",
        "y_pred_test = linear_reg.predict(X_test)"
      ]
    },
    {
      "cell_type": "code",
      "execution_count": null,
      "metadata": {
        "colab": {
          "base_uri": "https://localhost:8080/"
        },
        "id": "CZchcpoWbQZf",
        "outputId": "e8bd5b1d-ead1-42c4-f727-a62cd0c3ef8a"
      },
      "outputs": [
        {
          "output_type": "stream",
          "name": "stdout",
          "text": [
            "Train MSE : 134941.59275596906\n",
            "Train R2 : 0.5906774665586653\n",
            "Train Adjusted R2 :  0.5906737932753264\n"
          ]
        }
      ],
      "source": [
        "#Train Data Evaluation Metrics \n",
        "lr_train_mse  = mean_squared_error((y_train), (y_pred_train))\n",
        "print(\"Train MSE :\" , lr_train_mse)\n",
        "\n",
        "lr_train_r2 = r2_score((y_train), (y_pred_train))\n",
        "print(\"Train R2 :\" ,lr_train_r2) \n",
        "\n",
        "lr_train_r2_ = 1-(1-r2_score((y_train), (y_pred_train)))*((X_train.shape[0]-1)/(X_train.shape[0]-X_train.shape[1]-1))\n",
        "print(\"Train Adjusted R2 : \",lr_train_r2_)"
      ]
    },
    {
      "cell_type": "code",
      "execution_count": null,
      "metadata": {
        "colab": {
          "base_uri": "https://localhost:8080/"
        },
        "id": "1PVZAwxecvx6",
        "outputId": "c7cdc3fd-ef73-4adc-c22f-3054ef545735"
      },
      "outputs": [
        {
          "output_type": "stream",
          "name": "stdout",
          "text": [
            "Test MSE : 136348.41671735494\n",
            "Test R2 : 0.5879876518591438\n",
            "Test Adjusted R2 :  0.5879790244324427\n"
          ]
        }
      ],
      "source": [
        "lr_test_mse  = mean_squared_error((y_test), (y_pred_test))\n",
        "print(\"Test MSE :\" , lr_test_mse)\n",
        "\n",
        "lr_test_r2 = r2_score((y_test), (y_pred_test))\n",
        "print(\"Test R2 :\" ,lr_test_r2)\n",
        "\n",
        "lr_test_r2_ = 1-(1-r2_score((y_test), (y_pred_test)))*((X_test.shape[0]-1)/(X_test.shape[0]-X_test.shape[1]-1))\n",
        "print(\"Test Adjusted R2 : \",lr_test_r2_)"
      ]
    },
    {
      "cell_type": "code",
      "execution_count": null,
      "metadata": {
        "colab": {
          "base_uri": "https://localhost:8080/",
          "height": 341
        },
        "id": "AXx5xqU33TxZ",
        "outputId": "ab33f27d-b236-4cf7-a811-77f79f3b57c1"
      },
      "outputs": [
        {
          "output_type": "display_data",
          "data": {
            "text/plain": [
              "<Figure size 720x360 with 1 Axes>"
            ],
            "image/png": "[encoded data removed]"
          },
          "metadata": {
            "needs_background": "light"
          }
        }
      ],
      "source": [
        "plt.figure(figsize= (10,5))\n",
        "c= [i for i in range(0, len(y_test))]\n",
        "plt.plot(c, y_test-y_pred_test, color='blue', linewidth=2.5, linestyle='-')\n",
        "plt.title('Error Term', fontsize=20)\n",
        "plt.show()"
      ]
    },
    {
      "cell_type": "code",
      "execution_count": null,
      "metadata": {
        "colab": {
          "base_uri": "https://localhost:8080/",
          "height": 341
        },
        "id": "aF5hbq2K3Tys",
        "outputId": "5effcd83-7c0d-4dc1-d209-6efba7d74056"
      },
      "outputs": [
        {
          "output_type": "display_data",
          "data": {
            "text/plain": [
              "<Figure size 720x360 with 1 Axes>"
            ],
            "image/png": "[encoded data removed]"
          },
          "metadata": {
            "needs_background": "light"
          }
        }
      ],
      "source": [
        "#Actual vs Prediction\n",
        "plt.figure(figsize= (10,5))\n",
        "c= [i for i in range(0, len(y_test))]\n",
        "plt.plot(c, y_test, color='blue', linewidth=2.5, linestyle='-')\n",
        "plt.plot(c, y_pred_test, color='red', linewidth=2.5, linestyle='-')\n",
        "plt.title('Actual vs Predicted for Test Data', fontsize=20)\n",
        "plt.legend([\"Actual\", \"Predicted\"])\n",
        "plt.show()"
      ]
    },
    {
      "cell_type": "markdown",
      "metadata": {
        "id": "PgmnP9IF4u-O"
      },
      "source": [
        "As we can clearly see the Linear regression model does not provide us with high accuracy. It has high prediction error on the metrics we tested."
      ]
    },
    {
      "cell_type": "markdown",
      "metadata": {
        "id": "3cLz4rie40WN"
      },
      "source": [
        "#<b>Running Lasso Regression"
      ]
    },
    {
      "cell_type": "code",
      "execution_count": null,
      "metadata": {
        "id": "-BvLqZ063Tuu"
      },
      "outputs": [],
      "source": [
        "from sklearn.linear_model import Lasso\n",
        "from sklearn.model_selection import GridSearchCV\n",
        "#Cross validation\n",
        "lasso = Lasso()\n",
        "parameters = {'alpha': [1e-15,1e-13,1e-10,1e-8,1e-5,1e-4,1e-3,1e-2,1e-1,1,5,10,20,30,40,45,50,55,60,100]}\n",
        "lasso_regressor = GridSearchCV(lasso, parameters, scoring='r2', cv=5)"
      ]
    },
    {
      "cell_type": "code",
      "execution_count": null,
      "metadata": {
        "colab": {
          "base_uri": "https://localhost:8080/"
        },
        "id": "BI7r8UWNTx0m",
        "outputId": "73802b49-ef0e-4cf1-ce70-7f69926f668a"
      },
      "outputs": [
        {
          "output_type": "execute_result",
          "data": {
            "text/plain": [
              "GridSearchCV(cv=5, estimator=Lasso(),\n",
              "             param_grid={'alpha': [1e-15, 1e-13, 1e-10, 1e-08, 1e-05, 0.0001,\n",
              "                                   0.001, 0.01, 0.1, 1, 5, 10, 20, 30, 40, 45,\n",
              "                                   50, 55, 60, 100]},\n",
              "             scoring='r2')"
            ]
          },
          "metadata": {},
          "execution_count": 117
        }
      ],
      "source": [
        "lasso_regressor.fit(X_train, y_train)"
      ]
    },
    {
      "cell_type": "code",
      "execution_count": null,
      "metadata": {
        "colab": {
          "base_uri": "https://localhost:8080/"
        },
        "id": "3s8Clzwq3TtG",
        "outputId": "a51f1737-99dd-4252-9e86-0926ce76948b"
      },
      "outputs": [
        {
          "output_type": "stream",
          "name": "stdout",
          "text": [
            "The best fit alpha value is found out to be : {'alpha': 0.001}\n",
            "The R2 score using the same alpha is : 0.5906509345538512\n"
          ]
        }
      ],
      "source": [
        "print('The best fit alpha value is found out to be :', lasso_regressor.best_params_)\n",
        "print('The R2 score using the same alpha is :', lasso_regressor.best_score_)"
      ]
    },
    {
      "cell_type": "markdown",
      "metadata": {
        "id": "4APHetL-RZzs"
      },
      "source": [
        "**The best parameters for the LASSO Regression which we already tested before to save time when running it again.**\n",
        "* The best fit alpha value is found out to be : {'alpha': 0.0001}"
      ]
    },
    {
      "cell_type": "code",
      "execution_count": null,
      "metadata": {
        "colab": {
          "base_uri": "https://localhost:8080/"
        },
        "id": "5Sh31U993Tqu",
        "outputId": "b105cc0d-cefb-4324-866a-d6a655cd6d12"
      },
      "outputs": [
        {
          "output_type": "execute_result",
          "data": {
            "text/plain": [
              "0.5906774665222962"
            ]
          },
          "metadata": {},
          "execution_count": 119
        }
      ],
      "source": [
        "lasso_regressor.score(X_train, y_train)"
      ]
    },
    {
      "cell_type": "code",
      "execution_count": null,
      "metadata": {
        "id": "3F6CPK-r3Tph"
      },
      "outputs": [],
      "source": [
        "y_pred_lasso_train = lasso_regressor.predict(X_train)\n",
        "y_pred_lasso_test = lasso_regressor.predict(X_test)"
      ]
    },
    {
      "cell_type": "markdown",
      "metadata": {
        "id": "Y_pA4HM_5X5K"
      },
      "source": [
        "#<b>Model Evaluation"
      ]
    },
    {
      "cell_type": "code",
      "execution_count": null,
      "metadata": {
        "colab": {
          "base_uri": "https://localhost:8080/"
        },
        "id": "_YJ7Ga1P3TlT",
        "outputId": "05537900-cd71-44ce-c878-da1cad5d4904"
      },
      "outputs": [
        {
          "output_type": "stream",
          "name": "stdout",
          "text": [
            "Train MSE : 134941.59276795888\n",
            "Train R2 : 0.5906774665222962\n",
            "Train Adjusted R2 :  0.5906774665222962\n"
          ]
        }
      ],
      "source": [
        "lasso_train_mse  = mean_squared_error(y_train, y_pred_lasso_train)\n",
        "print(\"Train MSE :\" , lasso_train_mse)\n",
        "\n",
        "lasso_train_r2 = r2_score(y_train, y_pred_lasso_train)\n",
        "print(\"Train R2 :\" ,lasso_train_r2)\n",
        "\n",
        "lasso_train_r2_= 1-(1-r2_score(y_train, y_pred_lasso_train))*((X_train.shape[0]-1)/(X_train.shape[0]-X_train.shape[1]-1))\n",
        "print(\"Train Adjusted R2 : \", lasso_train_r2)"
      ]
    },
    {
      "cell_type": "code",
      "execution_count": null,
      "metadata": {
        "colab": {
          "base_uri": "https://localhost:8080/"
        },
        "id": "Eiuv_p5J3TjI",
        "outputId": "d4408129-d453-453f-aafe-598b28df6ad3"
      },
      "outputs": [
        {
          "output_type": "stream",
          "name": "stdout",
          "text": [
            "Test MSE : 136348.4103072988\n",
            "Test R2 : 0.5879876712288024\n",
            "Test Adjusted R2 :  0.5879790438025068\n"
          ]
        }
      ],
      "source": [
        "lasso_test_mse  = mean_squared_error(y_test, y_pred_lasso_test)\n",
        "print(\"Test MSE :\" , lasso_test_mse)\n",
        "\n",
        "lasso_test_r2 = r2_score(y_test, y_pred_lasso_test)\n",
        "print(\"Test R2 :\" ,lasso_test_r2)\n",
        "\n",
        "lasso_test_r2_= 1-(1-r2_score(y_test, y_pred_lasso_test))*((X_test.shape[0]-1)/(X_test.shape[0]-X_test.shape[1]-1))\n",
        "print(\"Test Adjusted R2 : \", lasso_test_r2_)"
      ]
    },
    {
      "cell_type": "code",
      "execution_count": null,
      "metadata": {
        "colab": {
          "base_uri": "https://localhost:8080/",
          "height": 341
        },
        "id": "wW41xTNd3TfU",
        "outputId": "f9382a0a-a76c-477a-f70e-92f65d0ba0c5"
      },
      "outputs": [
        {
          "output_type": "display_data",
          "data": {
            "text/plain": [
              "<Figure size 720x360 with 1 Axes>"
            ],
            "image/png": "[encoded data removed]"
          },
          "metadata": {
            "needs_background": "light"
          }
        }
      ],
      "source": [
        "plt.figure(figsize= (10,5))\n",
        "c= [i for i in range(0, len(y_test))]\n",
        "plt.plot(c, y_test-y_pred_lasso_test, color='blue', linewidth=2.5, linestyle='-')\n",
        "plt.title('Error Term', fontsize=20)\n",
        "plt.show()"
      ]
    },
    {
      "cell_type": "code",
      "execution_count": null,
      "metadata": {
        "colab": {
          "base_uri": "https://localhost:8080/",
          "height": 341
        },
        "id": "zXyM1wSt3Th6",
        "outputId": "fd0de4e5-7231-4045-fdc1-2c2a94e74d1d"
      },
      "outputs": [
        {
          "output_type": "display_data",
          "data": {
            "text/plain": [
              "<Figure size 720x360 with 1 Axes>"
            ],
            "image/png": "[encoded data removed]"
          },
          "metadata": {
            "needs_background": "light"
          }
        }
      ],
      "source": [
        "#Actual vs Prediction\n",
        "plt.figure(figsize= (10,5))\n",
        "c= [i for i in range(0, len(y_test))]\n",
        "plt.plot(c, y_test, color='blue', linewidth=2.5, linestyle='-')\n",
        "plt.plot(c, y_pred_lasso_test, color='red', linewidth=2.5, linestyle='-')\n",
        "plt.title('Actual vs Predicted for Test Data', fontsize=20)\n",
        "plt.legend([\"Actual\", \"Predicted\"])\n",
        "plt.show()"
      ]
    },
    {
      "cell_type": "markdown",
      "metadata": {
        "id": "OrjXtt8u55Pr"
      },
      "source": [
        "The Lasso regresion model doesn't improve on the Linear model either."
      ]
    },
    {
      "cell_type": "markdown",
      "metadata": {
        "id": "rzt4nl7_57YW"
      },
      "source": [
        "#<b>Running Ridge Regression"
      ]
    },
    {
      "cell_type": "code",
      "execution_count": null,
      "metadata": {
        "colab": {
          "base_uri": "https://localhost:8080/"
        },
        "id": "dlu-Ez5D5vXd",
        "outputId": "d951e1b2-ba9b-49f1-c3c1-2c8b0919d80a"
      },
      "outputs": [
        {
          "output_type": "execute_result",
          "data": {
            "text/plain": [
              "GridSearchCV(cv=5, estimator=Ridge(),\n",
              "             param_grid={'alpha': [1e-15, 1e-13, 1e-10, 1e-08, 1e-05, 0.0001,\n",
              "                                   0.001, 0.01, 0.1, 1, 5, 10, 20, 30, 40, 45,\n",
              "                                   50, 55, 60, 100]},\n",
              "             scoring='r2')"
            ]
          },
          "metadata": {},
          "execution_count": 125
        }
      ],
      "source": [
        "from sklearn.linear_model import Ridge\n",
        "#Cross validation\n",
        "ridge = Ridge()\n",
        "parameters = {'alpha': [1e-15,1e-13,1e-10,1e-8,1e-5,1e-4,1e-3,1e-2,1e-1,1,5,10,20,30,40,45,50,55,60,100]}\n",
        "ridge_regressor = GridSearchCV(ridge, parameters, scoring='r2', cv=5)\n",
        "ridge_regressor.fit(X_train, y_train)"
      ]
    },
    {
      "cell_type": "code",
      "execution_count": null,
      "metadata": {
        "colab": {
          "base_uri": "https://localhost:8080/"
        },
        "id": "_-CUpOOJ5vTs",
        "outputId": "a601e0b6-6ffd-4584-f18f-1318ae753b98"
      },
      "outputs": [
        {
          "output_type": "stream",
          "name": "stdout",
          "text": [
            "The best fit alpha value is found out to be : {'alpha': 40}\n",
            "The R2 score using the same alpha is : 0.5906509366023351\n"
          ]
        }
      ],
      "source": [
        "print('The best fit alpha value is found out to be :' ,ridge_regressor.best_params_)\n",
        "print('The R2 score using the same alpha is :', ridge_regressor.best_score_)"
      ]
    },
    {
      "cell_type": "markdown",
      "metadata": {
        "id": "yR4NGKt_SRaZ"
      },
      "source": [
        "**The best parameters for the RIDGE Regression which we already tested before to save time when running it again.**\n",
        "* The best fit alpha value is found out to be : {'alpha': 0.01}"
      ]
    },
    {
      "cell_type": "code",
      "execution_count": null,
      "metadata": {
        "colab": {
          "base_uri": "https://localhost:8080/"
        },
        "id": "gmigaGMU5vSc",
        "outputId": "034b0330-1480-44ca-93dd-a96117e99c3b"
      },
      "outputs": [
        {
          "output_type": "execute_result",
          "data": {
            "text/plain": [
              "0.5906774650769"
            ]
          },
          "metadata": {},
          "execution_count": 127
        }
      ],
      "source": [
        "ridge_regressor.score(X_train, y_train)"
      ]
    },
    {
      "cell_type": "code",
      "execution_count": null,
      "metadata": {
        "id": "Tq32r7Y25vRF"
      },
      "outputs": [],
      "source": [
        "y_pred_ridge_train=ridge_regressor.predict(X_train)\n",
        "y_pred_ridge_test = ridge_regressor.predict(X_test)"
      ]
    },
    {
      "cell_type": "markdown",
      "metadata": {
        "id": "g6u-6oH968w_"
      },
      "source": [
        "#<b>Model Evaluation"
      ]
    },
    {
      "cell_type": "code",
      "execution_count": null,
      "metadata": {
        "colab": {
          "base_uri": "https://localhost:8080/"
        },
        "id": "NysWmT7j5vOf",
        "outputId": "a80b10da-98e4-4f45-a80c-b96ed845308a"
      },
      "outputs": [
        {
          "output_type": "stream",
          "name": "stdout",
          "text": [
            "Train MSE : 134941.59324446347\n",
            "Train R2 : 0.5906774650769\n",
            "Train Adjusted R2 :  0.5906774650769\n"
          ]
        }
      ],
      "source": [
        "ridge_train_mse  = mean_squared_error(y_train, y_pred_ridge_train)\n",
        "print(\"Train MSE :\" , ridge_train_mse)\n",
        "\n",
        "ridge_train_r2 = r2_score(y_train, y_pred_ridge_train)\n",
        "print(\"Train R2 :\" ,ridge_train_r2)\n",
        "\n",
        "ridge_train_r2_= 1-(1-r2_score(y_train, y_pred_ridge_train))*((X_train.shape[0]-1)/(X_train.shape[0]-X_train.shape[1]-1))\n",
        "print(\"Train Adjusted R2 : \", ridge_train_r2)"
      ]
    },
    {
      "cell_type": "code",
      "execution_count": null,
      "metadata": {
        "colab": {
          "base_uri": "https://localhost:8080/"
        },
        "id": "iEsu4tE85vNG",
        "outputId": "fa04b1ac-3876-4ca5-9404-8c1a82aba282"
      },
      "outputs": [
        {
          "output_type": "stream",
          "name": "stdout",
          "text": [
            "Test MSE : 136348.38886894388\n",
            "Test R2 : 0.5879877360103903\n",
            "Test Adjusted R2 :  0.5879791085854513\n"
          ]
        }
      ],
      "source": [
        "ridge_test_mse  = mean_squared_error(y_test, y_pred_ridge_test)\n",
        "print(\"Test MSE :\" , ridge_test_mse)\n",
        "\n",
        "ridge_test_r2 = r2_score(y_test, y_pred_ridge_test)\n",
        "print(\"Test R2 :\" ,ridge_test_r2)\n",
        "\n",
        "ridge_test_r2_= 1-(1-r2_score(y_test, y_pred_ridge_test))*((X_test.shape[0]-1)/(X_test.shape[0]-X_test.shape[1]-1))\n",
        "print(\"Test Adjusted R2 : \", ridge_test_r2_)"
      ]
    },
    {
      "cell_type": "code",
      "execution_count": null,
      "metadata": {
        "colab": {
          "base_uri": "https://localhost:8080/",
          "height": 341
        },
        "id": "vCfSl66E5vIz",
        "outputId": "db7a5add-c392-4657-fa70-d66466d1c78b"
      },
      "outputs": [
        {
          "output_type": "display_data",
          "data": {
            "text/plain": [
              "<Figure size 720x360 with 1 Axes>"
            ],
            "image/png": "[encoded data removed]"
          },
          "metadata": {
            "needs_background": "light"
          }
        }
      ],
      "source": [
        "plt.figure(figsize= (10,5))\n",
        "c= [i for i in range(0, len(y_test))]\n",
        "plt.plot(c, y_test-y_pred_ridge_test, color='blue', linewidth=2.5, linestyle='-')\n",
        "plt.title('Error Term', fontsize=20)\n",
        "plt.show()"
      ]
    },
    {
      "cell_type": "code",
      "execution_count": null,
      "metadata": {
        "colab": {
          "base_uri": "https://localhost:8080/",
          "height": 341
        },
        "id": "wTvFUim75vKR",
        "outputId": "1d27ba4a-d6f6-4e66-aec0-8886b511b6aa"
      },
      "outputs": [
        {
          "output_type": "display_data",
          "data": {
            "text/plain": [
              "<Figure size 720x360 with 1 Axes>"
            ],
            "image/png": "[encoded data removed]"
          },
          "metadata": {
            "needs_background": "light"
          }
        }
      ],
      "source": [
        "#Actual vs Prediction\n",
        "plt.figure(figsize= (10,5))\n",
        "c= [i for i in range(0, len(y_test))]\n",
        "plt.plot(c, y_test, color='blue', linewidth=2.5, linestyle='-')\n",
        "plt.plot(c, y_pred_ridge_test, color='red', linewidth=2.5, linestyle='-')\n",
        "plt.title('Actual vs Predicted for Test Data', fontsize=20)\n",
        "plt.legend([\"Actual\", \"Predicted\"])\n",
        "plt.show()"
      ]
    },
    {
      "cell_type": "markdown",
      "metadata": {
        "id": "sO92mCpa7UuQ"
      },
      "source": [
        "The Ridge regresion model doesn't improve on the Linear model either."
      ]
    },
    {
      "cell_type": "markdown",
      "metadata": {
        "id": "7HRFse6N7f0g"
      },
      "source": [
        "#<b>Running Decision Tree Regressor"
      ]
    },
    {
      "cell_type": "code",
      "execution_count": null,
      "metadata": {
        "id": "iVMEQfyM5vGZ"
      },
      "outputs": [],
      "source": [
        "from sklearn.tree import DecisionTreeRegressor"
      ]
    },
    {
      "cell_type": "code",
      "source": [
        "# Create the data of independent variables\n",
        "X = df_corr[independent_variables]\n",
        "# Create the dependent variable data\n",
        "y = df_corr['trip_duration']"
      ],
      "metadata": {
        "id": "_dQ1CQMUNxEL"
      },
      "execution_count": null,
      "outputs": []
    },
    {
      "cell_type": "code",
      "source": [
        "#Lets split The dataset\n",
        "from sklearn.model_selection import train_test_split\n",
        "\n",
        "# Splitting the dataset into the Training set and Test set\n",
        "X_train, X_test, y_train, y_test = train_test_split(X, y, test_size=0.3, random_state=0)"
      ],
      "metadata": {
        "id": "dtuiZ5kPNxJb"
      },
      "execution_count": null,
      "outputs": []
    },
    {
      "cell_type": "code",
      "source": [
        "X_train[0:2]"
      ],
      "metadata": {
        "colab": {
          "base_uri": "https://localhost:8080/",
          "height": 174
        },
        "id": "bXPgwk08PIRT",
        "outputId": "1b4b150e-a479-4d13-839d-a268eb020807"
      },
      "execution_count": null,
      "outputs": [
        {
          "output_type": "execute_result",
          "data": {
            "text/plain": [
              "         vendor_id  passenger_count  dropoff_longitude  pickup_latitude  \\\n",
              "123196           2                1         -73.972099        40.786568   \n",
              "1398430          2                1         -73.971725        40.751602   \n",
              "\n",
              "         pickup_day_no  pickup_month  distance  pickup_Afternoon  \\\n",
              "123196               4             2  3.066331                 1   \n",
              "1398430              1             2  0.728800                 0   \n",
              "\n",
              "         pickup_Late night  \n",
              "123196                   0  \n",
              "1398430                  0  "
            ],
            "text/html": [
              "\n",
              "  <div id=\"df-ff37f520-eea1-4022-94a8-cf79701660a4\">\n",
              "    <div class=\"colab-df-container\">\n",
              "      <div>\n",
              "<style scoped>\n",
              "    .dataframe tbody tr th:only-of-type {\n",
              "        vertical-align: middle;\n",
              "    }\n",
              "\n",
              "    .dataframe tbody tr th {\n",
              "        vertical-align: top;\n",
              "    }\n",
              "\n",
              "    .dataframe thead th {\n",
              "        text-align: right;\n",
              "    }\n",
              "</style>\n",
              "<table border=\"1\" class=\"dataframe\">\n",
              "  <thead>\n",
              "    <tr style=\"text-align: right;\">\n",
              "      <th></th>\n",
              "      <th>vendor_id</th>\n",
              "      <th>passenger_count</th>\n",
              "      <th>dropoff_longitude</th>\n",
              "      <th>pickup_latitude</th>\n",
              "      <th>pickup_day_no</th>\n",
              "      <th>pickup_month</th>\n",
              "      <th>distance</th>\n",
              "      <th>pickup_Afternoon</th>\n",
              "      <th>pickup_Late night</th>\n",
              "    </tr>\n",
              "  </thead>\n",
              "  <tbody>\n",
              "    <tr>\n",
              "      <th>123196</th>\n",
              "      <td>2</td>\n",
              "      <td>1</td>\n",
              "      <td>-73.972099</td>\n",
              "      <td>40.786568</td>\n",
              "      <td>4</td>\n",
              "      <td>2</td>\n",
              "      <td>3.066331</td>\n",
              "      <td>1</td>\n",
              "      <td>0</td>\n",
              "    </tr>\n",
              "    <tr>\n",
              "      <th>1398430</th>\n",
              "      <td>2</td>\n",
              "      <td>1</td>\n",
              "      <td>-73.971725</td>\n",
              "      <td>40.751602</td>\n",
              "      <td>1</td>\n",
              "      <td>2</td>\n",
              "      <td>0.728800</td>\n",
              "      <td>0</td>\n",
              "      <td>0</td>\n",
              "    </tr>\n",
              "  </tbody>\n",
              "</table>\n",
              "</div>\n",
              "      <button class=\"colab-df-convert\" onclick=\"convertToInteractive('df-ff37f520-eea1-4022-94a8-cf79701660a4')\"\n",
              "              title=\"Convert this dataframe to an interactive table.\"\n",
              "              style=\"display:none;\">\n",
              "        \n",
              "  <svg xmlns=\"http://www.w3.org/2000/svg\" height=\"24px\"viewBox=\"0 0 24 24\"\n",
              "       width=\"24px\">\n",
              "    <path d=\"M0 0h24v24H0V0z\" fill=\"none\"/>\n",
              "    <path d=\"M18.56 5.44l.94 2.06.94-2.06 2.06-.94-2.06-.94-.94-2.06-.94 2.06-2.06.94zm-11 1L8.5 8.5l.94-2.06 2.06-.94-2.06-.94L8.5 2.5l-.94 2.06-2.06.94zm10 10l.94 2.06.94-2.06 2.06-.94-2.06-.94-.94-2.06-.94 2.06-2.06.94z\"/><path d=\"M17.41 7.96l-1.37-1.37c-.4-.4-.92-.59-1.43-.59-.52 0-1.04.2-1.43.59L10.3 9.45l-7.72 7.72c-.78.78-.78 2.05 0 2.83L4 21.41c.39.39.9.59 1.41.59.51 0 1.02-.2 1.41-.59l7.78-7.78 2.81-2.81c.8-.78.8-2.07 0-2.86zM5.41 20L4 18.59l7.72-7.72 1.47 1.35L5.41 20z\"/>\n",
              "  </svg>\n",
              "      </button>\n",
              "      \n",
              "  <style>\n",
              "    .colab-df-container {\n",
              "      display:flex;\n",
              "      flex-wrap:wrap;\n",
              "      gap: 12px;\n",
              "    }\n",
              "\n",
              "    .colab-df-convert {\n",
              "      background-color: #E8F0FE;\n",
              "      border: none;\n",
              "      border-radius: 50%;\n",
              "      cursor: pointer;\n",
              "      display: none;\n",
              "      fill: #1967D2;\n",
              "      height: 32px;\n",
              "      padding: 0 0 0 0;\n",
              "      width: 32px;\n",
              "    }\n",
              "\n",
              "    .colab-df-convert:hover {\n",
              "      background-color: #E2EBFA;\n",
              "      box-shadow: 0px 1px 2px rgba(60, 64, 67, 0.3), 0px 1px 3px 1px rgba(60, 64, 67, 0.15);\n",
              "      fill: #174EA6;\n",
              "    }\n",
              "\n",
              "    [theme=dark] .colab-df-convert {\n",
              "      background-color: #3B4455;\n",
              "      fill: #D2E3FC;\n",
              "    }\n",
              "\n",
              "    [theme=dark] .colab-df-convert:hover {\n",
              "      background-color: #434B5C;\n",
              "      box-shadow: 0px 1px 3px 1px rgba(0, 0, 0, 0.15);\n",
              "      filter: drop-shadow(0px 1px 2px rgba(0, 0, 0, 0.3));\n",
              "      fill: #FFFFFF;\n",
              "    }\n",
              "  </style>\n",
              "\n",
              "      <script>\n",
              "        const buttonEl =\n",
              "          document.querySelector('#df-ff37f520-eea1-4022-94a8-cf79701660a4 button.colab-df-convert');\n",
              "        buttonEl.style.display =\n",
              "          google.colab.kernel.accessAllowed ? 'block' : 'none';\n",
              "\n",
              "        async function convertToInteractive(key) {\n",
              "          const element = document.querySelector('#df-ff37f520-eea1-4022-94a8-cf79701660a4');\n",
              "          const dataTable =\n",
              "            await google.colab.kernel.invokeFunction('convertToInteractive',\n",
              "                                                     [key], {});\n",
              "          if (!dataTable) return;\n",
              "\n",
              "          const docLinkHtml = 'Like what you see? Visit the ' +\n",
              "            '<a target=\"_blank\" href=https://colab.research.google.com/notebooks/data_table.ipynb>data table notebook</a>'\n",
              "            + ' to learn more about interactive tables.';\n",
              "          element.innerHTML = '';\n",
              "          dataTable['output_type'] = 'display_data';\n",
              "          await google.colab.output.renderOutput(dataTable, element);\n",
              "          const docLink = document.createElement('div');\n",
              "          docLink.innerHTML = docLinkHtml;\n",
              "          element.appendChild(docLink);\n",
              "        }\n",
              "      </script>\n",
              "    </div>\n",
              "  </div>\n",
              "  "
            ]
          },
          "metadata": {},
          "execution_count": 136
        }
      ]
    },
    {
      "cell_type": "code",
      "execution_count": null,
      "metadata": {
        "id": "6RzE5-6E5vE-"
      },
      "outputs": [],
      "source": [
        "# Maximum depth of trees\n",
        "max_depth = [5,10,20,40]\n",
        "\n",
        "# Minimum number of samples required to split a node\n",
        "min_samples_split = [10,20,30]\n",
        "\n",
        "# Minimum number of samples required at each leaf node\n",
        "min_samples_leaf = [10,20,30]\n",
        "\n",
        "# Hyperparameter Grid\n",
        "param_dict_dt = {'max_depth' : max_depth,'min_samples_split' : min_samples_split,'min_samples_leaf' : min_samples_leaf}"
      ]
    },
    {
      "cell_type": "code",
      "execution_count": null,
      "metadata": {
        "colab": {
          "base_uri": "https://localhost:8080/"
        },
        "id": "Ad19W-GZ5u_3",
        "outputId": "b8867b33-67d8-43ae-b100-5e35197f4592"
      },
      "outputs": [
        {
          "output_type": "stream",
          "name": "stdout",
          "text": [
            "Fitting 5 folds for each of 36 candidates, totalling 180 fits\n",
            "[CV] END max_depth=5, min_samples_leaf=10, min_samples_split=10; total time=   3.3s\n",
            "[CV] END max_depth=5, min_samples_leaf=10, min_samples_split=10; total time=   3.2s\n",
            "[CV] END max_depth=5, min_samples_leaf=10, min_samples_split=10; total time=   3.2s\n",
            "[CV] END max_depth=5, min_samples_leaf=10, min_samples_split=10; total time=   3.1s\n",
            "[CV] END max_depth=5, min_samples_leaf=10, min_samples_split=10; total time=   3.1s\n",
            "[CV] END max_depth=5, min_samples_leaf=10, min_samples_split=20; total time=   3.1s\n",
            "[CV] END max_depth=5, min_samples_leaf=10, min_samples_split=20; total time=   3.1s\n",
            "[CV] END max_depth=5, min_samples_leaf=10, min_samples_split=20; total time=   3.1s\n",
            "[CV] END max_depth=5, min_samples_leaf=10, min_samples_split=20; total time=   3.1s\n",
            "[CV] END max_depth=5, min_samples_leaf=10, min_samples_split=20; total time=   3.1s\n",
            "[CV] END max_depth=5, min_samples_leaf=10, min_samples_split=30; total time=   3.1s\n",
            "[CV] END max_depth=5, min_samples_leaf=10, min_samples_split=30; total time=   3.1s\n",
            "[CV] END max_depth=5, min_samples_leaf=10, min_samples_split=30; total time=   3.1s\n",
            "[CV] END max_depth=5, min_samples_leaf=10, min_samples_split=30; total time=   3.1s\n",
            "[CV] END max_depth=5, min_samples_leaf=10, min_samples_split=30; total time=   3.1s\n",
            "[CV] END max_depth=5, min_samples_leaf=20, min_samples_split=10; total time=   3.1s\n",
            "[CV] END max_depth=5, min_samples_leaf=20, min_samples_split=10; total time=   3.1s\n",
            "[CV] END max_depth=5, min_samples_leaf=20, min_samples_split=10; total time=   3.1s\n",
            "[CV] END max_depth=5, min_samples_leaf=20, min_samples_split=10; total time=   3.1s\n",
            "[CV] END max_depth=5, min_samples_leaf=20, min_samples_split=10; total time=   3.1s\n",
            "[CV] END max_depth=5, min_samples_leaf=20, min_samples_split=20; total time=   3.2s\n",
            "[CV] END max_depth=5, min_samples_leaf=20, min_samples_split=20; total time=   3.1s\n",
            "[CV] END max_depth=5, min_samples_leaf=20, min_samples_split=20; total time=   3.1s\n",
            "[CV] END max_depth=5, min_samples_leaf=20, min_samples_split=20; total time=   3.1s\n",
            "[CV] END max_depth=5, min_samples_leaf=20, min_samples_split=20; total time=   3.1s\n",
            "[CV] END max_depth=5, min_samples_leaf=20, min_samples_split=30; total time=   3.1s\n",
            "[CV] END max_depth=5, min_samples_leaf=20, min_samples_split=30; total time=   3.2s\n",
            "[CV] END max_depth=5, min_samples_leaf=20, min_samples_split=30; total time=   3.2s\n",
            "[CV] END max_depth=5, min_samples_leaf=20, min_samples_split=30; total time=   3.2s\n",
            "[CV] END max_depth=5, min_samples_leaf=20, min_samples_split=30; total time=   3.2s\n",
            "[CV] END max_depth=5, min_samples_leaf=30, min_samples_split=10; total time=   3.1s\n",
            "[CV] END max_depth=5, min_samples_leaf=30, min_samples_split=10; total time=   3.1s\n",
            "[CV] END max_depth=5, min_samples_leaf=30, min_samples_split=10; total time=   3.1s\n",
            "[CV] END max_depth=5, min_samples_leaf=30, min_samples_split=10; total time=   3.2s\n",
            "[CV] END max_depth=5, min_samples_leaf=30, min_samples_split=10; total time=   3.2s\n",
            "[CV] END max_depth=5, min_samples_leaf=30, min_samples_split=20; total time=   3.2s\n",
            "[CV] END max_depth=5, min_samples_leaf=30, min_samples_split=20; total time=   3.2s\n",
            "[CV] END max_depth=5, min_samples_leaf=30, min_samples_split=20; total time=   3.2s\n",
            "[CV] END max_depth=5, min_samples_leaf=30, min_samples_split=20; total time=   3.2s\n",
            "[CV] END max_depth=5, min_samples_leaf=30, min_samples_split=20; total time=   3.2s\n",
            "[CV] END max_depth=5, min_samples_leaf=30, min_samples_split=30; total time=   3.1s\n",
            "[CV] END max_depth=5, min_samples_leaf=30, min_samples_split=30; total time=   3.2s\n",
            "[CV] END max_depth=5, min_samples_leaf=30, min_samples_split=30; total time=   3.1s\n",
            "[CV] END max_depth=5, min_samples_leaf=30, min_samples_split=30; total time=   3.1s\n",
            "[CV] END max_depth=5, min_samples_leaf=30, min_samples_split=30; total time=   3.1s\n",
            "[CV] END max_depth=10, min_samples_leaf=10, min_samples_split=10; total time=   5.9s\n",
            "[CV] END max_depth=10, min_samples_leaf=10, min_samples_split=10; total time=   5.9s\n",
            "[CV] END max_depth=10, min_samples_leaf=10, min_samples_split=10; total time=   5.9s\n",
            "[CV] END max_depth=10, min_samples_leaf=10, min_samples_split=10; total time=   6.0s\n",
            "[CV] END max_depth=10, min_samples_leaf=10, min_samples_split=10; total time=   5.9s\n",
            "[CV] END max_depth=10, min_samples_leaf=10, min_samples_split=20; total time=   5.9s\n",
            "[CV] END max_depth=10, min_samples_leaf=10, min_samples_split=20; total time=   5.8s\n",
            "[CV] END max_depth=10, min_samples_leaf=10, min_samples_split=20; total time=   5.8s\n",
            "[CV] END max_depth=10, min_samples_leaf=10, min_samples_split=20; total time=   5.9s\n",
            "[CV] END max_depth=10, min_samples_leaf=10, min_samples_split=20; total time=   5.9s\n",
            "[CV] END max_depth=10, min_samples_leaf=10, min_samples_split=30; total time=   6.0s\n",
            "[CV] END max_depth=10, min_samples_leaf=10, min_samples_split=30; total time=   6.2s\n",
            "[CV] END max_depth=10, min_samples_leaf=10, min_samples_split=30; total time=   6.1s\n",
            "[CV] END max_depth=10, min_samples_leaf=10, min_samples_split=30; total time=   6.0s\n",
            "[CV] END max_depth=10, min_samples_leaf=10, min_samples_split=30; total time=   6.0s\n",
            "[CV] END max_depth=10, min_samples_leaf=20, min_samples_split=10; total time=   6.1s\n",
            "[CV] END max_depth=10, min_samples_leaf=20, min_samples_split=10; total time=   6.1s\n",
            "[CV] END max_depth=10, min_samples_leaf=20, min_samples_split=10; total time=   6.2s\n",
            "[CV] END max_depth=10, min_samples_leaf=20, min_samples_split=10; total time=   6.1s\n",
            "[CV] END max_depth=10, min_samples_leaf=20, min_samples_split=10; total time=   6.0s\n",
            "[CV] END max_depth=10, min_samples_leaf=20, min_samples_split=20; total time=   6.0s\n",
            "[CV] END max_depth=10, min_samples_leaf=20, min_samples_split=20; total time=   6.1s\n",
            "[CV] END max_depth=10, min_samples_leaf=20, min_samples_split=20; total time=   5.9s\n",
            "[CV] END max_depth=10, min_samples_leaf=20, min_samples_split=20; total time=   5.7s\n",
            "[CV] END max_depth=10, min_samples_leaf=20, min_samples_split=20; total time=   4.2s\n",
            "[CV] END max_depth=10, min_samples_leaf=20, min_samples_split=30; total time=   3.9s\n",
            "[CV] END max_depth=10, min_samples_leaf=20, min_samples_split=30; total time=   3.8s\n",
            "[CV] END max_depth=10, min_samples_leaf=20, min_samples_split=30; total time=   3.9s\n",
            "[CV] END max_depth=10, min_samples_leaf=20, min_samples_split=30; total time=   3.9s\n",
            "[CV] END max_depth=10, min_samples_leaf=20, min_samples_split=30; total time=   3.9s\n",
            "[CV] END max_depth=10, min_samples_leaf=30, min_samples_split=10; total time=   3.8s\n",
            "[CV] END max_depth=10, min_samples_leaf=30, min_samples_split=10; total time=   3.9s\n",
            "[CV] END max_depth=10, min_samples_leaf=30, min_samples_split=10; total time=   3.9s\n",
            "[CV] END max_depth=10, min_samples_leaf=30, min_samples_split=10; total time=   3.9s\n",
            "[CV] END max_depth=10, min_samples_leaf=30, min_samples_split=10; total time=   3.8s\n",
            "[CV] END max_depth=10, min_samples_leaf=30, min_samples_split=20; total time=   3.9s\n",
            "[CV] END max_depth=10, min_samples_leaf=30, min_samples_split=20; total time=   3.9s\n",
            "[CV] END max_depth=10, min_samples_leaf=30, min_samples_split=20; total time=   3.9s\n",
            "[CV] END max_depth=10, min_samples_leaf=30, min_samples_split=20; total time=   3.9s\n",
            "[CV] END max_depth=10, min_samples_leaf=30, min_samples_split=20; total time=   3.9s\n",
            "[CV] END max_depth=10, min_samples_leaf=30, min_samples_split=30; total time=   3.9s\n",
            "[CV] END max_depth=10, min_samples_leaf=30, min_samples_split=30; total time=   3.9s\n",
            "[CV] END max_depth=10, min_samples_leaf=30, min_samples_split=30; total time=   3.9s\n",
            "[CV] END max_depth=10, min_samples_leaf=30, min_samples_split=30; total time=   3.9s\n",
            "[CV] END max_depth=10, min_samples_leaf=30, min_samples_split=30; total time=   3.9s\n",
            "[CV] END max_depth=20, min_samples_leaf=10, min_samples_split=10; total time=   6.2s\n",
            "[CV] END max_depth=20, min_samples_leaf=10, min_samples_split=10; total time=   6.2s\n",
            "[CV] END max_depth=20, min_samples_leaf=10, min_samples_split=10; total time=   6.2s\n",
            "[CV] END max_depth=20, min_samples_leaf=10, min_samples_split=10; total time=   6.2s\n",
            "[CV] END max_depth=20, min_samples_leaf=10, min_samples_split=10; total time=   6.2s\n",
            "[CV] END max_depth=20, min_samples_leaf=10, min_samples_split=20; total time=   6.3s\n",
            "[CV] END max_depth=20, min_samples_leaf=10, min_samples_split=20; total time=   6.3s\n",
            "[CV] END max_depth=20, min_samples_leaf=10, min_samples_split=20; total time=   6.3s\n",
            "[CV] END max_depth=20, min_samples_leaf=10, min_samples_split=20; total time=   6.2s\n",
            "[CV] END max_depth=20, min_samples_leaf=10, min_samples_split=20; total time=   6.2s\n",
            "[CV] END max_depth=20, min_samples_leaf=10, min_samples_split=30; total time=   6.2s\n",
            "[CV] END max_depth=20, min_samples_leaf=10, min_samples_split=30; total time=   6.2s\n",
            "[CV] END max_depth=20, min_samples_leaf=10, min_samples_split=30; total time=   6.1s\n",
            "[CV] END max_depth=20, min_samples_leaf=10, min_samples_split=30; total time=   6.2s\n",
            "[CV] END max_depth=20, min_samples_leaf=10, min_samples_split=30; total time=   6.1s\n",
            "[CV] END max_depth=20, min_samples_leaf=20, min_samples_split=10; total time=   6.0s\n",
            "[CV] END max_depth=20, min_samples_leaf=20, min_samples_split=10; total time=   6.0s\n",
            "[CV] END max_depth=20, min_samples_leaf=20, min_samples_split=10; total time=   6.0s\n",
            "[CV] END max_depth=20, min_samples_leaf=20, min_samples_split=10; total time=   6.1s\n",
            "[CV] END max_depth=20, min_samples_leaf=20, min_samples_split=10; total time=   6.0s\n",
            "[CV] END max_depth=20, min_samples_leaf=20, min_samples_split=20; total time=   6.1s\n",
            "[CV] END max_depth=20, min_samples_leaf=20, min_samples_split=20; total time=   6.0s\n",
            "[CV] END max_depth=20, min_samples_leaf=20, min_samples_split=20; total time=   6.0s\n",
            "[CV] END max_depth=20, min_samples_leaf=20, min_samples_split=20; total time=   6.0s\n",
            "[CV] END max_depth=20, min_samples_leaf=20, min_samples_split=20; total time=   6.0s\n",
            "[CV] END max_depth=20, min_samples_leaf=20, min_samples_split=30; total time=   6.0s\n",
            "[CV] END max_depth=20, min_samples_leaf=20, min_samples_split=30; total time=   6.0s\n",
            "[CV] END max_depth=20, min_samples_leaf=20, min_samples_split=30; total time=   6.0s\n",
            "[CV] END max_depth=20, min_samples_leaf=20, min_samples_split=30; total time=   6.0s\n",
            "[CV] END max_depth=20, min_samples_leaf=20, min_samples_split=30; total time=   6.0s\n",
            "[CV] END max_depth=20, min_samples_leaf=30, min_samples_split=10; total time=   5.9s\n",
            "[CV] END max_depth=20, min_samples_leaf=30, min_samples_split=10; total time=   5.9s\n",
            "[CV] END max_depth=20, min_samples_leaf=30, min_samples_split=10; total time=   5.9s\n",
            "[CV] END max_depth=20, min_samples_leaf=30, min_samples_split=10; total time=   5.9s\n",
            "[CV] END max_depth=20, min_samples_leaf=30, min_samples_split=10; total time=   5.9s\n",
            "[CV] END max_depth=20, min_samples_leaf=30, min_samples_split=20; total time=   5.9s\n",
            "[CV] END max_depth=20, min_samples_leaf=30, min_samples_split=20; total time=   5.9s\n",
            "[CV] END max_depth=20, min_samples_leaf=30, min_samples_split=20; total time=   5.9s\n",
            "[CV] END max_depth=20, min_samples_leaf=30, min_samples_split=20; total time=   5.8s\n",
            "[CV] END max_depth=20, min_samples_leaf=30, min_samples_split=20; total time=   5.8s\n",
            "[CV] END max_depth=20, min_samples_leaf=30, min_samples_split=30; total time=   5.8s\n",
            "[CV] END max_depth=20, min_samples_leaf=30, min_samples_split=30; total time=   5.9s\n",
            "[CV] END max_depth=20, min_samples_leaf=30, min_samples_split=30; total time=   5.9s\n",
            "[CV] END max_depth=20, min_samples_leaf=30, min_samples_split=30; total time=   5.9s\n",
            "[CV] END max_depth=20, min_samples_leaf=30, min_samples_split=30; total time=   5.9s\n",
            "[CV] END max_depth=40, min_samples_leaf=10, min_samples_split=10; total time=   7.0s\n",
            "[CV] END max_depth=40, min_samples_leaf=10, min_samples_split=10; total time=   6.6s\n",
            "[CV] END max_depth=40, min_samples_leaf=10, min_samples_split=10; total time=   6.6s\n",
            "[CV] END max_depth=40, min_samples_leaf=10, min_samples_split=10; total time=   6.6s\n",
            "[CV] END max_depth=40, min_samples_leaf=10, min_samples_split=10; total time=   6.6s\n",
            "[CV] END max_depth=40, min_samples_leaf=10, min_samples_split=20; total time=   6.6s\n",
            "[CV] END max_depth=40, min_samples_leaf=10, min_samples_split=20; total time=   6.5s\n",
            "[CV] END max_depth=40, min_samples_leaf=10, min_samples_split=20; total time=   6.5s\n",
            "[CV] END max_depth=40, min_samples_leaf=10, min_samples_split=20; total time=   6.6s\n",
            "[CV] END max_depth=40, min_samples_leaf=10, min_samples_split=20; total time=   6.6s\n",
            "[CV] END max_depth=40, min_samples_leaf=10, min_samples_split=30; total time=   6.5s\n",
            "[CV] END max_depth=40, min_samples_leaf=10, min_samples_split=30; total time=   6.5s\n",
            "[CV] END max_depth=40, min_samples_leaf=10, min_samples_split=30; total time=   6.5s\n",
            "[CV] END max_depth=40, min_samples_leaf=10, min_samples_split=30; total time=   6.5s\n",
            "[CV] END max_depth=40, min_samples_leaf=10, min_samples_split=30; total time=   6.5s\n",
            "[CV] END max_depth=40, min_samples_leaf=20, min_samples_split=10; total time=   6.2s\n",
            "[CV] END max_depth=40, min_samples_leaf=20, min_samples_split=10; total time=   6.2s\n",
            "[CV] END max_depth=40, min_samples_leaf=20, min_samples_split=10; total time=   6.2s\n",
            "[CV] END max_depth=40, min_samples_leaf=20, min_samples_split=10; total time=   6.2s\n",
            "[CV] END max_depth=40, min_samples_leaf=20, min_samples_split=10; total time=   6.1s\n",
            "[CV] END max_depth=40, min_samples_leaf=20, min_samples_split=20; total time=   6.2s\n",
            "[CV] END max_depth=40, min_samples_leaf=20, min_samples_split=20; total time=   6.1s\n",
            "[CV] END max_depth=40, min_samples_leaf=20, min_samples_split=20; total time=   6.2s\n",
            "[CV] END max_depth=40, min_samples_leaf=20, min_samples_split=20; total time=   6.1s\n",
            "[CV] END max_depth=40, min_samples_leaf=20, min_samples_split=20; total time=   6.2s\n",
            "[CV] END max_depth=40, min_samples_leaf=20, min_samples_split=30; total time=   6.2s\n",
            "[CV] END max_depth=40, min_samples_leaf=20, min_samples_split=30; total time=   6.2s\n",
            "[CV] END max_depth=40, min_samples_leaf=20, min_samples_split=30; total time=   6.2s\n",
            "[CV] END max_depth=40, min_samples_leaf=20, min_samples_split=30; total time=   6.3s\n",
            "[CV] END max_depth=40, min_samples_leaf=20, min_samples_split=30; total time=   6.3s\n",
            "[CV] END max_depth=40, min_samples_leaf=30, min_samples_split=10; total time=   6.1s\n",
            "[CV] END max_depth=40, min_samples_leaf=30, min_samples_split=10; total time=   6.1s\n",
            "[CV] END max_depth=40, min_samples_leaf=30, min_samples_split=10; total time=   6.0s\n",
            "[CV] END max_depth=40, min_samples_leaf=30, min_samples_split=10; total time=   6.0s\n",
            "[CV] END max_depth=40, min_samples_leaf=30, min_samples_split=10; total time=   6.1s\n",
            "[CV] END max_depth=40, min_samples_leaf=30, min_samples_split=20; total time=   6.1s\n",
            "[CV] END max_depth=40, min_samples_leaf=30, min_samples_split=20; total time=   6.1s\n",
            "[CV] END max_depth=40, min_samples_leaf=30, min_samples_split=20; total time=   6.0s\n",
            "[CV] END max_depth=40, min_samples_leaf=30, min_samples_split=20; total time=   6.1s\n",
            "[CV] END max_depth=40, min_samples_leaf=30, min_samples_split=20; total time=   6.1s\n",
            "[CV] END max_depth=40, min_samples_leaf=30, min_samples_split=30; total time=   6.1s\n",
            "[CV] END max_depth=40, min_samples_leaf=30, min_samples_split=30; total time=   6.0s\n",
            "[CV] END max_depth=40, min_samples_leaf=30, min_samples_split=30; total time=   6.1s\n",
            "[CV] END max_depth=40, min_samples_leaf=30, min_samples_split=30; total time=   6.0s\n",
            "[CV] END max_depth=40, min_samples_leaf=30, min_samples_split=30; total time=   6.1s\n"
          ]
        },
        {
          "output_type": "execute_result",
          "data": {
            "text/plain": [
              "GridSearchCV(cv=5, estimator=DecisionTreeRegressor(),\n",
              "             param_grid={'max_depth': [5, 10, 20, 40],\n",
              "                         'min_samples_leaf': [10, 20, 30],\n",
              "                         'min_samples_split': [10, 20, 30]},\n",
              "             scoring='r2', verbose=2)"
            ]
          },
          "metadata": {},
          "execution_count": 138
        }
      ],
      "source": [
        "dt = DecisionTreeRegressor()\n",
        "\n",
        "# Grid search\n",
        "dt_grid = GridSearchCV(estimator=dt, param_grid = param_dict_dt, cv = 5, verbose=2, scoring='r2')\n",
        "\n",
        "dt_grid.fit(X_train,y_train)"
      ]
    },
    {
      "cell_type": "code",
      "execution_count": null,
      "metadata": {
        "colab": {
          "base_uri": "https://localhost:8080/"
        },
        "id": "plT_JuORhWv1",
        "outputId": "64ac385b-c517-4445-ce69-b456e863f97c"
      },
      "outputs": [
        {
          "output_type": "stream",
          "name": "stdout",
          "text": [
            "The best fit alpha value is found out to be : {'max_depth': 20, 'min_samples_leaf': 30, 'min_samples_split': 10}\n",
            "The R2 score using the same alpha is : 0.6926089424368133\n"
          ]
        }
      ],
      "source": [
        "print('The best fit alpha value is found out to be :' ,dt_grid.best_params_)\n",
        "print('The R2 score using the same alpha is :', dt_grid.best_score_)"
      ]
    },
    {
      "cell_type": "markdown",
      "metadata": {
        "id": "9VdfG84JSmyu"
      },
      "source": [
        "**The best parameters for the Decision Tree Regression which we already tested before to save time when running it again.**\n"
      ]
    },
    {
      "cell_type": "code",
      "execution_count": null,
      "metadata": {
        "id": "zuXo1yBM8Nha"
      },
      "outputs": [],
      "source": [
        "y_pred_dt_train=dt_grid.predict(X_train)\n",
        "y_pred_dt_test=dt_grid.predict(X_test)"
      ]
    },
    {
      "cell_type": "markdown",
      "metadata": {
        "id": "9yAIZdTi8miM"
      },
      "source": [
        "#<b>Model Evaluation"
      ]
    },
    {
      "cell_type": "code",
      "execution_count": null,
      "metadata": {
        "colab": {
          "base_uri": "https://localhost:8080/"
        },
        "id": "9xFcDY0i8NgR",
        "outputId": "0cfd36c3-bf47-41e2-d85c-1764a70dabad"
      },
      "outputs": [
        {
          "output_type": "stream",
          "name": "stdout",
          "text": [
            "Train MSE : 84424.267544642\n",
            "Train R2 : 0.7439132415029737\n",
            "Train Adjusted R2 :  0.743910943366061\n"
          ]
        }
      ],
      "source": [
        "dt_train_mse  = mean_squared_error(y_train, y_pred_dt_train)\n",
        "print(\"Train MSE :\" , dt_train_mse)\n",
        "\n",
        "dt_train_r2 = r2_score(y_train, y_pred_dt_train)\n",
        "print(\"Train R2 :\" ,dt_train_r2)\n",
        "\n",
        "dt_train_r2_= 1-(1-r2_score(y_train, y_pred_dt_train))*((X_train.shape[0]-1)/(X_train.shape[0]-X_train.shape[1]-1))\n",
        "print(\"Train Adjusted R2 : \", dt_train_r2_)"
      ]
    },
    {
      "cell_type": "code",
      "execution_count": null,
      "metadata": {
        "colab": {
          "base_uri": "https://localhost:8080/"
        },
        "id": "AHceMLyk8Ne5",
        "outputId": "e87b6e0b-9226-4e1a-b0f2-a895e440c990"
      },
      "outputs": [
        {
          "output_type": "stream",
          "name": "stdout",
          "text": [
            "Test MSE : 101294.60603977059\n",
            "Test R2 : 0.693911895031659\n",
            "Test Adjusted R2 :  0.6939054856298494\n"
          ]
        }
      ],
      "source": [
        "dt_test_mse  = mean_squared_error(y_test, y_pred_dt_test)\n",
        "print(\"Test MSE :\" , dt_test_mse)\n",
        "\n",
        "dt_test_r2 = r2_score(y_test, y_pred_dt_test)\n",
        "print(\"Test R2 :\" ,dt_test_r2)\n",
        "\n",
        "dt_test_r2_= 1-(1-r2_score(y_test, y_pred_dt_test))*((X_test.shape[0]-1)/(X_test.shape[0]-X_test.shape[1]-1))\n",
        "print(\"Test Adjusted R2 : \", dt_test_r2_)"
      ]
    },
    {
      "cell_type": "code",
      "execution_count": null,
      "metadata": {
        "colab": {
          "base_uri": "https://localhost:8080/",
          "height": 341
        },
        "id": "ueRkFP338NbC",
        "outputId": "e991d67c-340b-4748-b98c-0eaa62d0b17c"
      },
      "outputs": [
        {
          "output_type": "display_data",
          "data": {
            "text/plain": [
              "<Figure size 720x360 with 1 Axes>"
            ],
            "image/png": "[encoded data removed]"
          },
          "metadata": {
            "needs_background": "light"
          }
        }
      ],
      "source": [
        "plt.figure(figsize= (10,5))\n",
        "c= [i for i in range(0, len(y_test))]\n",
        "plt.plot(c, y_test-y_pred_dt_test, color='blue', linewidth=2.5, linestyle='-')\n",
        "plt.title('Error Term', fontsize=20)\n",
        "plt.show()"
      ]
    },
    {
      "cell_type": "code",
      "execution_count": null,
      "metadata": {
        "colab": {
          "base_uri": "https://localhost:8080/",
          "height": 341
        },
        "id": "2Yn1kDdv8NcW",
        "outputId": "d2f9607c-d86f-4181-a06b-31925b79df78"
      },
      "outputs": [
        {
          "output_type": "display_data",
          "data": {
            "text/plain": [
              "<Figure size 720x360 with 1 Axes>"
            ],
            "image/png": "[encoded data removed]"
          },
          "metadata": {
            "needs_background": "light"
          }
        }
      ],
      "source": [
        "#Actual vs Prediction\n",
        "plt.figure(figsize= (10,5))\n",
        "c= [i for i in range(0, len(y_test))]\n",
        "plt.plot(c, y_test, color='blue', linewidth=2.5, linestyle='-')\n",
        "plt.plot(c, y_pred_dt_test, color='red', linewidth=2.5, linestyle='-')\n",
        "plt.title('Actual vs Predicted for Test Data', fontsize=20)\n",
        "plt.legend([\"Actual\", \"Predicted\"])\n",
        "plt.show()"
      ]
    },
    {
      "cell_type": "code",
      "execution_count": null,
      "metadata": {
        "colab": {
          "base_uri": "https://localhost:8080/",
          "height": 356
        },
        "id": "2mCXFemh8NYg",
        "outputId": "3acbc58e-4a33-4f37-e8f7-4ea8c2d8a121"
      },
      "outputs": [
        {
          "output_type": "display_data",
          "data": {
            "text/plain": [
              "<Figure size 720x360 with 1 Axes>"
            ],
            "image/png": "[encoded data removed]"
          },
          "metadata": {
            "needs_background": "light"
          }
        }
      ],
      "source": [
        "plt.figure(figsize=(10,5))\n",
        "sns.distplot(y_test - y_pred_dt_test )\n",
        "plt.title('Error Term', fontsize=20)\n",
        "plt.show()"
      ]
    },
    {
      "cell_type": "markdown",
      "metadata": {
        "id": "C0LB5IIl9HUy"
      },
      "source": [
        "The decision tree with the selected hyperparameters does improve the predictions of the model considerably. It still isn't ideal but it is certainly much better than Linear models."
      ]
    },
    {
      "cell_type": "code",
      "source": [
        "from sklearn.ensemble import RandomForestRegressor\n",
        "from sklearn.model_selection import RandomizedSearchCV"
      ],
      "metadata": {
        "id": "wAiMhe93wTHq"
      },
      "execution_count": null,
      "outputs": []
    },
    {
      "cell_type": "code",
      "source": [
        "# Create the data of independent variables\n",
        "X = df_corr[independent_variables]\n",
        "\n",
        "# Create the dependent variable data\n",
        "y = df_corr['trip_duration']"
      ],
      "metadata": {
        "id": "K-xozxZKM9j4"
      },
      "execution_count": null,
      "outputs": []
    },
    {
      "cell_type": "code",
      "source": [
        "#Importing RFE and Linear Regression \n",
        "from sklearn.model_selection import train_test_split\n",
        "\n",
        "# Splitting the dataset into the Training set and Test set\n",
        "X_train, X_test, y_train, y_test = train_test_split(X, y, test_size=0.3, random_state=0)"
      ],
      "metadata": {
        "id": "Fno17ZbdNUYX"
      },
      "execution_count": null,
      "outputs": []
    },
    {
      "cell_type": "code",
      "execution_count": null,
      "metadata": {
        "id": "783PWDXOxWb4",
        "colab": {
          "base_uri": "https://localhost:8080/"
        },
        "outputId": "68236701-c017-4e16-bf72-9f0509383a24"
      },
      "outputs": [
        {
          "output_type": "execute_result",
          "data": {
            "text/plain": [
              "RandomForestRegressor(n_estimators=20, n_jobs=-1)"
            ]
          },
          "metadata": {},
          "execution_count": 149
        }
      ],
      "source": [
        "# Fitting Random Forest Regression to the dataset\n",
        "# create regressor object\n",
        "# regressor = RandomForestRegressor(n_estimators = 100, random_state = 0)\n",
        "rforest = RandomForestRegressor(n_estimators = 20, n_jobs = -1)\n",
        "# fit the regressor with x and y data\n",
        "rforest.fit(X_train, y_train) "
      ]
    },
    {
      "cell_type": "code",
      "source": [
        "y_pred_dt_train = rforest.predict(X_train)\n",
        "y_pred_dt_test = rforest.predict(X_test)"
      ],
      "metadata": {
        "id": "G6xO66zimLZ1"
      },
      "execution_count": null,
      "outputs": []
    },
    {
      "cell_type": "code",
      "source": [
        "dt_train_mse  = mean_squared_error(y_train, y_pred_dt_train)\n",
        "print(\"Train MSE :\" , dt_train_mse)\n",
        "\n",
        "dt_train_r2 = r2_score(y_train, y_pred_dt_train)\n",
        "print(\"Train R2 :\" ,dt_train_r2)\n",
        "\n",
        "dt_train_r2_= 1-(1-r2_score(y_train, y_pred_dt_train))*((X_train.shape[0]-1)/(X_train.shape[0]-X_train.shape[1]-1))\n",
        "print(\"Train Adjusted R2 : \", dt_train_r2_)"
      ],
      "metadata": {
        "colab": {
          "base_uri": "https://localhost:8080/"
        },
        "id": "2Q-GkHxwmLfh",
        "outputId": "6165dfc5-eca7-4630-d47a-5027fa4a747f"
      },
      "execution_count": null,
      "outputs": [
        {
          "output_type": "stream",
          "name": "stdout",
          "text": [
            "Train MSE : 15719.509516460244\n",
            "Train R2 : 0.9523175225049502\n",
            "Train Adjusted R2 :  0.9523170945997267\n"
          ]
        }
      ]
    },
    {
      "cell_type": "code",
      "source": [
        "dt_test_mse  = mean_squared_error(y_test, y_pred_dt_test)\n",
        "print(\"Test MSE :\" , dt_test_mse)\n",
        "\n",
        "dt_test_r2 = r2_score(y_test, y_pred_dt_test)\n",
        "print(\"Test R2 :\" ,dt_test_r2)\n",
        "\n",
        "dt_test_r2_= 1-(1-r2_score(y_test, y_pred_dt_test))*((X_test.shape[0]-1)/(X_test.shape[0]-X_test.shape[1]-1))\n",
        "print(\"Test Adjusted R2 : \", dt_test_r2_)"
      ],
      "metadata": {
        "colab": {
          "base_uri": "https://localhost:8080/"
        },
        "id": "-RAaz4MMmLkD",
        "outputId": "d74f19e1-c055-499e-b131-f793e1e88102"
      },
      "execution_count": null,
      "outputs": [
        {
          "output_type": "stream",
          "name": "stdout",
          "text": [
            "Test MSE : 99994.32053030956\n",
            "Test R2 : 0.6978410472646264\n",
            "Test Adjusted R2 :  0.6978347201381978\n"
          ]
        }
      ]
    },
    {
      "cell_type": "code",
      "source": [
        "plt.figure(figsize= (10,5))\n",
        "c= [i for i in range(0, len(y_test))]\n",
        "plt.plot(c, y_test-y_pred_dt_test, color='blue', linewidth=2.5, linestyle='-')\n",
        "plt.title('Error Term', fontsize=20)\n",
        "plt.show()"
      ],
      "metadata": {
        "colab": {
          "base_uri": "https://localhost:8080/",
          "height": 341
        },
        "id": "PvDWOglamLoP",
        "outputId": "40f34c4a-c93e-49dd-c57c-edea23d11d22"
      },
      "execution_count": null,
      "outputs": [
        {
          "output_type": "display_data",
          "data": {
            "text/plain": [
              "<Figure size 720x360 with 1 Axes>"
            ],
            "image/png": "[encoded data removed]"
          },
          "metadata": {
            "needs_background": "light"
          }
        }
      ]
    },
    {
      "cell_type": "code",
      "source": [
        "#Actual vs Prediction\n",
        "plt.figure(figsize= (10,5))\n",
        "c= [i for i in range(0, len(y_test))]\n",
        "plt.plot(c, y_test, color='blue', linewidth=2.5, linestyle='-')\n",
        "plt.plot(c, y_pred_dt_test, color='red', linewidth=2.5, linestyle='-')\n",
        "plt.title('Actual vs Predicted for Test Data', fontsize=20)\n",
        "plt.legend([\"Actual\", \"Predicted\"])\n",
        "plt.show()"
      ],
      "metadata": {
        "colab": {
          "base_uri": "https://localhost:8080/",
          "height": 341
        },
        "id": "qMMikCDYmLtA",
        "outputId": "442f0fb4-a035-426e-cd3a-31e6e0c5f4ec"
      },
      "execution_count": null,
      "outputs": [
        {
          "output_type": "display_data",
          "data": {
            "text/plain": [
              "<Figure size 720x360 with 1 Axes>"
            ],
            "image/png": "[encoded data removed]"
          },
          "metadata": {
            "needs_background": "light"
          }
        }
      ]
    },
    {
      "cell_type": "code",
      "source": [
        "plt.figure(figsize=(10,5))\n",
        "sns.distplot(y_test - y_pred_dt_test )\n",
        "plt.title('Error Term', fontsize=20)\n",
        "plt.show()"
      ],
      "metadata": {
        "colab": {
          "base_uri": "https://localhost:8080/",
          "height": 356
        },
        "id": "Nzw0fFgtnvi2",
        "outputId": "a7ac5328-021f-4394-909b-35ddf927d49a"
      },
      "execution_count": null,
      "outputs": [
        {
          "output_type": "display_data",
          "data": {
            "text/plain": [
              "<Figure size 720x360 with 1 Axes>"
            ],
            "image/png": "[encoded data removed]"
          },
          "metadata": {
            "needs_background": "light"
          }
        }
      ]
    },
    {
      "cell_type": "code",
      "source": [
        "# def __init__(n_estimators=100, *, criterion='squared_error', \n",
        "#              max_depth=None, min_samples_split=2, min_samples_leaf=1,\n",
        "#              min_weight_fraction_leaf=0.0, max_features='auto',\n",
        "#              max_leaf_nodes=None, min_impurity_decrease=0.0, \n",
        "#              bootstrap=True, oob_score=False, n_jobs=None, \n",
        "#              random_state=None, verbose=0, warm_start=False, \n",
        "#              ccp_alpha=0.0, max_samples=None)"
      ],
      "metadata": {
        "id": "gp1nue1yqZnD"
      },
      "execution_count": null,
      "outputs": []
    },
    {
      "cell_type": "code",
      "execution_count": null,
      "metadata": {
        "id": "IyZoAfB_PWrc"
      },
      "outputs": [],
      "source": [
        "# Number of trees in random forest\n",
        "n_estimators = [int(x) for x in np.linspace(start = 100, stop = 500, num = 5)]\n",
        "# Number of features to consider at every split\n",
        "max_features = ['auto', 'sqrt']\n",
        "# Maximum number of levels in tree\n",
        "max_depth = [5,10,15,20]\n",
        "# Minimum number of samples required to split a node\n",
        "min_samples_split = [2, 5, 10, 15]\n",
        "# Minimum number of samples required at each leaf node\n",
        "min_samples_leaf = [2, 5, 10]\n",
        "# Method of selecting samples for training each tree\n",
        "# Create the random grid\n",
        "random_grid = {'n_estimators': n_estimators,\n",
        "               'max_features': max_features,\n",
        "               'max_depth': max_depth,\n",
        "               'min_samples_split': min_samples_split,\n",
        "               'min_samples_leaf': min_samples_leaf\n",
        "              }\n"
      ]
    },
    {
      "cell_type": "code",
      "execution_count": null,
      "metadata": {
        "id": "iX8XfDjNLAZN",
        "colab": {
          "base_uri": "https://localhost:8080/"
        },
        "outputId": "cb698d06-3710-490b-cda4-eab848e09a39"
      },
      "outputs": [
        {
          "output_type": "stream",
          "name": "stdout",
          "text": [
            "Fitting 3 folds for each of 10 candidates, totalling 30 fits\n"
          ]
        },
        {
          "output_type": "execute_result",
          "data": {
            "text/plain": [
              "RandomizedSearchCV(cv=3, estimator=RandomForestRegressor(), n_jobs=-1,\n",
              "                   param_distributions={'max_depth': [5, 10, 15, 20],\n",
              "                                        'max_features': ['auto', 'sqrt'],\n",
              "                                        'min_samples_leaf': [2, 5, 10],\n",
              "                                        'min_samples_split': [2, 5, 10, 15],\n",
              "                                        'n_estimators': [100, 200, 300, 400,\n",
              "                                                         500]},\n",
              "                   random_state=0, verbose=2)"
            ]
          },
          "metadata": {},
          "execution_count": 158
        }
      ],
      "source": [
        "rf_reg = RandomForestRegressor()\n",
        "\n",
        "rf_random = RandomizedSearchCV(estimator = rf_reg, param_distributions = random_grid, n_iter = 10, cv = 3, verbose=2, random_state= 0, n_jobs = -1)\n",
        "\n",
        "rf_random.fit(X_train,y_train)"
      ]
    },
    {
      "cell_type": "code",
      "execution_count": null,
      "metadata": {
        "id": "gP1evpwMOgxw",
        "colab": {
          "base_uri": "https://localhost:8080/"
        },
        "outputId": "319c2a98-389c-4dfb-8dd4-f968d25a86ff"
      },
      "outputs": [
        {
          "output_type": "execute_result",
          "data": {
            "text/plain": [
              "{'max_depth': 20,\n",
              " 'max_features': 'auto',\n",
              " 'min_samples_leaf': 5,\n",
              " 'min_samples_split': 15,\n",
              " 'n_estimators': 500}"
            ]
          },
          "metadata": {},
          "execution_count": 159
        }
      ],
      "source": [
        "rf_random.best_params_"
      ]
    },
    {
      "cell_type": "code",
      "execution_count": null,
      "metadata": {
        "id": "c82vFQJK2mwV"
      },
      "outputs": [],
      "source": [
        "y_pred_dt_train = rf_random.predict(X_train)\n",
        "y_pred_dt_test = rf_random.predict(X_test)"
      ]
    },
    {
      "cell_type": "code",
      "source": [
        "dt_train_mse  = mean_squared_error(y_train, y_pred_dt_train)\n",
        "print(\"Train MSE :\" , dt_train_mse)\n",
        "\n",
        "dt_train_r2 = r2_score(y_train, y_pred_dt_train)\n",
        "print(\"Train R2 :\" ,dt_train_r2)\n",
        "\n",
        "dt_train_r2_= 1-(1-r2_score(y_train, y_pred_dt_train))*((X_train.shape[0]-1)/(X_train.shape[0]-X_train.shape[1]-1))\n",
        "print(\"Train Adjusted R2 : \", dt_train_r2_)"
      ],
      "metadata": {
        "id": "WP3r2qeEsCrs",
        "colab": {
          "base_uri": "https://localhost:8080/"
        },
        "outputId": "d6352ece-ce5c-4595-f8ff-a859a2bbfaf3"
      },
      "execution_count": null,
      "outputs": [
        {
          "output_type": "stream",
          "name": "stdout",
          "text": [
            "Train MSE : 65256.55786794846\n",
            "Train R2 : 0.8020552518712717\n",
            "Train Adjusted R2 :  0.8020534755040163\n"
          ]
        }
      ]
    },
    {
      "cell_type": "code",
      "source": [
        "dt_test_mse  = mean_squared_error(y_test, y_pred_dt_test)\n",
        "print(\"Test MSE :\" , dt_test_mse)\n",
        "\n",
        "dt_test_r2 = r2_score(y_test, y_pred_dt_test)\n",
        "print(\"Test R2 :\" ,dt_test_r2)\n",
        "\n",
        "dt_test_r2_= 1-(1-r2_score(y_test, y_pred_dt_test))*((X_test.shape[0]-1)/(X_test.shape[0]-X_test.shape[1]-1))\n",
        "print(\"Test Adjusted R2 : \", dt_test_r2_)"
      ],
      "metadata": {
        "id": "geXIv8hDsC27",
        "colab": {
          "base_uri": "https://localhost:8080/"
        },
        "outputId": "919af718-7dad-4d8b-fbb6-ac6f95a87239"
      },
      "execution_count": null,
      "outputs": [
        {
          "output_type": "stream",
          "name": "stdout",
          "text": [
            "Test MSE : 92803.35345074501\n",
            "Test R2 : 0.7195704321976153\n",
            "Test Adjusted R2 :  0.7195645600786074\n"
          ]
        }
      ]
    },
    {
      "cell_type": "code",
      "source": [
        "plt.figure(figsize= (10,5))\n",
        "c= [i for i in range(0, len(y_test))]\n",
        "plt.plot(c, y_test-y_pred_dt_test, color='blue', linewidth=2.5, linestyle='-')\n",
        "plt.title('Error Term', fontsize=20)\n",
        "plt.show()"
      ],
      "metadata": {
        "id": "HigIRGunsC8U",
        "colab": {
          "base_uri": "https://localhost:8080/",
          "height": 341
        },
        "outputId": "b358e27e-55f0-496f-eb1e-7b380df604e6"
      },
      "execution_count": null,
      "outputs": [
        {
          "output_type": "display_data",
          "data": {
            "text/plain": [
              "<Figure size 720x360 with 1 Axes>"
            ],
            "image/png": "[encoded data removed]"
          },
          "metadata": {
            "needs_background": "light"
          }
        }
      ]
    },
    {
      "cell_type": "code",
      "source": [
        "#Actual vs Prediction\n",
        "plt.figure(figsize= (10,5))\n",
        "c= [i for i in range(0, len(y_test))]\n",
        "plt.plot(c, y_test, color='blue', linewidth=2.5, linestyle='-')\n",
        "plt.plot(c, y_pred_dt_test, color='red', linewidth=2.5, linestyle='-')\n",
        "plt.title('Actual vs Predicted for Test Data', fontsize=20)\n",
        "plt.legend([\"Actual\", \"Predicted\"])\n",
        "plt.show()"
      ],
      "metadata": {
        "id": "eShuNxG6sDA7",
        "colab": {
          "base_uri": "https://localhost:8080/",
          "height": 341
        },
        "outputId": "b4e7ae42-d4e7-433c-fe0e-c8746fe96112"
      },
      "execution_count": null,
      "outputs": [
        {
          "output_type": "display_data",
          "data": {
            "text/plain": [
              "<Figure size 720x360 with 1 Axes>"
            ],
            "image/png": "[encoded data removed]"
          },
          "metadata": {
            "needs_background": "light"
          }
        }
      ]
    },
    {
      "cell_type": "code",
      "source": [
        "plt.figure(figsize=(10,5))\n",
        "sns.distplot(y_test - y_pred_dt_test )\n",
        "plt.title('Error Term', fontsize=20)\n",
        "plt.show()"
      ],
      "metadata": {
        "id": "ILmZlOPmsVWf",
        "colab": {
          "base_uri": "https://localhost:8080/",
          "height": 356
        },
        "outputId": "4ac7b459-20ef-4f8a-e350-afb0bc506a85"
      },
      "execution_count": null,
      "outputs": [
        {
          "output_type": "display_data",
          "data": {
            "text/plain": [
              "<Figure size 720x360 with 1 Axes>"
            ],
            "image/png": "[encoded data removed]"
          },
          "metadata": {
            "needs_background": "light"
          }
        }
      ]
    },
    {
      "cell_type": "code",
      "execution_count": null,
      "metadata": {
        "id": "SMULK8xIW2LT",
        "colab": {
          "base_uri": "https://localhost:8080/",
          "height": 245
        },
        "outputId": "e7212a5d-ffc1-4ac2-db54-f7ad73923c6c"
      },
      "outputs": [
        {
          "output_type": "error",
          "ename": "NameError",
          "evalue": "ignored",
          "traceback": [
            "\u001b[0;31m---------------------------------------------------------------------------\u001b[0m",
            "\u001b[0;31mNameError\u001b[0m                                 Traceback (most recent call last)",
            "\u001b[0;32m<ipython-input-2-98d9363ab36f>\u001b[0m in \u001b[0;36m<module>\u001b[0;34m()\u001b[0m\n\u001b[1;32m      9\u001b[0m     }\n\u001b[1;32m     10\u001b[0m \u001b[0;31m# Create a based model\u001b[0m\u001b[0;34m\u001b[0m\u001b[0;34m\u001b[0m\u001b[0;34m\u001b[0m\u001b[0m\n\u001b[0;32m---> 11\u001b[0;31m \u001b[0mrf\u001b[0m \u001b[0;34m=\u001b[0m \u001b[0mRandomForestRegressor\u001b[0m\u001b[0;34m(\u001b[0m\u001b[0;34m)\u001b[0m\u001b[0;34m\u001b[0m\u001b[0;34m\u001b[0m\u001b[0m\n\u001b[0m\u001b[1;32m     12\u001b[0m \u001b[0;31m# Instantiate the grid search model\u001b[0m\u001b[0;34m\u001b[0m\u001b[0;34m\u001b[0m\u001b[0;34m\u001b[0m\u001b[0m\n\u001b[1;32m     13\u001b[0m grid_search = GridSearchCV(estimator = rf, param_grid = param_grid, \n",
            "\u001b[0;31mNameError\u001b[0m: name 'RandomForestRegressor' is not defined"
          ]
        }
      ],
      "source": [
        "from sklearn.model_selection import GridSearchCV\n",
        "# Create the parameter grid based on the results of random search \n",
        "param_grid = {\n",
        "    'bootstrap': [True],\n",
        "    'max_features':['auto', 'sqrt'],\n",
        "    'max_depth': [10, 20, 40],\n",
        "    'min_samples_leaf':[1,5,10],\n",
        "    'n_estimators':[300, 500,1000]\n",
        "    }\n",
        "# Create a based model\n",
        "rf = RandomForestRegressor()\n",
        "# Instantiate the grid search model\n",
        "grid_search = GridSearchCV(estimator = rf, param_grid = param_grid, \n",
        "                          cv = 3, n_jobs = -1, verbose = 2)"
      ]
    },
    {
      "cell_type": "code",
      "execution_count": null,
      "metadata": {
        "id": "kjiCq86kfzS9",
        "colab": {
          "base_uri": "https://localhost:8080/",
          "height": 171
        },
        "outputId": "0abf1f62-e799-4627-bf19-48b937a89e27"
      },
      "outputs": [
        {
          "output_type": "error",
          "ename": "NameError",
          "evalue": "ignored",
          "traceback": [
            "\u001b[0;31m---------------------------------------------------------------------------\u001b[0m",
            "\u001b[0;31mNameError\u001b[0m                                 Traceback (most recent call last)",
            "\u001b[0;32m<ipython-input-1-7912bbd68fbd>\u001b[0m in \u001b[0;36m<module>\u001b[0;34m()\u001b[0m\n\u001b[0;32m----> 1\u001b[0;31m \u001b[0mgrid_search\u001b[0m\u001b[0;34m.\u001b[0m\u001b[0mfit\u001b[0m\u001b[0;34m(\u001b[0m\u001b[0mX_train\u001b[0m\u001b[0;34m,\u001b[0m\u001b[0my_train\u001b[0m\u001b[0;34m)\u001b[0m\u001b[0;34m\u001b[0m\u001b[0;34m\u001b[0m\u001b[0m\n\u001b[0m",
            "\u001b[0;31mNameError\u001b[0m: name 'grid_search' is not defined"
          ]
        }
      ],
      "source": [
        "grid_search.fit(X_train,y_train)"
      ]
    },
    {
      "cell_type": "markdown",
      "metadata": {
        "id": "RWCzhGV-9MWF"
      },
      "source": [
        "#<b>Running XGBoost Regressor"
      ]
    },
    {
      "cell_type": "code",
      "execution_count": null,
      "metadata": {
        "id": "PlEM83Hz9DXr"
      },
      "outputs": [],
      "source": [
        "from xgboost import XGBRegressor\n",
        "from sklearn.model_selection import GridSearchCV\n",
        "import xgboost as xgb\n",
        "from hyperopt import STATUS_OK, Trials, fmin, hp, tpe"
      ]
    },
    {
      "cell_type": "code",
      "execution_count": null,
      "metadata": {
        "id": "6RNdnWG0VGRL"
      },
      "outputs": [],
      "source": [
        "# xg_reg = xgb.XGBRegressor(objective ='reg:squarederror', colsample_bytree = 0.3, learning_rate = 0.1, \n",
        "# max_depth = 5, alpha = 10, n_estimators = 10)"
      ]
    },
    {
      "cell_type": "code",
      "execution_count": null,
      "metadata": {
        "id": "ACnU5XeGMHtR"
      },
      "outputs": [],
      "source": [
        "xgb_model = xgb.XGBRegressor(random_state=0, objective='reg:squarederror')\n",
        "\n",
        "# set the hyperparameter for XGBRegressor\n",
        "param_tuning = {\n",
        "        'learning_rate': [0.01, 0.1],\n",
        "        'max_depth': [3, 5, 7, 10],\n",
        "        'min_child_weight': [1, 3,4],\n",
        "        'subsample': [0.5, 0.7,0.75],\n",
        "        'colsample_bytree': [0.5, 0.7,1],\n",
        "        'n_estimators' : [100, 200,300,400],\n",
        "        'gama':[0,1,2,3,4,5],\n",
        "        'objective': ['reg:squarederror']\n",
        "    }\n",
        "#grid_values = {'n_estimators' : [200], 'max_depth': [8], 'min_samples_' : [40],'learning_rate' : [0.2]}\n",
        "xgb_model = GridSearchCV(xgb_model, param_grid = param_tuning,scoring = 'r2', cv=5,verbose=1,)"
      ]
    },
    {
      "cell_type": "code",
      "execution_count": null,
      "metadata": {
        "id": "vu96YuV1MHdF"
      },
      "outputs": [],
      "source": [
        "xgb_model.fit(X_train,y_train)"
      ]
    },
    {
      "cell_type": "code",
      "execution_count": null,
      "metadata": {
        "id": "Zo30suPJiAIX"
      },
      "outputs": [],
      "source": [
        "print('The best fit alpha value is found out to be :' ,xgb_model.best_params_)\n",
        "print('The R2 score using the same alpha is :', xgb_model.best_score_)"
      ]
    },
    {
      "cell_type": "markdown",
      "metadata": {
        "id": "RDUDMFdYXfvM"
      },
      "source": [
        "**The best parameters for the XGBoost which we already tested before to save time when running it again.**\n",
        "* {'learning_rate': 0.2, 'max_depth': 8, 'min_samples_': 40, 'n_estimators': 200}"
      ]
    },
    {
      "cell_type": "code",
      "execution_count": null,
      "metadata": {
        "id": "TQ2htt17MHZ1"
      },
      "outputs": [],
      "source": [
        "xgb_model.best_params_"
      ]
    },
    {
      "cell_type": "code",
      "execution_count": null,
      "metadata": {
        "id": "A7G78_5RdEkT"
      },
      "outputs": [],
      "source": [
        "xgb_model.best_score_"
      ]
    },
    {
      "cell_type": "code",
      "execution_count": null,
      "metadata": {
        "id": "dqeni3E6dBi5"
      },
      "outputs": [],
      "source": [
        "y_pred_xgb_train=xgb_model.predict(X_train)\n",
        "y_pred_xgb_test=xgb_model.predict(X_test)"
      ]
    },
    {
      "cell_type": "markdown",
      "metadata": {
        "id": "LDLl8XUpeWTQ"
      },
      "source": [
        "#<b>Model Evaluation"
      ]
    },
    {
      "cell_type": "code",
      "execution_count": null,
      "metadata": {
        "id": "7FlLrGIZeX3t"
      },
      "outputs": [],
      "source": [
        "xgb_train_mse  = mean_squared_error(y_train, y_pred_xgb_train)\n",
        "print(\"Train MSE :\" , xgb_train_mse)\n",
        "\n",
        "xgb_train_r2 = r2_score(y_train, y_pred_xgb_train)\n",
        "print(\"Train R2 :\" ,xgb_train_r2)\n",
        "\n",
        "xgb_train_r2_= 1-(1-r2_score((y_train), (y_pred_xgb_train)))*((X_train.shape[0]-1)/(X_train.shape[0]-X_train.shape[1]-1))\n",
        "print(\"Train Adjusted R2 : \", xgb_train_r2_)"
      ]
    },
    {
      "cell_type": "code",
      "execution_count": null,
      "metadata": {
        "id": "JFTa4HWPfJoM"
      },
      "outputs": [],
      "source": [
        "xgb_test_mse  = mean_squared_error(y_test, y_pred_xgb_test)\n",
        "print(\"Test MSE :\" , xgb_test_mse)\n",
        "\n",
        "xgb_test_r2 = r2_score(y_test, y_pred_xgb_test)\n",
        "print(\"Test R2 :\" ,xgb_test_r2)\n",
        "\n",
        "xgb_test_r2_= 1-(1-r2_score((y_test), (y_pred_xgb_test)))*((X_test.shape[0]-1)/(X_test.shape[0]-X_test.shape[1]-1))\n",
        "print(\"Test Adjusted R2 : \", xgb_test_r2_)"
      ]
    },
    {
      "cell_type": "code",
      "execution_count": null,
      "metadata": {
        "id": "WoNo2nwQfL4o"
      },
      "outputs": [],
      "source": [
        "plt.figure(figsize= (10,5))\n",
        "c= [i for i in range(0, len(y_test))]\n",
        "plt.plot(c, y_test-y_pred_xgb_test, color='blue', linewidth=2.5, linestyle='-')\n",
        "plt.title('Error Term', fontsize=20)\n",
        "plt.show()"
      ]
    },
    {
      "cell_type": "code",
      "execution_count": null,
      "metadata": {
        "id": "LcpXECjDfL7X"
      },
      "outputs": [],
      "source": [
        "#Actual vs Prediction\n",
        "plt.figure(figsize= (10,5))\n",
        "c= [i for i in range(0, len(y_test))]\n",
        "plt.plot(c, y_test, color='blue', linewidth=2.5, linestyle='-')\n",
        "plt.plot(c, y_pred_xgb_test, color='red', linewidth=2.5, linestyle='-')\n",
        "plt.title('Actual vs Predicted for Test Data', fontsize=20)\n",
        "plt.legend([\"Actual\", \"Predicted\"])\n",
        "plt.show()"
      ]
    },
    {
      "cell_type": "markdown",
      "metadata": {
        "id": "6MVkOoAFfa1D"
      },
      "source": [
        "Finally, let's also look the feature importance."
      ]
    },
    {
      "cell_type": "code",
      "execution_count": null,
      "metadata": {
        "id": "6xcvNhcOfL10"
      },
      "outputs": [],
      "source": [
        "importance_df= pd.DataFrame({'Features': features, 'Feature_importance': list(xgb_model.best_estimator_.feature_importances_)})\n",
        "importance_df"
      ]
    },
    {
      "cell_type": "code",
      "execution_count": null,
      "metadata": {
        "id": "rRWmQRMMfmGq"
      },
      "outputs": [],
      "source": [
        "importance_df.sort_values(by=['Feature_importance'],ascending=False,inplace=True)"
      ]
    },
    {
      "cell_type": "markdown",
      "metadata": {
        "id": "Cn42VkCsfps3"
      },
      "source": [
        "Let's look it by using bar grabh."
      ]
    },
    {
      "cell_type": "code",
      "execution_count": null,
      "metadata": {
        "id": "wozsPC9rfmDw"
      },
      "outputs": [],
      "source": [
        "plt.figure(figsize=(15,6))\n",
        "plt.title('Feature Importance', fontsize=20)\n",
        "sns.barplot(x='Features',y=\"Feature_importance\", data=importance_df[:6])\n",
        "plt.show()"
      ]
    },
    {
      "cell_type": "markdown",
      "metadata": {
        "id": "u9zDYVi3fyHI"
      },
      "source": [
        "Clearly, we can see distance is the top contributor to trip duration followed by different days of the weeks."
      ]
    },
    {
      "cell_type": "code",
      "execution_count": null,
      "metadata": {
        "id": "AIMHPz2YfmCb"
      },
      "outputs": [],
      "source": [
        "#Plotting the error terms to understand the distribution.\n",
        "plt.figure(figsize=(10,5))\n",
        "sns.distplot(y_test - y_pred_xgb_test )\n",
        "plt.title('Error Term', fontsize=20)\n",
        "plt.show()"
      ]
    },
    {
      "cell_type": "markdown",
      "metadata": {
        "id": "YUXkLC_0f-MU"
      },
      "source": [
        "#<b>Evaluating the models\n",
        "Models Summary for the Train data."
      ]
    },
    {
      "cell_type": "code",
      "execution_count": null,
      "metadata": {
        "id": "dNuaDGtRfl_o"
      },
      "outputs": [],
      "source": [
        "models= ['Linear Regression', 'Lasso Regression', 'Ridge Regression','DecisionTree Regressor','XGBoost Regressor']\n",
        "train_mse= [lr_train_mse, lasso_train_mse, ridge_train_mse, dt_train_mse, xgb_train_mse]\n",
        "train_rmse= [lr_train_rmse, lasso_train_rmse, ridge_train_rmse, dt_train_rmse, xgb_train_rmse]\n",
        "train_r2= [lr_train_r2, lasso_train_r2, ridge_train_r2, dt_train_r2, xgb_train_r2]\n",
        "train_adjusted_r2= [lr_train_r2_, lasso_train_r2_, ridge_train_r2_, dt_train_r2_, xgb_train_r2_]"
      ]
    },
    {
      "cell_type": "markdown",
      "metadata": {
        "id": "TDwsXjNIgMim"
      },
      "source": [
        "<b>Models Summary for the test data."
      ]
    },
    {
      "cell_type": "code",
      "execution_count": null,
      "metadata": {
        "id": "V8t4M4K0fl-Q"
      },
      "outputs": [],
      "source": [
        "models= ['Linear Regression', 'Lasso Regression', 'Ridge Regression','DecisionTree Regressor','XGBoost Regressor']\n",
        "test_mse= [lr_test_mse, lasso_test_mse, ridge_test_mse, dt_test_mse, xgb_test_mse]\n",
        "test_rmse= [lr_test_rmse, lasso_test_rmse, ridge_test_rmse, dt_test_rmse, xgb_test_rmse]\n",
        "test_r2= [lr_test_r2, lasso_test_r2, ridge_test_r2, dt_test_r2, xgb_test_r2]\n",
        "test_adjusted_r2= [lr_test_r2_, lasso_test_r2_, ridge_test_r2_, dt_test_r2_, xgb_test_r2_]"
      ]
    },
    {
      "cell_type": "code",
      "execution_count": null,
      "metadata": {
        "id": "AwR2LxCHfl7q"
      },
      "outputs": [],
      "source": [
        "Train_data_df=pd.DataFrame({'Model Name': models, 'Train MSE': train_mse, 'Train RMSE': train_rmse, 'Train R^2': train_r2, \n",
        "                            'Train Adjusted R^2': train_adjusted_r2})\n",
        "Train_data_df"
      ]
    },
    {
      "cell_type": "code",
      "execution_count": null,
      "metadata": {
        "id": "5v4rYz_ufl6X"
      },
      "outputs": [],
      "source": [
        "Test_data_df= pd.DataFrame({'Model Name': models, 'Test MSE': test_mse, 'Test RMSE': test_rmse, 'Test R^2': test_r2, \n",
        "                            'Test Adjusted R^2': test_adjusted_r2})\n",
        "Test_data_df"
      ]
    },
    {
      "cell_type": "markdown",
      "metadata": {
        "id": "zxfePvvIgeCA"
      },
      "source": [
        "#**Conclusion**\n",
        "* We can see that MSE and RMSE which are the metrics used to evaluate the performance of regression model of **Decision Tree** and **XGBoost Regressor** is not varying much during traing and testing time. Also the R^2 is about same during training and Testing time.\n",
        "* The Linear models don't show good performance on our training and testing environment.\n",
        "* From above table we can conclude that **XGBoost Regressor** is the best models as compare to the other models to predict the trip duration for a particular taxi."
      ]
    }
  ],
  "metadata": {
    "colab": {
      "collapsed_sections": [
        "Y06xIdG26kRF",
        "WWeU1f9bwqQq"
      ],
      "name": "Copy of Vilas Copy of NYC Taxi Trip Time Prediction - Capstone Project.ipynb",
      "provenance": [],
      "include_colab_link": true
    },
    "kernelspec": {
      "display_name": "Python 3",
      "language": "python",
      "name": "python3"
    },
    "language_info": {
      "codemirror_mode": {
        "name": "ipython",
        "version": 3
      },
      "file_extension": ".py",
      "mimetype": "text/x-python",
      "name": "python",
      "nbconvert_exporter": "python",
      "pygments_lexer": "ipython3",
      "version": "3.6.6"
    }
  },
  "nbformat": 4,
  "nbformat_minor": 0
}